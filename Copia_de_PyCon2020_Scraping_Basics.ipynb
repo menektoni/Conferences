{
  "nbformat": 4,
  "nbformat_minor": 0,
  "metadata": {
    "colab": {
      "name": "Copia de PyCon2020_Scraping_Basics.ipynb",
      "provenance": [],
      "collapsed_sections": [],
      "include_colab_link": true
    },
    "kernelspec": {
      "name": "python3",
      "display_name": "Python 3"
    }
  },
  "cells": [
    {
      "cell_type": "markdown",
      "metadata": {
        "id": "view-in-github",
        "colab_type": "text"
      },
      "source": [
        "<a href=\"https://colab.research.google.com/github/menektoni/Conferences/blob/master/Copia_de_PyCon2020_Scraping_Basics.ipynb\" target=\"_parent\"><img src=\"https://colab.research.google.com/assets/colab-badge.svg\" alt=\"Open In Colab\"/></a>"
      ]
    },
    {
      "cell_type": "markdown",
      "metadata": {
        "id": "kZy-RvQX6l-3",
        "colab_type": "text"
      },
      "source": [
        "<center>\n",
        " <img src=\"https://drive.google.com/uc?export=view&id=1JpQLPJGs44Tu1Z-xujVGKDyb6ikSwlCl\"  alt=\"PyCon header\" height=\"150\"/>\n",
        "\n",
        "<br>\n",
        "<h1>\n",
        "<TT>It's Officially Legal so Let's Scrape the Web</TT>\n",
        "</h1>\n",
        "Kimberly Fessel  &nbsp &#8226 &nbsp\n",
        "<img src=\"https://drive.google.com/uc?export=view&id=1aMmmYHcHkwRFcUw5v_HD3i0Kt5sGH7Gq\"  alt=\"Twitter logo\" height=\"20\"/> @kimberlyfessel &nbsp &#8226 &nbsp\n",
        "<img src=\"https://drive.google.com/uc?export=view&id=1s8InMOalYkxWyMeu1vhG5LyF1Jc9wczH\"  alt=\"LinkedIn logo\" height=\"20\"/> &nbsp kimberlyfessel\n",
        "<br> <br>\n",
        "<h2> <TT> Scraping Basics </TT> </h2>\n",
        "</center>\n",
        "<br>\n",
        "\n",
        "---\n",
        "<br>\n",
        "\n",
        "This content is also available for download as a Jupyter Notebook: [here](https://github.com/kimfetti/Conferences/blob/master/PyCon_2020/scraping_basics.ipynb)\n",
        "\n"
      ]
    },
    {
      "cell_type": "markdown",
      "metadata": {
        "id": "sGhoHtzhIj5k",
        "colab_type": "text"
      },
      "source": [
        "#Introduction to Google Colab and `BeautifulSoup`"
      ]
    },
    {
      "cell_type": "markdown",
      "metadata": {
        "id": "hW6O_39pSlfP",
        "colab_type": "text"
      },
      "source": [
        "\n",
        "<img src=\"https://drive.google.com/uc?export=view&id=1o6M5j-41qjCA85qgETgG0fJooZw6HXFZ\"  alt=\"BeautifulSoup logo\" height=\"100\"/>\n",
        "\n",
        "- Executes Python code on the fly\n",
        "- Interactivity allows for instant feedback\n",
        "- Memory persists across cells\n",
        "- `shift+enter` \n",
        "- Use [markdown](https://blog.ghost.org/markdown/) (TEXT) mode for adding text like this\n",
        "\n",
        "<img src=\"https://drive.google.com/uc?export=view&id=1cY9SICwwAbrNmuhTha3ilBl330jDie51\"  alt=\"BeautifulSoup logo\" height=\"100\"/>\n",
        "\n",
        "- open-source Python library\n",
        "- extract data from HTML files\n",
        "- understands HTML structure by working with a [parser](https://www.crummy.com/software/BeautifulSoup/bs4/doc/#installing-a-parser) (`lxml`, `html5lib`, etc.) \n",
        "- [BeautifulSoup documentation](https://www.crummy.com/software/BeautifulSoup/bs4/doc/) for reference\n",
        "<br> <br>\n",
        "\n",
        "<img src=\"https://drive.google.com/uc?export=view&id=1otbY2IvQ_kzks6OMJvfHi_Zf1Zfvp0Nf\"  alt=\"info\" height=\"20\"/> `BeautifulSoup` does not actually gather information from the web.  We will use the `requests` library for that."
      ]
    },
    {
      "cell_type": "markdown",
      "metadata": {
        "id": "RDuD_qj9IxLP",
        "colab_type": "text"
      },
      "source": [
        "#Learn to Scrape with Simple Inline HTML\n",
        "\n",
        "Let's start with this simple HTML page given below as a string: "
      ]
    },
    {
      "cell_type": "code",
      "metadata": {
        "id": "H00yNF3_uuKB",
        "colab_type": "code",
        "colab": {}
      },
      "source": [
        "simple_html = \"\"\"\n",
        "<html>\n",
        "\n",
        "<head>\n",
        "  <style>\n",
        "    li {font-size: 18px;}\n",
        "  </style\n",
        "</head>\n",
        "\n",
        "<body>\n",
        "  <div style=\"border-style: dotted; padding: 10px\">\n",
        "    <h1>Today's Learning Objectives</h1>\n",
        "    <ul>\n",
        "      <li>Decipher basic HTML</li>\n",
        "      <li>Retrieve information from Internet</li>\n",
        "      <li>Parse web data</li>\n",
        "      <li>Gather and prepare data systematically</li>\n",
        "    </ul>\n",
        "    <br>\n",
        "  </div>\n",
        "</body>\n",
        "\n",
        "</html>\n",
        "\"\"\""
      ],
      "execution_count": 0,
      "outputs": []
    },
    {
      "cell_type": "markdown",
      "metadata": {
        "id": "UKwJwQiHjmhZ",
        "colab_type": "text"
      },
      "source": [
        "<img src=\"https://drive.google.com/uc?export=view&id=18s6CjUtjr0M24K57uMdtmXvK5TrV34Tv\"  alt=\"exercise\" height=\"20\"/>  **Quick HTML Review**\n",
        "> What tags do we see on this page?  \n",
        "> What attributes?  \n",
        "> What's the inner HTML text of the header?"
      ]
    },
    {
      "cell_type": "markdown",
      "metadata": {
        "id": "3AqWBqN70t-e",
        "colab_type": "text"
      },
      "source": [
        "Now we will tell Python to render this string as HTML."
      ]
    },
    {
      "cell_type": "code",
      "metadata": {
        "id": "WR7vpgdGvQRy",
        "colab_type": "code",
        "outputId": "23122644-4666-4571-dace-2c75e6e69e74",
        "colab": {
          "base_uri": "https://localhost:8080/",
          "height": 213
        }
      },
      "source": [
        "from IPython.core.display import display, HTML\n",
        "display(HTML(simple_html)) "
      ],
      "execution_count": 0,
      "outputs": [
        {
          "output_type": "display_data",
          "data": {
            "text/html": [
              "\n",
              "<html>\n",
              "\n",
              "<head>\n",
              "  <style>\n",
              "    li {font-size: 18px;}\n",
              "  </style\n",
              "</head>\n",
              "\n",
              "<body>\n",
              "  <div style=\"border-style: dotted; padding: 10px\">\n",
              "    <h1>Today's Learning Objectives</h1>\n",
              "    <ul>\n",
              "      <li>Decipher basic HTML</li>\n",
              "      <li>Retrieve information from Internet</li>\n",
              "      <li>Parse web data</li>\n",
              "      <li>Gather and prepare data systematically</li>\n",
              "    </ul>\n",
              "    <br>\n",
              "  </div>\n",
              "</body>\n",
              "\n",
              "</html>\n"
            ],
            "text/plain": [
              "<IPython.core.display.HTML object>"
            ]
          },
          "metadata": {
            "tags": []
          }
        }
      ]
    },
    {
      "cell_type": "code",
      "metadata": {
        "id": "6H19dsGy7cjN",
        "colab_type": "code",
        "colab": {}
      },
      "source": [
        ""
      ],
      "execution_count": 0,
      "outputs": []
    },
    {
      "cell_type": "markdown",
      "metadata": {
        "id": "2JbPxSix3MP6",
        "colab_type": "text"
      },
      "source": [
        "This simple \"page\" contains a list of learning objectives for today's workshop. Now we will see how `BeautifulSoup` can extract information from this HTML.\n",
        "\n",
        "First we need to import `BeautifulSoup` and parse the HTML string."
      ]
    },
    {
      "cell_type": "code",
      "metadata": {
        "id": "9NTv9j2G5Omt",
        "colab_type": "code",
        "colab": {}
      },
      "source": [
        "from bs4 import BeautifulSoup as bs"
      ],
      "execution_count": 0,
      "outputs": []
    },
    {
      "cell_type": "code",
      "metadata": {
        "id": "ZxqSZc7UPxbx",
        "colab_type": "code",
        "colab": {}
      },
      "source": [
        "soup = bs(simple_html)"
      ],
      "execution_count": 0,
      "outputs": []
    },
    {
      "cell_type": "code",
      "metadata": {
        "id": "08WUfmF0QIKz",
        "colab_type": "code",
        "outputId": "09b81d14-fc99-4989-b1ae-3c419c73f9be",
        "colab": {
          "base_uri": "https://localhost:8080/",
          "height": 341
        }
      },
      "source": [
        "soup"
      ],
      "execution_count": 0,
      "outputs": [
        {
          "output_type": "execute_result",
          "data": {
            "text/plain": [
              "<html>\n",
              "<head>\n",
              "<style>\n",
              "    li {font-size: 18px;}\n",
              "  </style>\n",
              "</head><body>\n",
              "<div style=\"border-style: dotted; padding: 10px\">\n",
              "<h1>Today's Learning Objectives</h1>\n",
              "<ul>\n",
              "<li>Decipher basic HTML</li>\n",
              "<li>Retrieve information from Internet</li>\n",
              "<li>Parse web data</li>\n",
              "<li>Gather and prepare data systematically</li>\n",
              "</ul>\n",
              "<br/>\n",
              "</div>\n",
              "</body>\n",
              "</html>"
            ]
          },
          "metadata": {
            "tags": []
          },
          "execution_count": 5
        }
      ]
    },
    {
      "cell_type": "markdown",
      "metadata": {
        "id": "bsv1EITAQOqp",
        "colab_type": "text"
      },
      "source": [
        "When we print out `soup`, it looks like `BeautifulSoup` hasn't done anything!  But no worries -- it has indeed parsed our code and `BeautifulSoup` now knows how to navigate through the HTML DOM."
      ]
    },
    {
      "cell_type": "code",
      "metadata": {
        "id": "q7JIsSw3Qgjn",
        "colab_type": "code",
        "outputId": "9e906370-c3cf-44fb-aa81-c630f9a022b0",
        "colab": {
          "base_uri": "https://localhost:8080/",
          "height": 35
        }
      },
      "source": [
        "type(soup)"
      ],
      "execution_count": 0,
      "outputs": [
        {
          "output_type": "execute_result",
          "data": {
            "text/plain": [
              "bs4.BeautifulSoup"
            ]
          },
          "metadata": {
            "tags": []
          },
          "execution_count": 6
        }
      ]
    },
    {
      "cell_type": "markdown",
      "metadata": {
        "id": "LkjBrNoJLNVc",
        "colab_type": "text"
      },
      "source": [
        "### Find by tag"
      ]
    },
    {
      "cell_type": "markdown",
      "metadata": {
        "id": "b6Tphk26QlYp",
        "colab_type": "text"
      },
      "source": [
        "We begin by using the `find()` method to extract the header of our HTML."
      ]
    },
    {
      "cell_type": "code",
      "metadata": {
        "id": "y19Bk4CHLPsi",
        "colab_type": "code",
        "outputId": "ddb093e9-7529-4d91-bda2-4d611a28254e",
        "colab": {
          "base_uri": "https://localhost:8080/",
          "height": 35
        }
      },
      "source": [
        "soup.find('h1')"
      ],
      "execution_count": 0,
      "outputs": [
        {
          "output_type": "execute_result",
          "data": {
            "text/plain": [
              "<h1>Today's Learning Objectives</h1>"
            ]
          },
          "metadata": {
            "tags": []
          },
          "execution_count": 7
        }
      ]
    },
    {
      "cell_type": "code",
      "metadata": {
        "id": "POZRpITeRWLN",
        "colab_type": "code",
        "outputId": "f07551d9-7ee6-414f-b05e-414c8f4045b4",
        "colab": {
          "base_uri": "https://localhost:8080/",
          "height": 35
        }
      },
      "source": [
        "type(soup.find('h1'))"
      ],
      "execution_count": 0,
      "outputs": [
        {
          "output_type": "execute_result",
          "data": {
            "text/plain": [
              "bs4.element.Tag"
            ]
          },
          "metadata": {
            "tags": []
          },
          "execution_count": 9
        }
      ]
    },
    {
      "cell_type": "markdown",
      "metadata": {
        "id": "2IOnOX64RZTg",
        "colab_type": "text"
      },
      "source": [
        "`find()` returns a tagged element, but we can grab just the inner HTML text instead."
      ]
    },
    {
      "cell_type": "code",
      "metadata": {
        "id": "24AqJmFpRrNA",
        "colab_type": "code",
        "outputId": "f1014a8b-eb23-4e72-8360-39188cad8f09",
        "colab": {
          "base_uri": "https://localhost:8080/",
          "height": 35
        }
      },
      "source": [
        "soup.find('h1').text"
      ],
      "execution_count": 0,
      "outputs": [
        {
          "output_type": "execute_result",
          "data": {
            "text/plain": [
              "\"Today's Learning Objectives\""
            ]
          },
          "metadata": {
            "tags": []
          },
          "execution_count": 10
        }
      ]
    },
    {
      "cell_type": "code",
      "metadata": {
        "id": "TqkdCh4URrov",
        "colab_type": "code",
        "outputId": "f999f251-cf18-4a3b-d6de-cfff30755b36",
        "colab": {
          "base_uri": "https://localhost:8080/",
          "height": 35
        }
      },
      "source": [
        "type(soup.find('h1').text)"
      ],
      "execution_count": 0,
      "outputs": [
        {
          "output_type": "execute_result",
          "data": {
            "text/plain": [
              "str"
            ]
          },
          "metadata": {
            "tags": []
          },
          "execution_count": 11
        }
      ]
    },
    {
      "cell_type": "markdown",
      "metadata": {
        "id": "WliT3c4pR0mj",
        "colab_type": "text"
      },
      "source": [
        "We now have a way to extract text from a webpage -- powerful stuff!  \n",
        "\n",
        "What do you think will be returned if we look for list tags (`li`)?"
      ]
    },
    {
      "cell_type": "code",
      "metadata": {
        "id": "JyfRsaFnRrrg",
        "colab_type": "code",
        "outputId": "10be34da-e5a8-4468-9bbc-43becc69f0aa",
        "colab": {
          "base_uri": "https://localhost:8080/",
          "height": 35
        }
      },
      "source": [
        "soup.find('li')"
      ],
      "execution_count": 0,
      "outputs": [
        {
          "output_type": "execute_result",
          "data": {
            "text/plain": [
              "<li>Decipher basic HTML</li>"
            ]
          },
          "metadata": {
            "tags": []
          },
          "execution_count": 12
        }
      ]
    },
    {
      "cell_type": "markdown",
      "metadata": {
        "id": "3yp3vUeZSEoC",
        "colab_type": "text"
      },
      "source": [
        "<img src=\"https://drive.google.com/uc?export=view&id=1DzGWG2ZiMDuh4f4ZSQJiA85q-rs6FRYl\"  alt=\"warning\" height=\"20\"/> `BeautifulSoup` returns ONLY the FIRST matching element when we use `find()`."
      ]
    },
    {
      "cell_type": "markdown",
      "metadata": {
        "id": "DJ75L1fvLP6l",
        "colab_type": "text"
      },
      "source": [
        "###Find all"
      ]
    },
    {
      "cell_type": "markdown",
      "metadata": {
        "id": "tbOtBcr6Sg0E",
        "colab_type": "text"
      },
      "source": [
        "If we would like `BeautifulSoup` to return ALL matching elements, we can use `find_all()` instead."
      ]
    },
    {
      "cell_type": "code",
      "metadata": {
        "id": "_mGMr9VMLUX1",
        "colab_type": "code",
        "outputId": "18e2dc6b-28ab-4fb1-85b6-664ee130ec15",
        "colab": {
          "base_uri": "https://localhost:8080/",
          "height": 89
        }
      },
      "source": [
        "soup.find_all('li')"
      ],
      "execution_count": 0,
      "outputs": [
        {
          "output_type": "execute_result",
          "data": {
            "text/plain": [
              "[<li>Decipher basic HTML</li>,\n",
              " <li>Retrieve information from Internet</li>,\n",
              " <li>Parse web data</li>,\n",
              " <li>Gather and prepare data systematically</li>]"
            ]
          },
          "metadata": {
            "tags": []
          },
          "execution_count": 13
        }
      ]
    },
    {
      "cell_type": "code",
      "metadata": {
        "id": "x0k6_ZBXTkuu",
        "colab_type": "code",
        "outputId": "a187c071-73b4-481e-87c4-35aba62cf9e9",
        "colab": {
          "base_uri": "https://localhost:8080/",
          "height": 35
        }
      },
      "source": [
        "type(soup.find_all('li'))"
      ],
      "execution_count": 0,
      "outputs": [
        {
          "output_type": "execute_result",
          "data": {
            "text/plain": [
              "bs4.element.ResultSet"
            ]
          },
          "metadata": {
            "tags": []
          },
          "execution_count": 14
        }
      ]
    },
    {
      "cell_type": "markdown",
      "metadata": {
        "id": "pHno1ME9Tx-I",
        "colab_type": "text"
      },
      "source": [
        "Using `find_all()` yields a result set containing all of list elements on the \"page.\"  You can basically think of a result set as acting like a list. \n",
        "\n",
        "<img src=\"https://drive.google.com/uc?export=view&id=1DzGWG2ZiMDuh4f4ZSQJiA85q-rs6FRYl\"  alt=\"warning\" height=\"20\"/> `BeautifulSoup` does not allow you to apply `.text` to a result set.  The following code **will fail**."
      ]
    },
    {
      "cell_type": "code",
      "metadata": {
        "id": "WuCGOhboTkxY",
        "colab_type": "code",
        "outputId": "fea26e02-2630-41e5-94af-3834ed2f2513",
        "colab": {
          "base_uri": "https://localhost:8080/",
          "height": 300
        }
      },
      "source": [
        "soup.find_all('li').text      #error"
      ],
      "execution_count": 0,
      "outputs": [
        {
          "output_type": "error",
          "ename": "AttributeError",
          "evalue": "ignored",
          "traceback": [
            "\u001b[0;31m---------------------------------------------------------------------------\u001b[0m",
            "\u001b[0;31mAttributeError\u001b[0m                            Traceback (most recent call last)",
            "\u001b[0;32m<ipython-input-15-5bc3705786e0>\u001b[0m in \u001b[0;36m<module>\u001b[0;34m()\u001b[0m\n\u001b[0;32m----> 1\u001b[0;31m \u001b[0msoup\u001b[0m\u001b[0;34m.\u001b[0m\u001b[0mfind_all\u001b[0m\u001b[0;34m(\u001b[0m\u001b[0;34m'li'\u001b[0m\u001b[0;34m)\u001b[0m\u001b[0;34m.\u001b[0m\u001b[0mtext\u001b[0m      \u001b[0;31m#error\u001b[0m\u001b[0;34m\u001b[0m\u001b[0;34m\u001b[0m\u001b[0m\n\u001b[0m",
            "\u001b[0;32m/usr/local/lib/python3.6/dist-packages/bs4/element.py\u001b[0m in \u001b[0;36m__getattr__\u001b[0;34m(self, key)\u001b[0m\n\u001b[1;32m   1882\u001b[0m     \u001b[0;32mdef\u001b[0m \u001b[0m__getattr__\u001b[0m\u001b[0;34m(\u001b[0m\u001b[0mself\u001b[0m\u001b[0;34m,\u001b[0m \u001b[0mkey\u001b[0m\u001b[0;34m)\u001b[0m\u001b[0;34m:\u001b[0m\u001b[0;34m\u001b[0m\u001b[0;34m\u001b[0m\u001b[0m\n\u001b[1;32m   1883\u001b[0m         raise AttributeError(\n\u001b[0;32m-> 1884\u001b[0;31m             \u001b[0;34m\"ResultSet object has no attribute '%s'. You're probably treating a list of items like a single item. Did you call find_all() when you meant to call find()?\"\u001b[0m \u001b[0;34m%\u001b[0m \u001b[0mkey\u001b[0m\u001b[0;34m\u001b[0m\u001b[0;34m\u001b[0m\u001b[0m\n\u001b[0m\u001b[1;32m   1885\u001b[0m         )\n",
            "\u001b[0;31mAttributeError\u001b[0m: ResultSet object has no attribute 'text'. You're probably treating a list of items like a single item. Did you call find_all() when you meant to call find()?"
          ]
        }
      ]
    },
    {
      "cell_type": "markdown",
      "metadata": {
        "id": "Z4fu3oHxUhOP",
        "colab_type": "text"
      },
      "source": [
        "Instead, you must apply `.text` to each item in the result set individually."
      ]
    },
    {
      "cell_type": "code",
      "metadata": {
        "id": "hdAvyYN6UWig",
        "colab_type": "code",
        "outputId": "ddbc0175-afa0-4e8f-fc2d-242631bc2767",
        "colab": {
          "base_uri": "https://localhost:8080/",
          "height": 89
        }
      },
      "source": [
        "for item in soup.find_all('li'):\n",
        "  print(item.text)"
      ],
      "execution_count": 0,
      "outputs": [
        {
          "output_type": "stream",
          "text": [
            "Decipher basic HTML\n",
            "Retrieve information from Internet\n",
            "Parse web data\n",
            "Gather and prepare data systematically\n"
          ],
          "name": "stdout"
        }
      ]
    },
    {
      "cell_type": "code",
      "metadata": {
        "id": "QKEltegqUWlT",
        "colab_type": "code",
        "outputId": "ce261a51-a874-4863-f833-efe5f909a589",
        "colab": {
          "base_uri": "https://localhost:8080/",
          "height": 89
        }
      },
      "source": [
        "learning_objectives = [item.text for item in soup.find_all('li')]\n",
        "\n",
        "learning_objectives"
      ],
      "execution_count": 0,
      "outputs": [
        {
          "output_type": "execute_result",
          "data": {
            "text/plain": [
              "['Decipher basic HTML',\n",
              " 'Retrieve information from Internet',\n",
              " 'Parse web data',\n",
              " 'Gather and prepare data systematically']"
            ]
          },
          "metadata": {
            "tags": []
          },
          "execution_count": 17
        }
      ]
    },
    {
      "cell_type": "markdown",
      "metadata": {
        "id": "UJl4-qR0U_oG",
        "colab_type": "text"
      },
      "source": [
        "<img src=\"https://drive.google.com/uc?export=view&id=1b88t_6cp1ozWJydV1CyN2k0ZAyPTZh1V\"  alt=\"tip\" height=\"22\"/>  The two **most common mistakes** I see in web scraping with `BeautifulSoup` are:\n",
        "- Using `find()` when you really want `find_all()`\n",
        "- Attempting to apply `.text` to a result set like the output of `find_all()`"
      ]
    },
    {
      "cell_type": "markdown",
      "metadata": {
        "id": "FZExVtIZMOm4",
        "colab_type": "text"
      },
      "source": [
        "###Exercises"
      ]
    },
    {
      "cell_type": "markdown",
      "metadata": {
        "id": "OOYU0rktXn5c",
        "colab_type": "text"
      },
      "source": [
        "For the exercises that follow, please use this HTML code describing today's agenda and tools:"
      ]
    },
    {
      "cell_type": "code",
      "metadata": {
        "id": "SBcOBj8lMQV4",
        "colab_type": "code",
        "colab": {}
      },
      "source": [
        "workshop_html = \"\"\"\n",
        "<html>\n",
        "\n",
        "<body>\n",
        "  <h1>Today's Workshop</h1>\n",
        "  <div id='agenda' style=\"background-color: aliceblue\">\n",
        "    <h2>Agenda</h2>\n",
        "    <p>Today's workshop is comprised of three main sections:</p>\n",
        "    <ol>\n",
        "      <li>HTML Basics</li>\n",
        "      <li>Scraping Basics</li>\n",
        "      <li>Scraping Pipeline</li>\n",
        "    </ol>\n",
        "  </div>\n",
        "  \n",
        "  <div id='tools' style='background-color: honeydew'>\n",
        "    <h2>Tools</h2>\n",
        "    <p>You will be learning about two primary Python libraries:</p>  \n",
        "    <ol>\n",
        "      <li>BeautifulSoup</li>\n",
        "      <li>requests</li>\n",
        "    </ol>\n",
        "  </div>\n",
        "</body>\n",
        "\n",
        "</html>\n",
        "\"\"\""
      ],
      "execution_count": 0,
      "outputs": []
    },
    {
      "cell_type": "code",
      "metadata": {
        "id": "u3wwCI9NJZPz",
        "colab_type": "code",
        "outputId": "f603931a-1d4f-402e-af51-72834366ed06",
        "colab": {
          "base_uri": "https://localhost:8080/",
          "height": 330
        }
      },
      "source": [
        "from IPython.core.display import display, HTML\n",
        "display(HTML(workshop_html)) "
      ],
      "execution_count": 0,
      "outputs": [
        {
          "output_type": "display_data",
          "data": {
            "text/html": [
              "\n",
              "<html>\n",
              "\n",
              "<body>\n",
              "  <h1>Today's Workshop</h1>\n",
              "  <div id='agenda' style=\"background-color: aliceblue\">\n",
              "    <h2>Agenda</h2>\n",
              "    <p>Today's workshop is comprised of three main sections:</p>\n",
              "    <ol>\n",
              "      <li>HTML Basics</li>\n",
              "      <li>Scraping Basics</li>\n",
              "      <li>Scraping Pipeline</li>\n",
              "    </ol>\n",
              "  </div>\n",
              "  \n",
              "  <div id='tools' style='background-color: honeydew'>\n",
              "    <h2>Tools</h2>\n",
              "    <p>You will be learning about two primary Python libraries:</p>  \n",
              "    <ol>\n",
              "      <li>BeautifulSoup</li>\n",
              "      <li>requests</li>\n",
              "    </ol>\n",
              "  </div>\n",
              "</body>\n",
              "\n",
              "</html>\n"
            ],
            "text/plain": [
              "<IPython.core.display.HTML object>"
            ]
          },
          "metadata": {
            "tags": []
          }
        }
      ]
    },
    {
      "cell_type": "markdown",
      "metadata": {
        "id": "mpdrMjBgaQ3i",
        "colab_type": "text"
      },
      "source": [
        "<img src=\"https://drive.google.com/uc?export=view&id=18s6CjUtjr0M24K57uMdtmXvK5TrV34Tv\"  alt=\"exercise\" height=\"20\"/> **Exercise 1 - Finding the header**  _(Solutions to all exercises provide at bottom of notebook.)_\n",
        "> Parse `workshop_html` with `BeautifulSoup`.  Find the main header text (`h1`) and save it in a variable.  Verify that you have the text by checking the `type` of your variable."
      ]
    },
    {
      "cell_type": "code",
      "metadata": {
        "id": "K6adKDP0bEKR",
        "colab_type": "code",
        "colab": {}
      },
      "source": [
        "soup = bs(workshop_html)"
      ],
      "execution_count": 0,
      "outputs": []
    },
    {
      "cell_type": "code",
      "metadata": {
        "id": "SO9Nh2wUbETs",
        "colab_type": "code",
        "colab": {}
      },
      "source": [
        "h1_text = soup.find('h1').text"
      ],
      "execution_count": 0,
      "outputs": []
    },
    {
      "cell_type": "code",
      "metadata": {
        "id": "GYpHfOvjbEzt",
        "colab_type": "code",
        "outputId": "c5bee477-b754-4e16-8c82-f5c759fcd717",
        "colab": {
          "base_uri": "https://localhost:8080/",
          "height": 35
        }
      },
      "source": [
        "type(h1_text)"
      ],
      "execution_count": 0,
      "outputs": [
        {
          "output_type": "execute_result",
          "data": {
            "text/plain": [
              "str"
            ]
          },
          "metadata": {
            "tags": []
          },
          "execution_count": 23
        }
      ]
    },
    {
      "cell_type": "markdown",
      "metadata": {
        "id": "Mhjw8y_JbNHd",
        "colab_type": "text"
      },
      "source": [
        "<img src=\"https://drive.google.com/uc?export=view&id=18s6CjUtjr0M24K57uMdtmXvK5TrV34Tv\"  alt=\"exercise\" height=\"20\"/> **Exercise 2 - Finding the paragraphs**\n",
        "\n",
        "Now find all the paragraphs in `workshop_html` and print out the text that you find."
      ]
    },
    {
      "cell_type": "code",
      "metadata": {
        "id": "IKUg-aurb8bM",
        "colab_type": "code",
        "colab": {}
      },
      "source": [
        "paragraphs = soup.find_all('p')"
      ],
      "execution_count": 0,
      "outputs": []
    },
    {
      "cell_type": "code",
      "metadata": {
        "id": "o4Ec96Q_b8eg",
        "colab_type": "code",
        "outputId": "45cb2943-67d8-48b3-c555-14180639f291",
        "colab": {
          "base_uri": "https://localhost:8080/",
          "height": 53
        }
      },
      "source": [
        "all_p = [item.text for item in paragraphs]\n",
        "\n",
        "all_p"
      ],
      "execution_count": 0,
      "outputs": [
        {
          "output_type": "execute_result",
          "data": {
            "text/plain": [
              "[\"Today's workshop is comprised of three main sections:\",\n",
              " 'You will be learning about two primary Python libraries:']"
            ]
          },
          "metadata": {
            "tags": []
          },
          "execution_count": 29
        }
      ]
    },
    {
      "cell_type": "markdown",
      "metadata": {
        "id": "qXuDZ968cTkT",
        "colab_type": "text"
      },
      "source": [
        "<img src=\"https://drive.google.com/uc?export=view&id=18s6CjUtjr0M24K57uMdtmXvK5TrV34Tv\"  alt=\"exercise\" height=\"20\"/> **BONUS: Exercise 3 - Finding the agenda items**\n",
        "\n",
        "Create a list of all of the agenda items for today's workshop.  Be sure to store only the TEXT for the AGENDA items!"
      ]
    },
    {
      "cell_type": "code",
      "metadata": {
        "id": "zUYIOQG0ciZP",
        "colab_type": "code",
        "outputId": "b80c5eb2-e209-4454-a519-5a4283f8556d",
        "colab": {
          "base_uri": "https://localhost:8080/",
          "height": 35
        }
      },
      "source": [
        "soup.find_all('li')[:3]"
      ],
      "execution_count": 0,
      "outputs": [
        {
          "output_type": "execute_result",
          "data": {
            "text/plain": [
              "[<li>HTML Basics</li>, <li>Scraping Basics</li>, <li>Scraping Pipeline</li>]"
            ]
          },
          "metadata": {
            "tags": []
          },
          "execution_count": 30
        }
      ]
    },
    {
      "cell_type": "code",
      "metadata": {
        "id": "yyvvjM2tcic1",
        "colab_type": "code",
        "outputId": "e2feaecd-3809-4317-bc7e-68d2193ea149",
        "colab": {
          "base_uri": "https://localhost:8080/",
          "height": 35
        }
      },
      "source": [
        "agenda_items = [li.text for li in soup.find_all('li')[:3]]\n",
        "\n",
        "agenda_items"
      ],
      "execution_count": 0,
      "outputs": [
        {
          "output_type": "execute_result",
          "data": {
            "text/plain": [
              "['HTML Basics', 'Scraping Basics', 'Scraping Pipeline']"
            ]
          },
          "metadata": {
            "tags": []
          },
          "execution_count": 32
        }
      ]
    },
    {
      "cell_type": "markdown",
      "metadata": {
        "id": "Iqq1HAHnJZ4b",
        "colab_type": "text"
      },
      "source": [
        "#Scrape Test Webpage"
      ]
    },
    {
      "cell_type": "markdown",
      "metadata": {
        "id": "ENkQA206dhqK",
        "colab_type": "text"
      },
      "source": [
        "In the last exercise, we found out that oftentimes using only the HTML tags alone won't be granular enough.  \n",
        "\n",
        "Let's work with a more complicated HTML file to see what other options are available.\n",
        "\n",
        "First download this file to your computer."
      ]
    },
    {
      "cell_type": "code",
      "metadata": {
        "id": "CQabS3_6uC6z",
        "colab_type": "code",
        "outputId": "fa1b086d-8c41-43dd-bbc4-ac7de67376c3",
        "colab": {
          "base_uri": "https://localhost:8080/",
          "height": 305
        }
      },
      "source": [
        "!wget https://raw.github.com/kimfetti/Conferences/master/PyCon_2020/pycon_info.html"
      ],
      "execution_count": 0,
      "outputs": [
        {
          "output_type": "stream",
          "text": [
            "--2020-05-06 17:38:10--  https://raw.github.com/kimfetti/Conferences/master/PyCon_2020/pycon_info.html\n",
            "Resolving raw.github.com (raw.github.com)... 151.101.0.133, 151.101.64.133, 151.101.128.133, ...\n",
            "Connecting to raw.github.com (raw.github.com)|151.101.0.133|:443... connected.\n",
            "HTTP request sent, awaiting response... 301 Moved Permanently\n",
            "Location: https://raw.githubusercontent.com/kimfetti/Conferences/master/PyCon_2020/pycon_info.html [following]\n",
            "--2020-05-06 17:38:11--  https://raw.githubusercontent.com/kimfetti/Conferences/master/PyCon_2020/pycon_info.html\n",
            "Resolving raw.githubusercontent.com (raw.githubusercontent.com)... 151.101.0.133, 151.101.64.133, 151.101.128.133, ...\n",
            "Connecting to raw.githubusercontent.com (raw.githubusercontent.com)|151.101.0.133|:443... connected.\n",
            "HTTP request sent, awaiting response... 200 OK\n",
            "Length: 2953 (2.9K) [text/plain]\n",
            "Saving to: ‘pycon_info.html’\n",
            "\n",
            "\rpycon_info.html       0%[                    ]       0  --.-KB/s               \rpycon_info.html     100%[===================>]   2.88K  --.-KB/s    in 0s      \n",
            "\n",
            "2020-05-06 17:38:11 (58.9 MB/s) - ‘pycon_info.html’ saved [2953/2953]\n",
            "\n"
          ],
          "name": "stdout"
        }
      ]
    },
    {
      "cell_type": "code",
      "metadata": {
        "id": "ehFDkue9u6p0",
        "colab_type": "code",
        "colab": {}
      },
      "source": [
        "from google.colab import files\n",
        "files.download('pycon_info.html')"
      ],
      "execution_count": 0,
      "outputs": []
    },
    {
      "cell_type": "markdown",
      "metadata": {
        "id": "xO4K3JWGuaDR",
        "colab_type": "text"
      },
      "source": [
        "Double click on this file to view it in your browser.  Once you have gotten a feel for the structure, read the file in and save as a string. "
      ]
    },
    {
      "cell_type": "code",
      "metadata": {
        "id": "pj5tg_MnnwB7",
        "colab_type": "code",
        "colab": {}
      },
      "source": [
        "pycon_html = open('pycon_info.html').read()"
      ],
      "execution_count": 0,
      "outputs": []
    },
    {
      "cell_type": "code",
      "metadata": {
        "id": "-q2zzBCYog7r",
        "colab_type": "code",
        "outputId": "41d35f24-b309-44d3-f48d-55527748f98b",
        "colab": {
          "base_uri": "https://localhost:8080/",
          "height": 1000
        }
      },
      "source": [
        "print(pycon_html)"
      ],
      "execution_count": 0,
      "outputs": [
        {
          "output_type": "stream",
          "text": [
            "<html>\n",
            "    <head>\n",
            "        <title>PyCon 2020 Info</title>\n",
            "\n",
            "        <style>\n",
            "            body {\n",
            "                background-color: cornsilk;\n",
            "            }\n",
            "\n",
            "            h1 {\n",
            "                font-size: 40px;\n",
            "                font-family: courier new, arial;\n",
            "                text-align: center;\n",
            "                margin-top: 50px;\n",
            "            }\n",
            "\n",
            "            a {\n",
            "                color: #411B2D;\n",
            "                font-size: 20px;\n",
            "            }\n",
            "\n",
            "            p {\n",
            "                font-size: 20px;\n",
            "            }\n",
            "\n",
            "            a:hover{\n",
            "                color: white;\n",
            "                background-color: #411B2D;\n",
            "            }\n",
            "\n",
            "            #toolbar {\n",
            "                background-color: #F3B643;\n",
            "                font-family: courier new, arial;\n",
            "                font-weight: bold;\n",
            "                font-size: 16px;\n",
            "                display: flex;\n",
            "                justify-content: space-around;\n",
            "                flex-direction: row;\n",
            "                border: 1px solid black;\n",
            "                border-radius: 1px;\n",
            "                margin: auto;\n",
            "                width: 95%;\n",
            "                padding: 20px;\n",
            "            }\n",
            "\n",
            "            .events {\n",
            "                margin: auto;\n",
            "                width: 60%;\n",
            "                margin-top: 50px;\n",
            "            }\n",
            "\n",
            "            #tomorrow {\n",
            "                margin-bottom: 50px;\n",
            "            }\n",
            "\n",
            "        </style>\n",
            "    </head>\n",
            "    \n",
            "    <body>\n",
            "        <h1>PyCon 2020</h1>\n",
            "        <div id=\"toolbar\">\n",
            "            <a href=\"https://us.pycon.org/2020/about/\">WHAT IS PYCON?</a>\n",
            "            <a href=\"https://us.pycon.org/2020/schedule/tutorials/\">TUTORIAL SCHEDULE</a>\n",
            "            <a href=\"https://us.pycon.org/2020/speaking/\">SPEAKING AT PYCON</a>\n",
            "            <a href=\"https://us.pycon.org/2020/psf/\">PYTHON SOFTWARE FOUNDATION</a>\n",
            "        </div>\n",
            "\n",
            "        <div id=\"today\" class=\"events\">\n",
            "            <h2>A Selection of Today's Events</h2>\n",
            "            <p> Room 309, 9:00 am - <a href=\"https://us.pycon.org/2020/schedule/presentation/50/\">Foundations of Numerical Computing in Python</a></p>\n",
            "            <p> Room 315, 9:00 am - <a href=\"https://us.pycon.org/2020/schedule/presentation/72/\">It's Officially Legal so Let's Scrape the Web</a></p>\n",
            "            <p> Room 317, 1:20 pm - <a href=\"https://us.pycon.org/2020/schedule/presentation/54/\">A Beginner's Guide to Befriending Python</a></p>\n",
            "            <p> Room 318, 1:20 pm -<a href=\"https://us.pycon.org/2020/schedule/presentation/55/\">Scalable Computing with Dask</a></p>\n",
            "        </div>\n",
            "\n",
            "        <div id=\"tomorrow\" class=\"events\">\n",
            "            <h2>Coming Up Tomorrow</h2>\n",
            "            <p> Room 316, 9:00 am - <a href=\"https://us.pycon.org/2020/schedule/presentation/63/\">Creating a Great Python Package</a></p>\n",
            "            <p> Room 319, 9:00 am - <a href=\"https://us.pycon.org/2020/schedule/presentation/45/\">Minimum Viable Documentation</a></p>\n",
            "            <p> Room 309, 1:20 pm - <a href=\"https://us.pycon.org/2020/schedule/presentation/74/\">Effective Data Visualization</a>\n",
            "        </div>\n",
            "\n",
            "\n",
            "    </body>\n",
            "    \n",
            "</html>\n",
            "\n"
          ],
          "name": "stdout"
        }
      ]
    },
    {
      "cell_type": "markdown",
      "metadata": {
        "id": "jDPP_5ygqW7P",
        "colab_type": "text"
      },
      "source": [
        "Since our HTML is a string, we can parse it with `BeautifulSoup` and begin collecting data.  \n",
        "\n",
        "Let's say we are interested in gathering titles and links of events happening today.  Links can be found by looking for anchor, `a`, tags.  "
      ]
    },
    {
      "cell_type": "code",
      "metadata": {
        "id": "8B5Oydm6rIDq",
        "colab_type": "code",
        "colab": {}
      },
      "source": [
        "pycon_soup = bs(pycon_html)"
      ],
      "execution_count": 0,
      "outputs": []
    },
    {
      "cell_type": "code",
      "metadata": {
        "id": "PK4gJLPwrVPM",
        "colab_type": "code",
        "outputId": "ddef384e-ff06-4c4c-e241-36656e44c2cb",
        "colab": {
          "base_uri": "https://localhost:8080/",
          "height": 215
        }
      },
      "source": [
        "pycon_soup.find_all('a')"
      ],
      "execution_count": 0,
      "outputs": [
        {
          "output_type": "execute_result",
          "data": {
            "text/plain": [
              "[<a href=\"https://us.pycon.org/2020/about/\">WHAT IS PYCON?</a>,\n",
              " <a href=\"https://us.pycon.org/2020/schedule/tutorials/\">TUTORIAL SCHEDULE</a>,\n",
              " <a href=\"https://us.pycon.org/2020/speaking/\">SPEAKING AT PYCON</a>,\n",
              " <a href=\"https://us.pycon.org/2020/psf/\">PYTHON SOFTWARE FOUNDATION</a>,\n",
              " <a href=\"https://us.pycon.org/2020/schedule/presentation/50/\">Foundations of Numerical Computing in Python</a>,\n",
              " <a href=\"https://us.pycon.org/2020/schedule/presentation/72/\">It's Officially Legal so Let's Scrape the Web</a>,\n",
              " <a href=\"https://us.pycon.org/2020/schedule/presentation/54/\">A Beginner's Guide to Befriending Python</a>,\n",
              " <a href=\"https://us.pycon.org/2020/schedule/presentation/55/\">Scalable Computing with Dask</a>,\n",
              " <a href=\"https://us.pycon.org/2020/schedule/presentation/63/\">Creating a Great Python Package</a>,\n",
              " <a href=\"https://us.pycon.org/2020/schedule/presentation/45/\">Minimum Viable Documentation</a>,\n",
              " <a href=\"https://us.pycon.org/2020/schedule/presentation/74/\">Effective Data Visualization</a>]"
            ]
          },
          "metadata": {
            "tags": []
          },
          "execution_count": 38
        }
      ]
    },
    {
      "cell_type": "markdown",
      "metadata": {
        "id": "2HaEHZgVslih",
        "colab_type": "text"
      },
      "source": [
        "Whoa -- there are a lot more links on this page other than today's events!"
      ]
    },
    {
      "cell_type": "markdown",
      "metadata": {
        "id": "50z8xhqlLfTL",
        "colab_type": "text"
      },
      "source": [
        "###Find by attribute"
      ]
    },
    {
      "cell_type": "markdown",
      "metadata": {
        "id": "X8J3lOYFsvdp",
        "colab_type": "text"
      },
      "source": [
        "In order to drill down to just the links we are interested in, notice that today's events are contained within a `div` that has `id=today`.  We can first isolate this `div` by searching for it by its `id`."
      ]
    },
    {
      "cell_type": "code",
      "metadata": {
        "id": "0ljh-i2WLhDJ",
        "colab_type": "code",
        "outputId": "695bc35c-72ee-4b4d-d5d6-efd3bb81d9fd",
        "colab": {
          "base_uri": "https://localhost:8080/",
          "height": 143
        }
      },
      "source": [
        "today_div = pycon_soup.find(id='today')\n",
        "\n",
        "today_div"
      ],
      "execution_count": 0,
      "outputs": [
        {
          "output_type": "execute_result",
          "data": {
            "text/plain": [
              "<div class=\"events\" id=\"today\">\n",
              "<h2>A Selection of Today's Events</h2>\n",
              "<p> Room 309, 9:00 am - <a href=\"https://us.pycon.org/2020/schedule/presentation/50/\">Foundations of Numerical Computing in Python</a></p>\n",
              "<p> Room 315, 9:00 am - <a href=\"https://us.pycon.org/2020/schedule/presentation/72/\">It's Officially Legal so Let's Scrape the Web</a></p>\n",
              "<p> Room 317, 1:20 pm - <a href=\"https://us.pycon.org/2020/schedule/presentation/54/\">A Beginner's Guide to Befriending Python</a></p>\n",
              "<p> Room 318, 1:20 pm -<a href=\"https://us.pycon.org/2020/schedule/presentation/55/\">Scalable Computing with Dask</a></p>\n",
              "</div>"
            ]
          },
          "metadata": {
            "tags": []
          },
          "execution_count": 39
        }
      ]
    },
    {
      "cell_type": "code",
      "metadata": {
        "id": "zFX6VVDRtFj3",
        "colab_type": "code",
        "outputId": "bb71634f-9086-406b-d7b2-3875a3317421",
        "colab": {
          "base_uri": "https://localhost:8080/",
          "height": 35
        }
      },
      "source": [
        "type(today_div)"
      ],
      "execution_count": 0,
      "outputs": [
        {
          "output_type": "execute_result",
          "data": {
            "text/plain": [
              "bs4.element.Tag"
            ]
          },
          "metadata": {
            "tags": []
          },
          "execution_count": 40
        }
      ]
    },
    {
      "cell_type": "markdown",
      "metadata": {
        "id": "qSbVBUzltRIa",
        "colab_type": "text"
      },
      "source": [
        "Now we will look for all of the anchor tags that are contained within this division."
      ]
    },
    {
      "cell_type": "code",
      "metadata": {
        "id": "HJBi-y4StLqd",
        "colab_type": "code",
        "outputId": "0bc84bbd-70c0-4de4-f3f2-9757e8e4f772",
        "colab": {
          "base_uri": "https://localhost:8080/",
          "height": 89
        }
      },
      "source": [
        "today_div.find_all('a')"
      ],
      "execution_count": 0,
      "outputs": [
        {
          "output_type": "execute_result",
          "data": {
            "text/plain": [
              "[<a href=\"https://us.pycon.org/2020/schedule/presentation/50/\">Foundations of Numerical Computing in Python</a>,\n",
              " <a href=\"https://us.pycon.org/2020/schedule/presentation/72/\">It's Officially Legal so Let's Scrape the Web</a>,\n",
              " <a href=\"https://us.pycon.org/2020/schedule/presentation/54/\">A Beginner's Guide to Befriending Python</a>,\n",
              " <a href=\"https://us.pycon.org/2020/schedule/presentation/55/\">Scalable Computing with Dask</a>]"
            ]
          },
          "metadata": {
            "tags": []
          },
          "execution_count": 41
        }
      ]
    },
    {
      "cell_type": "markdown",
      "metadata": {
        "id": "tmkC8X_4xnbC",
        "colab_type": "text"
      },
      "source": [
        "<img src=\"https://drive.google.com/uc?export=view&id=1b88t_6cp1ozWJydV1CyN2k0ZAyPTZh1V\"  alt=\"tip\" height=\"22\"/>   You can find elements by pretty much any attribute.  Let's find elements with that are members of the `events` class."
      ]
    },
    {
      "cell_type": "code",
      "metadata": {
        "id": "t1IBgegQxLgZ",
        "colab_type": "code",
        "outputId": "a6f2a509-43b5-4449-d814-f1c6c8f88987",
        "colab": {
          "base_uri": "https://localhost:8080/",
          "height": 233
        }
      },
      "source": [
        "pycon_soup.find_all(class_ = 'events')"
      ],
      "execution_count": 0,
      "outputs": [
        {
          "output_type": "execute_result",
          "data": {
            "text/plain": [
              "[<div class=\"events\" id=\"today\">\n",
              " <h2>A Selection of Today's Events</h2>\n",
              " <p> Room 309, 9:00 am - <a href=\"https://us.pycon.org/2020/schedule/presentation/50/\">Foundations of Numerical Computing in Python</a></p>\n",
              " <p> Room 315, 9:00 am - <a href=\"https://us.pycon.org/2020/schedule/presentation/72/\">It's Officially Legal so Let's Scrape the Web</a></p>\n",
              " <p> Room 317, 1:20 pm - <a href=\"https://us.pycon.org/2020/schedule/presentation/54/\">A Beginner's Guide to Befriending Python</a></p>\n",
              " <p> Room 318, 1:20 pm -<a href=\"https://us.pycon.org/2020/schedule/presentation/55/\">Scalable Computing with Dask</a></p>\n",
              " </div>, <div class=\"events\" id=\"tomorrow\">\n",
              " <h2>Coming Up Tomorrow</h2>\n",
              " <p> Room 316, 9:00 am - <a href=\"https://us.pycon.org/2020/schedule/presentation/63/\">Creating a Great Python Package</a></p>\n",
              " <p> Room 319, 9:00 am - <a href=\"https://us.pycon.org/2020/schedule/presentation/45/\">Minimum Viable Documentation</a></p>\n",
              " <p> Room 309, 1:20 pm - <a href=\"https://us.pycon.org/2020/schedule/presentation/74/\">Effective Data Visualization</a>\n",
              " </p></div>]"
            ]
          },
          "metadata": {
            "tags": []
          },
          "execution_count": 42
        }
      ]
    },
    {
      "cell_type": "markdown",
      "metadata": {
        "id": "hFKaUQeczI8S",
        "colab_type": "text"
      },
      "source": [
        "Passing a dictionary of attributes works as well."
      ]
    },
    {
      "cell_type": "code",
      "metadata": {
        "id": "0cPgx8kgy4lc",
        "colab_type": "code",
        "outputId": "0a3ed413-88b5-4f2d-b4cb-e32536065afb",
        "colab": {
          "base_uri": "https://localhost:8080/",
          "height": 125
        }
      },
      "source": [
        "pycon_soup.find_all(attrs={'class':'events', 'id': 'tomorrow'}) "
      ],
      "execution_count": 0,
      "outputs": [
        {
          "output_type": "execute_result",
          "data": {
            "text/plain": [
              "[<div class=\"events\" id=\"tomorrow\">\n",
              " <h2>Coming Up Tomorrow</h2>\n",
              " <p> Room 316, 9:00 am - <a href=\"https://us.pycon.org/2020/schedule/presentation/63/\">Creating a Great Python Package</a></p>\n",
              " <p> Room 319, 9:00 am - <a href=\"https://us.pycon.org/2020/schedule/presentation/45/\">Minimum Viable Documentation</a></p>\n",
              " <p> Room 309, 1:20 pm - <a href=\"https://us.pycon.org/2020/schedule/presentation/74/\">Effective Data Visualization</a>\n",
              " </p></div>]"
            ]
          },
          "metadata": {
            "tags": []
          },
          "execution_count": 43
        }
      ]
    },
    {
      "cell_type": "markdown",
      "metadata": {
        "id": "Vdtgdj92Lm0S",
        "colab_type": "text"
      },
      "source": [
        "###Retrieve attributes"
      ]
    },
    {
      "cell_type": "markdown",
      "metadata": {
        "id": "3ERJqjn_tZsC",
        "colab_type": "text"
      },
      "source": [
        "If we want to just get the names of today's events, we can simply cycle through today's links and collect the `.text`."
      ]
    },
    {
      "cell_type": "code",
      "metadata": {
        "id": "6gjThbpwtLui",
        "colab_type": "code",
        "outputId": "b23a00e3-e119-46b8-8df7-ba83971d3416",
        "colab": {
          "base_uri": "https://localhost:8080/",
          "height": 89
        }
      },
      "source": [
        "today_text = [link.text for link in today_div.find_all('a')]\n",
        "\n",
        "today_text"
      ],
      "execution_count": 0,
      "outputs": [
        {
          "output_type": "execute_result",
          "data": {
            "text/plain": [
              "['Foundations of Numerical Computing in Python',\n",
              " \"It's Officially Legal so Let's Scrape the Web\",\n",
              " \"A Beginner's Guide to Befriending Python\",\n",
              " 'Scalable Computing with Dask']"
            ]
          },
          "metadata": {
            "tags": []
          },
          "execution_count": 44
        }
      ]
    },
    {
      "cell_type": "markdown",
      "metadata": {
        "id": "vTnrWzSGxdIN",
        "colab_type": "text"
      },
      "source": [
        "But what would we do if we wanted the **hyperlinks** to each of those events?\n",
        "\n",
        "`BeautifulSoup` allows you to retrieve element attributes.  You will reference these using the same syntax as dictionary key."
      ]
    },
    {
      "cell_type": "code",
      "metadata": {
        "id": "_dqcWf7jLs_t",
        "colab_type": "code",
        "outputId": "9f06de48-8c4d-4653-b6b2-8a2fb00f3170",
        "colab": {
          "base_uri": "https://localhost:8080/",
          "height": 35
        }
      },
      "source": [
        "today_div.find('a')"
      ],
      "execution_count": 0,
      "outputs": [
        {
          "output_type": "execute_result",
          "data": {
            "text/plain": [
              "<a href=\"https://us.pycon.org/2020/schedule/presentation/50/\">Foundations of Numerical Computing in Python</a>"
            ]
          },
          "metadata": {
            "tags": []
          },
          "execution_count": 45
        }
      ]
    },
    {
      "cell_type": "code",
      "metadata": {
        "id": "rgSsqg2czq9-",
        "colab_type": "code",
        "outputId": "426277ab-fcec-4d97-c6d4-de09079dc74f",
        "colab": {
          "base_uri": "https://localhost:8080/",
          "height": 35
        }
      },
      "source": [
        "today_div.find('a')['href']"
      ],
      "execution_count": 0,
      "outputs": [
        {
          "output_type": "execute_result",
          "data": {
            "text/plain": [
              "'https://us.pycon.org/2020/schedule/presentation/50/'"
            ]
          },
          "metadata": {
            "tags": []
          },
          "execution_count": 46
        }
      ]
    },
    {
      "cell_type": "code",
      "metadata": {
        "id": "RBC1yquizvMZ",
        "colab_type": "code",
        "outputId": "6c0d981d-5877-4eb6-e601-398f9fce3079",
        "colab": {
          "base_uri": "https://localhost:8080/",
          "height": 35
        }
      },
      "source": [
        "type(today_div.find('a')['href'])"
      ],
      "execution_count": 0,
      "outputs": [
        {
          "output_type": "execute_result",
          "data": {
            "text/plain": [
              "str"
            ]
          },
          "metadata": {
            "tags": []
          },
          "execution_count": 47
        }
      ]
    },
    {
      "cell_type": "code",
      "metadata": {
        "id": "ZPvUjoF9zy8l",
        "colab_type": "code",
        "colab": {}
      },
      "source": [
        "today_links = [link['href'] for link in today_div.find_all('a')]\n",
        "\n",
        "today_links"
      ],
      "execution_count": 0,
      "outputs": []
    },
    {
      "cell_type": "markdown",
      "metadata": {
        "id": "J181BQ3_L0bZ",
        "colab_type": "text"
      },
      "source": [
        "###Exercises"
      ]
    },
    {
      "cell_type": "markdown",
      "metadata": {
        "id": "X8rfPI2m1bmM",
        "colab_type": "text"
      },
      "source": [
        "<img src=\"https://drive.google.com/uc?export=view&id=18s6CjUtjr0M24K57uMdtmXvK5TrV34Tv\"  alt=\"exercise\" height=\"20\"/> **Exercise 4 - Tomorrow's event tuples** \n",
        "> Create a list of tuples for each of tomorrow's events.  The first element in your tuples will be the event title and the second will be the event link."
      ]
    },
    {
      "cell_type": "code",
      "metadata": {
        "id": "GoiUcz0aL1fJ",
        "colab_type": "code",
        "outputId": "0ebd8247-4735-4111-facc-b0debe4b6c0f",
        "colab": {
          "base_uri": "https://localhost:8080/",
          "height": 125
        }
      },
      "source": [
        "tomorrow_tuple = [(a.text, a['href']) for a in pycon_soup.find(id='tomorrow').find_all('a')]\n",
        "tomorrow_tuple"
      ],
      "execution_count": 0,
      "outputs": [
        {
          "output_type": "execute_result",
          "data": {
            "text/plain": [
              "[('Creating a Great Python Package',\n",
              "  'https://us.pycon.org/2020/schedule/presentation/63/'),\n",
              " ('Minimum Viable Documentation',\n",
              "  'https://us.pycon.org/2020/schedule/presentation/45/'),\n",
              " ('Effective Data Visualization',\n",
              "  'https://us.pycon.org/2020/schedule/presentation/74/')]"
            ]
          },
          "metadata": {
            "tags": []
          },
          "execution_count": 56
        }
      ]
    },
    {
      "cell_type": "code",
      "metadata": {
        "id": "HhvssAMI1Q80",
        "colab_type": "code",
        "outputId": "456d54ab-cf11-42e9-fa4b-30bfec308f1c",
        "colab": {
          "base_uri": "https://localhost:8080/",
          "height": 35
        }
      },
      "source": [
        ""
      ],
      "execution_count": 0,
      "outputs": [
        {
          "output_type": "execute_result",
          "data": {
            "text/plain": [
              "bs4.element.ResultSet"
            ]
          },
          "metadata": {
            "tags": []
          },
          "execution_count": 51
        }
      ]
    },
    {
      "cell_type": "markdown",
      "metadata": {
        "id": "n5DAy_WZ08mh",
        "colab_type": "text"
      },
      "source": [
        "<img src=\"https://drive.google.com/uc?export=view&id=18s6CjUtjr0M24K57uMdtmXvK5TrV34Tv\"  alt=\"exercise\" height=\"20\"/> **Exercise 5 - Finding the event headers** \n",
        "> Find the header text for today's and tomorrow's events by referencing the `events` class."
      ]
    },
    {
      "cell_type": "code",
      "metadata": {
        "id": "xoJ_Rdc91uie",
        "colab_type": "code",
        "colab": {}
      },
      "source": [
        "event_headers = [div.find('h2').text for div in pycon_soup.find_all(class_= 'events')]"
      ],
      "execution_count": 0,
      "outputs": []
    },
    {
      "cell_type": "code",
      "metadata": {
        "id": "O0_lE9si1umo",
        "colab_type": "code",
        "outputId": "7fd71f7a-8704-4026-d5a9-8b573339e8ac",
        "colab": {
          "base_uri": "https://localhost:8080/",
          "height": 35
        }
      },
      "source": [
        "event_headers"
      ],
      "execution_count": 0,
      "outputs": [
        {
          "output_type": "execute_result",
          "data": {
            "text/plain": [
              "[\"A Selection of Today's Events\", 'Coming Up Tomorrow']"
            ]
          },
          "metadata": {
            "tags": []
          },
          "execution_count": 62
        }
      ]
    },
    {
      "cell_type": "code",
      "metadata": {
        "id": "pFqj3GO-1uwX",
        "colab_type": "code",
        "colab": {}
      },
      "source": [
        ""
      ],
      "execution_count": 0,
      "outputs": []
    },
    {
      "cell_type": "markdown",
      "metadata": {
        "id": "AwJEaE82L4tj",
        "colab_type": "text"
      },
      "source": [
        "---\n",
        "\n",
        "#Solutions"
      ]
    },
    {
      "cell_type": "markdown",
      "metadata": {
        "id": "jcxKoYVhkMdm",
        "colab_type": "text"
      },
      "source": [
        "<img src=\"https://drive.google.com/uc?export=view&id=18s6CjUtjr0M24K57uMdtmXvK5TrV34Tv\"  alt=\"exercise\" height=\"20\"/>  **Quick HTML Review**\n",
        "> What tags do we see on this page? <br>\n",
        "`div`, `h1`, `ul` (unordered list), `li` (list item)\n",
        "\n",
        "> What attributes? <br>\n",
        "`style` for the `div` container\n",
        "\n",
        "> What's the inner HTML text of the header? <br>\n",
        "\"Today's Learning Objectives\""
      ]
    },
    {
      "cell_type": "markdown",
      "metadata": {
        "id": "uhDzJPNQbRDt",
        "colab_type": "text"
      },
      "source": [
        "<img src=\"https://drive.google.com/uc?export=view&id=18s6CjUtjr0M24K57uMdtmXvK5TrV34Tv\"  alt=\"exercise\" height=\"20\"/> **Exercise 1 - Finding the header**\n",
        "\n",
        "> Parse `workshop_html` with `BeautifulSoup`.  Find the main header text (`h1`) and save it in a variable.  Verify that you have the text by checking the `type` of your variable."
      ]
    },
    {
      "cell_type": "code",
      "metadata": {
        "id": "smuIFTdOL6Kv",
        "colab_type": "code",
        "colab": {}
      },
      "source": [
        "workshop_soup = bs(workshop_html)"
      ],
      "execution_count": 0,
      "outputs": []
    },
    {
      "cell_type": "code",
      "metadata": {
        "id": "4Tyg2g3WbUn8",
        "colab_type": "code",
        "colab": {}
      },
      "source": [
        "header = workshop_soup.find('h1').text\n",
        "\n",
        "print(header)"
      ],
      "execution_count": 0,
      "outputs": []
    },
    {
      "cell_type": "code",
      "metadata": {
        "id": "gtB84wARbXZ8",
        "colab_type": "code",
        "colab": {}
      },
      "source": [
        "type(header)"
      ],
      "execution_count": 0,
      "outputs": []
    },
    {
      "cell_type": "markdown",
      "metadata": {
        "id": "ni-mQghTcBV9",
        "colab_type": "text"
      },
      "source": [
        "<img src=\"https://drive.google.com/uc?export=view&id=18s6CjUtjr0M24K57uMdtmXvK5TrV34Tv\"  alt=\"exercise\" height=\"20\"/> **Exercise 2 - Finding the paragraphs**\n",
        "\n",
        "Now find all the paragraphs in `workshop_html` and print out the text that you find."
      ]
    },
    {
      "cell_type": "code",
      "metadata": {
        "id": "v-9PYDY5bYbs",
        "colab_type": "code",
        "colab": {}
      },
      "source": [
        "workshop_soup.find_all('p')"
      ],
      "execution_count": 0,
      "outputs": []
    },
    {
      "cell_type": "code",
      "metadata": {
        "id": "By_rc__LcDv7",
        "colab_type": "code",
        "colab": {}
      },
      "source": [
        "for paragraph in workshop_soup.find_all('p'):\n",
        "  print(paragraph.text)"
      ],
      "execution_count": 0,
      "outputs": []
    },
    {
      "cell_type": "markdown",
      "metadata": {
        "id": "CwdPE0UackhC",
        "colab_type": "text"
      },
      "source": [
        "<img src=\"https://drive.google.com/uc?export=view&id=18s6CjUtjr0M24K57uMdtmXvK5TrV34Tv\"  alt=\"exercise\" height=\"20\"/> **BONUS: Exercise 3 - Finding the agenda items**\n",
        "\n",
        "Create a list of all of the agenda items for today's workshop.  Be sure to store only the TEXT for the AGENDA items!"
      ]
    },
    {
      "cell_type": "code",
      "metadata": {
        "id": "vmfciqaKcIig",
        "colab_type": "code",
        "colab": {}
      },
      "source": [
        "agenda_items = [li.text for li in workshop_soup.find_all('li')[:3]]\n",
        "\n",
        "print(agenda_items)"
      ],
      "execution_count": 0,
      "outputs": []
    },
    {
      "cell_type": "code",
      "metadata": {
        "id": "m0mIv8rqcsvA",
        "colab_type": "code",
        "colab": {}
      },
      "source": [
        "#Later we will learn a better way: \n",
        "#  First look for the div that contains the agenda items\n",
        "\n",
        "agenda_div = workshop_soup.find('div', id='agenda')\n",
        "\n",
        "agenda_items = [li.text for li in agenda_div.find_all('li')]\n",
        "\n",
        "print(agenda_items)"
      ],
      "execution_count": 0,
      "outputs": []
    },
    {
      "cell_type": "markdown",
      "metadata": {
        "id": "lbjUrQeC2W1-",
        "colab_type": "text"
      },
      "source": [
        "<img src=\"https://drive.google.com/uc?export=view&id=18s6CjUtjr0M24K57uMdtmXvK5TrV34Tv\"  alt=\"exercise\" height=\"20\"/> **Exercise 4 - Tomorrow's event tuples** \n",
        "> Create a list of tuples for each of tomorrow's events.  The first element in your tuples will be the event title and the second will be the event link."
      ]
    },
    {
      "cell_type": "code",
      "metadata": {
        "id": "gjbPnuEg2SHZ",
        "colab_type": "code",
        "colab": {}
      },
      "source": [
        "tomorrow_tuples = [(a.text, a['href']) for a in pycon_soup.find(id='tomorrow').find_all('a')]\n",
        "\n",
        "tomorrow_tuples"
      ],
      "execution_count": 0,
      "outputs": []
    },
    {
      "cell_type": "markdown",
      "metadata": {
        "id": "HLjUUS601zeY",
        "colab_type": "text"
      },
      "source": [
        "<img src=\"https://drive.google.com/uc?export=view&id=18s6CjUtjr0M24K57uMdtmXvK5TrV34Tv\"  alt=\"exercise\" height=\"20\"/> **Exercise 5 - Finding the event headers** \n",
        "> Using `pycon_html` find the header text for today's and tomorrow's events by referencing the `events` class."
      ]
    },
    {
      "cell_type": "code",
      "metadata": {
        "id": "ZTYJ7raoc9bG",
        "colab_type": "code",
        "colab": {}
      },
      "source": [
        "event_headers = [div.find('h2') for div in pycon_soup.find_all(class_='events')]"
      ],
      "execution_count": 0,
      "outputs": []
    },
    {
      "cell_type": "code",
      "metadata": {
        "id": "NHNsdYdU2C3r",
        "colab_type": "code",
        "colab": {}
      },
      "source": [
        "event_header_text = [header.text for header in event_headers]\n",
        "\n",
        "event_header_text"
      ],
      "execution_count": 0,
      "outputs": []
    },
    {
      "cell_type": "code",
      "metadata": {
        "id": "Yr5tciAB_xyn",
        "colab_type": "code",
        "colab": {}
      },
      "source": [
        ""
      ],
      "execution_count": 0,
      "outputs": []
    }
  ]
}