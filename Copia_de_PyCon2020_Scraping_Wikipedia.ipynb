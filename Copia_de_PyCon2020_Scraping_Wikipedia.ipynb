{
  "nbformat": 4,
  "nbformat_minor": 0,
  "metadata": {
    "colab": {
      "name": "Copia de PyCon2020_Scraping_Wikipedia.ipynb",
      "provenance": [],
      "collapsed_sections": [],
      "include_colab_link": true
    },
    "kernelspec": {
      "name": "python3",
      "display_name": "Python 3"
    }
  },
  "cells": [
    {
      "cell_type": "markdown",
      "metadata": {
        "id": "view-in-github",
        "colab_type": "text"
      },
      "source": [
        "<a href=\"https://colab.research.google.com/github/menektoni/Conferences/blob/master/Copia_de_PyCon2020_Scraping_Wikipedia.ipynb\" target=\"_parent\"><img src=\"https://colab.research.google.com/assets/colab-badge.svg\" alt=\"Open In Colab\"/></a>"
      ]
    },
    {
      "cell_type": "markdown",
      "metadata": {
        "id": "imfanf17fEkM",
        "colab_type": "text"
      },
      "source": [
        "<center>\n",
        " <img src=\"https://drive.google.com/uc?export=view&id=1JpQLPJGs44Tu1Z-xujVGKDyb6ikSwlCl\"  alt=\"PyCon header\" height=\"150\"/>\n",
        "\n",
        "<br>\n",
        "<h1>\n",
        "<TT>It's Officially Legal so Let's Scrape the Web</TT>\n",
        "</h1>\n",
        "Kimberly Fessel  &nbsp &#8226 &nbsp\n",
        "<img src=\"https://drive.google.com/uc?export=view&id=1aMmmYHcHkwRFcUw5v_HD3i0Kt5sGH7Gq\"  alt=\"Twitter logo\" height=\"20\"/> @kimberlyfessel &nbsp &#8226 &nbsp\n",
        "<img src=\"https://drive.google.com/uc?export=view&id=1s8InMOalYkxWyMeu1vhG5LyF1Jc9wczH\"  alt=\"LinkedIn logo\" height=\"20\"/> &nbsp kimberlyfessel\n",
        "<br> <br> <br>\n",
        "\n",
        " <img src=\"https://drive.google.com/uc?export=view&id=1_4Ks-ckX3qXXcOxkQ5iQnWBPXNI7fcXk\"  alt=\"Wikipedia logo\" height=\"150\"/>\n",
        "<h2> <TT> Scraping Pipeline with Wikipedia </TT> </h2>\n",
        "</center>\n",
        "<br>\n",
        "\n",
        "---\n",
        "<br>\n",
        "\n",
        "This content is also available for download as a Jupyter Notebook: [here](https://github.com/kimfetti/Conferences/blob/master/PyCon_2020/scraping_wiki.ipynb)\n",
        "\n"
      ]
    },
    {
      "cell_type": "markdown",
      "metadata": {
        "id": "9QWMD5T2fTw6",
        "colab_type": "text"
      },
      "source": [
        "# Getting Started\n",
        "\n",
        "We will now be parsing information collected from the Internet, specifically from Wikipedia.  \n",
        "\n",
        "First let's take a look at the HTML source code that powers the page about Pennsylvania:\n",
        "- Open up https://en.wikipedia.org/wiki/Pennsylvania in your browser\n",
        "- Right click and select \"Inspect\" or \"Inspect Element\"\n",
        "- Alternatively:\n",
        "  - _Chrome_ -- View > Developer > View Source\n",
        "  - _Safari_ -- Develop > Show Web Inspector \n",
        "  - _Firefox_ -- Tools > Web Developer > Inspector\n",
        "\n",
        "The same HTML code we have been exploring is used to produce the structure of just about every webpage you visit.\n",
        "<br><br>\n",
        "\n",
        "<img src=\"https://drive.google.com/uc?export=view&id=1otbY2IvQ_kzks6OMJvfHi_Zf1Zfvp0Nf\"  alt=\"info\" height=\"20\"/> Note: we will be scraping Wikipedia for learning purposes, but you can simply download its content instead.  Check [this](https://en.wikipedia.org/wiki/Wikipedia:Database_download) out to learn more."
      ]
    },
    {
      "cell_type": "markdown",
      "metadata": {
        "id": "yjx8WMbzfrXN",
        "colab_type": "text"
      },
      "source": [
        "### Introduction to `requests`"
      ]
    },
    {
      "cell_type": "markdown",
      "metadata": {
        "id": "n9Xs1aQNco7X",
        "colab_type": "text"
      },
      "source": [
        "The Python library `requests` allows us to retrieve information from the web.  \n",
        "\n",
        "First we need to import this package."
      ]
    },
    {
      "cell_type": "code",
      "metadata": {
        "id": "c0pKiQQode7l",
        "colab_type": "code",
        "colab": {}
      },
      "source": [
        "import requests"
      ],
      "execution_count": 0,
      "outputs": []
    },
    {
      "cell_type": "markdown",
      "metadata": {
        "id": "EZbCLXa3dfE0",
        "colab_type": "text"
      },
      "source": [
        "Now use the `.get()` method to retrieve a page's HTML."
      ]
    },
    {
      "cell_type": "code",
      "metadata": {
        "id": "0wVJcLTYfF72",
        "colab_type": "code",
        "colab": {}
      },
      "source": [
        "url = 'https://en.wikipedia.org/wiki/Pennsylvania'\n",
        "\n",
        "response = requests.get(url)"
      ],
      "execution_count": 0,
      "outputs": []
    },
    {
      "cell_type": "markdown",
      "metadata": {
        "id": "SjZ7O93VdtsF",
        "colab_type": "text"
      },
      "source": [
        "This response object gives us a few important things:\n",
        "- `response.text` -- the returned HTML (if any)\n",
        "- `response.status_code` -- a [code](https://en.wikipedia.org/wiki/List_of_HTTP_status_codes) to tell you if your request was successful"
      ]
    },
    {
      "cell_type": "code",
      "metadata": {
        "id": "nz9wWNxyepNs",
        "colab_type": "code",
        "outputId": "e35d35a3-d5e5-4a0b-bbc4-6c310836e4cc",
        "colab": {
          "base_uri": "https://localhost:8080/",
          "height": 35
        }
      },
      "source": [
        "response.status_code    #200 = success"
      ],
      "execution_count": 0,
      "outputs": [
        {
          "output_type": "execute_result",
          "data": {
            "text/plain": [
              "200"
            ]
          },
          "metadata": {
            "tags": []
          },
          "execution_count": 150
        }
      ]
    },
    {
      "cell_type": "code",
      "metadata": {
        "id": "Bxragg2Ze1lo",
        "colab_type": "code",
        "outputId": "6a9b67d6-c02f-4410-ce78-4d9a78450da7",
        "colab": {
          "base_uri": "https://localhost:8080/",
          "height": 143
        }
      },
      "source": [
        "print(response.text[:200])   #First 200 characters of the HTML"
      ],
      "execution_count": 0,
      "outputs": [
        {
          "output_type": "stream",
          "text": [
            "\n",
            "<!DOCTYPE html>\n",
            "<html class=\"client-nojs\" lang=\"en\" dir=\"ltr\">\n",
            "<head>\n",
            "<meta charset=\"UTF-8\"/>\n",
            "<title>Pennsylvania - Wikipedia</title>\n",
            "<script>document.documentElement.className=\"client-js\";RLCONF={\"w\n"
          ],
          "name": "stdout"
        }
      ]
    },
    {
      "cell_type": "code",
      "metadata": {
        "id": "QL9ITc_QfL7S",
        "colab_type": "code",
        "colab": {}
      },
      "source": [
        "page = response.text"
      ],
      "execution_count": 0,
      "outputs": []
    },
    {
      "cell_type": "code",
      "metadata": {
        "id": "ucRSFD5HcS2i",
        "colab_type": "code",
        "outputId": "744fe054-efe4-4983-ca7e-ea13bb83a452",
        "colab": {
          "base_uri": "https://localhost:8080/",
          "height": 35
        }
      },
      "source": [
        "type(page)"
      ],
      "execution_count": 0,
      "outputs": [
        {
          "output_type": "execute_result",
          "data": {
            "text/plain": [
              "str"
            ]
          },
          "metadata": {
            "tags": []
          },
          "execution_count": 153
        }
      ]
    },
    {
      "cell_type": "markdown",
      "metadata": {
        "id": "P4eBpKvHf1-Y",
        "colab_type": "text"
      },
      "source": [
        "### Using `requests` with `BeautifulSoup`"
      ]
    },
    {
      "cell_type": "markdown",
      "metadata": {
        "id": "X1QgQNYj5n6r",
        "colab_type": "text"
      },
      "source": [
        "Now that we have the HTML, we use `BeautifulSoup` to understand its structure in the exact same way as we did with sample HTML.\n",
        "\n",
        "<br>\n",
        "<center>\n",
        "<img src=\"https://drive.google.com/uc?export=view&id=1OVCQBlNyA8RTkilbsMfEHP_7j000G1DP\"  alt=\"info\" height=\"120\"/>\n",
        "</center>"
      ]
    },
    {
      "cell_type": "code",
      "metadata": {
        "id": "9GBwRv8vf5Fz",
        "colab_type": "code",
        "colab": {}
      },
      "source": [
        "from bs4 import BeautifulSoup as bs"
      ],
      "execution_count": 0,
      "outputs": []
    },
    {
      "cell_type": "code",
      "metadata": {
        "id": "mpZDj3Fr64iM",
        "colab_type": "code",
        "colab": {}
      },
      "source": [
        "soup = bs(page)"
      ],
      "execution_count": 0,
      "outputs": []
    },
    {
      "cell_type": "markdown",
      "metadata": {
        "id": "MP1LOpbBDUW6",
        "colab_type": "text"
      },
      "source": [
        "`BeautifulSoup` has now parsed through the HTML about Pennsylvania, so we can look for things like the header tag:"
      ]
    },
    {
      "cell_type": "code",
      "metadata": {
        "id": "UrGeeocu7BrC",
        "colab_type": "code",
        "outputId": "3689ef25-a25a-4df5-ab74-06c6d8571b0f",
        "colab": {
          "base_uri": "https://localhost:8080/",
          "height": 35
        }
      },
      "source": [
        "soup.find('h1')"
      ],
      "execution_count": 0,
      "outputs": [
        {
          "output_type": "execute_result",
          "data": {
            "text/plain": [
              "<h1 class=\"firstHeading\" id=\"firstHeading\" lang=\"en\">Pennsylvania</h1>"
            ]
          },
          "metadata": {
            "tags": []
          },
          "execution_count": 156
        }
      ]
    },
    {
      "cell_type": "code",
      "metadata": {
        "id": "wvYKC6Yh7BuO",
        "colab_type": "code",
        "outputId": "37990f4a-b091-4367-bd3b-9871627565eb",
        "colab": {
          "base_uri": "https://localhost:8080/",
          "height": 35
        }
      },
      "source": [
        "soup.find('h1').text"
      ],
      "execution_count": 0,
      "outputs": [
        {
          "output_type": "execute_result",
          "data": {
            "text/plain": [
              "'Pennsylvania'"
            ]
          },
          "metadata": {
            "tags": []
          },
          "execution_count": 157
        }
      ]
    },
    {
      "cell_type": "markdown",
      "metadata": {
        "id": "-0pckyOV_pOE",
        "colab_type": "text"
      },
      "source": [
        "To extract information from the web, you will alternate between: \n",
        "- Inspecting the HTML in your browser\n",
        "- Using `BeautifulSoup` to find information"
      ]
    },
    {
      "cell_type": "markdown",
      "metadata": {
        "id": "vPjwyfJj_qZ3",
        "colab_type": "text"
      },
      "source": [
        "### Exercises"
      ]
    },
    {
      "cell_type": "markdown",
      "metadata": {
        "id": "sQIXQGJmDiZE",
        "colab_type": "text"
      },
      "source": [
        "<img src=\"https://drive.google.com/uc?export=view&id=18s6CjUtjr0M24K57uMdtmXvK5TrV34Tv\"  alt=\"exercise\" height=\"20\"/> **Class Exercise - Disambiguation link**  <br> <br>\n",
        "Wikipedia often provides a disambiguation link to a list of additional topics that could reference the same term.  For example, searching for \"Pennsylvania\" directs to this article about the state, but \"Pennsylvania\" may instead refer to the railroad, a ship, or a music album.\n",
        "\n",
        ">Let's try to extract this disambiguation link by inspecting the source code and then using `BeautifulSoup`.  "
      ]
    },
    {
      "cell_type": "code",
      "metadata": {
        "id": "Rvbkg7X-Dhi7",
        "colab_type": "code",
        "outputId": "bd5a1466-abc5-4b92-985b-1eced51480b8",
        "colab": {
          "base_uri": "https://localhost:8080/",
          "height": 35
        }
      },
      "source": [
        "soup.find(class_ = 'mw-disambig')"
      ],
      "execution_count": 0,
      "outputs": [
        {
          "output_type": "execute_result",
          "data": {
            "text/plain": [
              "<a class=\"mw-disambig\" href=\"/wiki/Pennsylvania_(disambiguation)\" title=\"Pennsylvania (disambiguation)\">Pennsylvania (disambiguation)</a>"
            ]
          },
          "metadata": {
            "tags": []
          },
          "execution_count": 158
        }
      ]
    },
    {
      "cell_type": "code",
      "metadata": {
        "id": "tOwrqlKLDhmM",
        "colab_type": "code",
        "outputId": "26de75a2-edee-4d4a-e4af-3a4b52659f50",
        "colab": {
          "base_uri": "https://localhost:8080/",
          "height": 35
        }
      },
      "source": [
        "soup.find(class_ = 'mw-disambig')['href']"
      ],
      "execution_count": 0,
      "outputs": [
        {
          "output_type": "execute_result",
          "data": {
            "text/plain": [
              "'/wiki/Pennsylvania_(disambiguation)'"
            ]
          },
          "metadata": {
            "tags": []
          },
          "execution_count": 159
        }
      ]
    },
    {
      "cell_type": "markdown",
      "metadata": {
        "id": "_nYht_I1T7q4",
        "colab_type": "text"
      },
      "source": [
        "<img src=\"https://drive.google.com/uc?export=view&id=18s6CjUtjr0M24K57uMdtmXvK5TrV34Tv\"  alt=\"exercise\" height=\"20\"/> **Exercise 1 - Longitute, Latitude**  <br>\n",
        ">How would you retrieve Pennsylvania's longitude and latitude coordinates from this page?\n",
        "\n",
        "<center>\n",
        "<img src=\"https://drive.google.com/uc?export=view&id=1N43WC3jwFpV80L7-iLnEZi8aCQZtWcd3\"  alt=\"coordinates\" width=\"600\"/>\n",
        "</center>\n",
        "\n",
        "_Hint: Right click the coordinates directly and then select inspect._"
      ]
    },
    {
      "cell_type": "code",
      "metadata": {
        "id": "G3DBinrGV4qC",
        "colab_type": "code",
        "outputId": "39f55124-5712-4d1d-c46e-79851890e276",
        "colab": {
          "base_uri": "https://localhost:8080/",
          "height": 35
        }
      },
      "source": [
        "soup.find(class_='geo-dec').text"
      ],
      "execution_count": 0,
      "outputs": [
        {
          "output_type": "execute_result",
          "data": {
            "text/plain": [
              "'41°N 77.5°W'"
            ]
          },
          "metadata": {
            "tags": []
          },
          "execution_count": 160
        }
      ]
    },
    {
      "cell_type": "markdown",
      "metadata": {
        "id": "4mpgfcBD_vhj",
        "colab_type": "text"
      },
      "source": [
        "# Advancing Further"
      ]
    },
    {
      "cell_type": "markdown",
      "metadata": {
        "id": "3XwoIrTzgNzX",
        "colab_type": "text"
      },
      "source": [
        "### Chaining commands"
      ]
    },
    {
      "cell_type": "markdown",
      "metadata": {
        "id": "quW_Jg6oBwfg",
        "colab_type": "text"
      },
      "source": [
        "In the last notebook, we learned that we could first isolate a division of the HTML and then look for tags within the division.  \n",
        "\n",
        "The returned element(s) of any `find()` or `find_all()` command are themselves `BeautifulSoup` elements.  This means we can continue searching for information within them.\n",
        "\n",
        "Let's take a look at the first table on the page.\n",
        "\n",
        "<img src=\"https://drive.google.com/uc?export=view&id=1otbY2IvQ_kzks6OMJvfHi_Zf1Zfvp0Nf\"  alt=\"info\" height=\"20\"/>  _Note: Adding `.prettify()` below just prints each HTML element on its own line._"
      ]
    },
    {
      "cell_type": "code",
      "metadata": {
        "id": "iB3As00rf9x9",
        "colab_type": "code",
        "outputId": "ac855cb9-b911-4e2b-9009-82670f9e0c07",
        "colab": {
          "base_uri": "https://localhost:8080/",
          "height": 1000
        }
      },
      "source": [
        "print(soup.find('table').prettify())"
      ],
      "execution_count": 0,
      "outputs": [
        {
          "output_type": "stream",
          "text": [
            "<table class=\"infobox geography vcard\" style=\"width:22em;width:23em\">\n",
            " <tbody>\n",
            "  <tr>\n",
            "   <th colspan=\"2\" style=\"text-align:center;font-size:125%;font-weight:bold;font-size:1.25em; white-space:nowrap\">\n",
            "    <div class=\"fn org\" style=\"display:inline\">\n",
            "     Pennsylvania\n",
            "    </div>\n",
            "   </th>\n",
            "  </tr>\n",
            "  <tr>\n",
            "   <td colspan=\"2\" style=\"text-align:center;background-color:#cddeff; font-weight:bold;\">\n",
            "    <div class=\"category\">\n",
            "     <a href=\"/wiki/U.S._state\" title=\"U.S. state\">\n",
            "      State\n",
            "     </a>\n",
            "    </div>\n",
            "   </td>\n",
            "  </tr>\n",
            "  <tr class=\"mergedtoprow\">\n",
            "   <td colspan=\"2\" style=\"text-align:center;font-weight:bold;\">\n",
            "    Commonwealth of Pennsylvania\n",
            "   </td>\n",
            "  </tr>\n",
            "  <tr class=\"mergedtoprow\">\n",
            "   <td class=\"maptable\" colspan=\"2\" style=\"text-align:center\">\n",
            "    <div style=\"display:table; width:100%; background:none;\">\n",
            "     <div style=\"display:table-row\">\n",
            "      <div style=\"display:table-cell;vertical-align:middle; text-align:center;\">\n",
            "       <a class=\"image\" href=\"/wiki/File:Flag_of_Pennsylvania.svg\" title=\"Flag of Pennsylvania\">\n",
            "        <img alt=\"Flag of Pennsylvania\" class=\"thumbborder\" data-file-height=\"450\" data-file-width=\"675\" decoding=\"async\" height=\"83\" src=\"//upload.wikimedia.org/wikipedia/commons/thumb/f/f7/Flag_of_Pennsylvania.svg/125px-Flag_of_Pennsylvania.svg.png\" srcset=\"//upload.wikimedia.org/wikipedia/commons/thumb/f/f7/Flag_of_Pennsylvania.svg/188px-Flag_of_Pennsylvania.svg.png 1.5x, //upload.wikimedia.org/wikipedia/commons/thumb/f/f7/Flag_of_Pennsylvania.svg/250px-Flag_of_Pennsylvania.svg.png 2x\" width=\"125\"/>\n",
            "       </a>\n",
            "       <div style=\"padding:0.2em 0 0.2em 0;\">\n",
            "        <a class=\"mw-redirect\" href=\"/wiki/Flag_of_Pennsylvania\" title=\"Flag of Pennsylvania\">\n",
            "         Flag\n",
            "        </a>\n",
            "       </div>\n",
            "      </div>\n",
            "      <div style=\"display:table-cell;vertical-align:middle; text-align:center;\">\n",
            "       <a class=\"image\" href=\"/wiki/File:Seal_of_Pennsylvania.svg\" title=\"Official seal of Pennsylvania\">\n",
            "        <img alt=\"Official seal of Pennsylvania\" data-file-height=\"289\" data-file-width=\"289\" decoding=\"async\" height=\"100\" src=\"//upload.wikimedia.org/wikipedia/commons/thumb/7/7d/Seal_of_Pennsylvania.svg/100px-Seal_of_Pennsylvania.svg.png\" srcset=\"//upload.wikimedia.org/wikipedia/commons/thumb/7/7d/Seal_of_Pennsylvania.svg/150px-Seal_of_Pennsylvania.svg.png 1.5x, //upload.wikimedia.org/wikipedia/commons/thumb/7/7d/Seal_of_Pennsylvania.svg/200px-Seal_of_Pennsylvania.svg.png 2x\" width=\"100\"/>\n",
            "       </a>\n",
            "       <div style=\"padding:0.2em 0 0.2em 0;\">\n",
            "        <a href=\"/wiki/Seal_of_Pennsylvania\" title=\"Seal of Pennsylvania\">\n",
            "         Seal\n",
            "        </a>\n",
            "       </div>\n",
            "      </div>\n",
            "     </div>\n",
            "    </div>\n",
            "   </td>\n",
            "  </tr>\n",
            "  <tr class=\"mergedtoprow\">\n",
            "   <td colspan=\"2\" style=\"text-align:center\">\n",
            "    <a class=\"mw-redirect\" href=\"/wiki/List_of_U.S._state_nicknames\" title=\"List of U.S. state nicknames\">\n",
            "     Nickname(s):\n",
            "    </a>\n",
            "    <div class=\"nickname\" style=\"display:inline\">\n",
            "     Keystone State;\n",
            "     <sup class=\"reference\" id=\"cite_ref-1\">\n",
            "      <a href=\"#cite_note-1\">\n",
            "       [1]\n",
            "      </a>\n",
            "     </sup>\n",
            "     Quaker State\n",
            "    </div>\n",
            "   </td>\n",
            "  </tr>\n",
            "  <tr class=\"mergedrow\">\n",
            "   <td colspan=\"2\" style=\"text-align:center\">\n",
            "    <a href=\"/wiki/List_of_U.S._state_and_territory_mottos\" title=\"List of U.S. state and territory mottos\">\n",
            "     Motto(s):\n",
            "    </a>\n",
            "    <div class=\"nickname\" style=\"display:inline\">\n",
            "     Virtue, Liberty and Independence\n",
            "    </div>\n",
            "   </td>\n",
            "  </tr>\n",
            "  <tr class=\"mergedrow\">\n",
            "   <td colspan=\"2\" style=\"text-align:center\">\n",
            "    <a href=\"/wiki/List_of_U.S._state_songs\" title=\"List of U.S. state songs\">\n",
            "     Anthem:\n",
            "    </a>\n",
            "    \"\n",
            "    <a href=\"/wiki/Pennsylvania_(song)\" title=\"Pennsylvania (song)\">\n",
            "     Pennsylvania\n",
            "    </a>\n",
            "    \"\n",
            "    <br/>\n",
            "    <div class=\"center\">\n",
            "     <div class=\"floatnone\">\n",
            "      <div class=\"mediaContainer\" style=\"width:220px\">\n",
            "       <audio class=\"kskin\" controls=\"\" data-durationhint=\"75.359614512472\" data-mwprovider=\"wikimediacommons\" data-mwtitle='\"Pennsylvania\"_-_Regional_anthem_of_Pennsylvania.ogg' data-startoffset=\"0\" id=\"mwe_player_0\" preload=\"none\" style=\"width:220px\">\n",
            "        <source data-bandwidth=\"210704\" data-height=\"0\" data-shorttitle=\"MP3\" data-title=\"MP3\" data-transcodekey=\"mp3\" data-width=\"0\" src=\"//upload.wikimedia.org/wikipedia/commons/transcoded/9/9c/%22Pennsylvania%22_-_Regional_anthem_of_Pennsylvania.ogg/%22Pennsylvania%22_-_Regional_anthem_of_Pennsylvania.ogg.mp3\" type=\"audio/mpeg\"/>\n",
            "        <source data-bandwidth=\"348997\" data-height=\"0\" data-shorttitle=\"Ogg source\" data-title=\"Original Ogg file (349 kbps)\" data-width=\"0\" src=\"//upload.wikimedia.org/wikipedia/commons/9/9c/%22Pennsylvania%22_-_Regional_anthem_of_Pennsylvania.ogg\" type='audio/ogg; codecs=\"vorbis\"'/>\n",
            "       </audio>\n",
            "      </div>\n",
            "     </div>\n",
            "    </div>\n",
            "   </td>\n",
            "  </tr>\n",
            "  <tr class=\"mergedtoprow\">\n",
            "   <td colspan=\"2\" style=\"text-align:center\">\n",
            "    <a class=\"image\" href=\"/wiki/File:Pennsylvania_in_United_States.svg\" title=\"Map of the United States with Pennsylvania highlighted\">\n",
            "     <img alt=\"Map of the United States with Pennsylvania highlighted\" data-file-height=\"731\" data-file-width=\"1181\" decoding=\"async\" height=\"186\" src=\"//upload.wikimedia.org/wikipedia/commons/thumb/6/6d/Pennsylvania_in_United_States.svg/300px-Pennsylvania_in_United_States.svg.png\" srcset=\"//upload.wikimedia.org/wikipedia/commons/thumb/6/6d/Pennsylvania_in_United_States.svg/450px-Pennsylvania_in_United_States.svg.png 1.5x, //upload.wikimedia.org/wikipedia/commons/thumb/6/6d/Pennsylvania_in_United_States.svg/600px-Pennsylvania_in_United_States.svg.png 2x\" width=\"300\"/>\n",
            "    </a>\n",
            "    <div style=\"padding:0.3em 0 0 0;\">\n",
            "     Map of the United States with Pennsylvania highlighted\n",
            "    </div>\n",
            "   </td>\n",
            "  </tr>\n",
            "  <tr class=\"mergedtoprow\">\n",
            "   <th scope=\"row\">\n",
            "    Country\n",
            "   </th>\n",
            "   <td>\n",
            "    <a href=\"/wiki/United_States\" title=\"United States\">\n",
            "     United States\n",
            "    </a>\n",
            "   </td>\n",
            "  </tr>\n",
            "  <tr class=\"mergedrow\">\n",
            "   <th scope=\"row\">\n",
            "    Before statehood\n",
            "   </th>\n",
            "   <td>\n",
            "    <a href=\"/wiki/Province_of_Pennsylvania\" title=\"Province of Pennsylvania\">\n",
            "     Province of Pennsylvania\n",
            "    </a>\n",
            "   </td>\n",
            "  </tr>\n",
            "  <tr class=\"mergedrow\">\n",
            "   <th scope=\"row\">\n",
            "    <a href=\"/wiki/List_of_U.S._states_by_date_of_admission_to_the_Union#List_of_U.S._states\" title=\"List of U.S. states by date of admission to the Union\">\n",
            "     Admitted to the Union\n",
            "    </a>\n",
            "   </th>\n",
            "   <td>\n",
            "    December 12, 1787 (2nd)\n",
            "   </td>\n",
            "  </tr>\n",
            "  <tr class=\"mergedtoprow\">\n",
            "   <th scope=\"row\">\n",
            "    <a href=\"/wiki/List_of_capitals_in_the_United_States\" title=\"List of capitals in the United States\">\n",
            "     Capital\n",
            "    </a>\n",
            "   </th>\n",
            "   <td>\n",
            "    <a href=\"/wiki/Harrisburg,_Pennsylvania\" title=\"Harrisburg, Pennsylvania\">\n",
            "     Harrisburg\n",
            "    </a>\n",
            "   </td>\n",
            "  </tr>\n",
            "  <tr class=\"mergedrow\">\n",
            "   <th scope=\"row\">\n",
            "    <a class=\"mw-redirect\" href=\"/wiki/List_of_U.S._states%27_largest_cities_by_population\" title=\"List of U.S. states' largest cities by population\">\n",
            "     Largest city\n",
            "    </a>\n",
            "   </th>\n",
            "   <td>\n",
            "    <a href=\"/wiki/Philadelphia\" title=\"Philadelphia\">\n",
            "     Philadelphia\n",
            "    </a>\n",
            "   </td>\n",
            "  </tr>\n",
            "  <tr class=\"mergedrow\">\n",
            "   <th scope=\"row\">\n",
            "    <a class=\"mw-redirect\" href=\"/wiki/List_of_Metropolitan_Statistical_Areas\" title=\"List of Metropolitan Statistical Areas\">\n",
            "     Largest metro\n",
            "    </a>\n",
            "   </th>\n",
            "   <td>\n",
            "    <a class=\"mw-redirect\" href=\"/wiki/Delaware_Valley\" title=\"Delaware Valley\">\n",
            "     Delaware Valley\n",
            "    </a>\n",
            "   </td>\n",
            "  </tr>\n",
            "  <tr class=\"mergedtoprow\">\n",
            "   <th colspan=\"2\" style=\"text-align:center;text-align:left\">\n",
            "    Government\n",
            "    <div style=\"font-weight:normal;display:inline;\">\n",
            "    </div>\n",
            "   </th>\n",
            "  </tr>\n",
            "  <tr class=\"mergedrow\">\n",
            "   <th scope=\"row\">\n",
            "    •\n",
            "    <a class=\"mw-redirect\" href=\"/wiki/Governor_of_Pennsylvania\" title=\"Governor of Pennsylvania\">\n",
            "     Governor\n",
            "    </a>\n",
            "   </th>\n",
            "   <td>\n",
            "    <span class=\"nowrap\">\n",
            "     <a href=\"/wiki/Tom_Wolf\" title=\"Tom Wolf\">\n",
            "      Tom Wolf\n",
            "     </a>\n",
            "     (\n",
            "     <a href=\"/wiki/Democratic_Party_(United_States)\" title=\"Democratic Party (United States)\">\n",
            "      D\n",
            "     </a>\n",
            "     )\n",
            "    </span>\n",
            "   </td>\n",
            "  </tr>\n",
            "  <tr class=\"mergedrow\">\n",
            "   <th scope=\"row\">\n",
            "    •\n",
            "    <a href=\"/wiki/Lieutenant_Governor_of_Pennsylvania\" title=\"Lieutenant Governor of Pennsylvania\">\n",
            "     Lieutenant Governor\n",
            "    </a>\n",
            "   </th>\n",
            "   <td>\n",
            "    <span class=\"nowrap\">\n",
            "     <a href=\"/wiki/John_Fetterman_(politician)\" title=\"John Fetterman (politician)\">\n",
            "      John Fetterman\n",
            "     </a>\n",
            "     (D)\n",
            "    </span>\n",
            "   </td>\n",
            "  </tr>\n",
            "  <tr class=\"mergedrow\">\n",
            "   <th scope=\"row\">\n",
            "    <a href=\"/wiki/Legislature\" title=\"Legislature\">\n",
            "     Legislature\n",
            "    </a>\n",
            "   </th>\n",
            "   <td>\n",
            "    <span class=\"nowrap\">\n",
            "     <a href=\"/wiki/Pennsylvania_General_Assembly\" title=\"Pennsylvania General Assembly\">\n",
            "      General Assembly\n",
            "     </a>\n",
            "    </span>\n",
            "   </td>\n",
            "  </tr>\n",
            "  <tr class=\"mergedrow\">\n",
            "   <th scope=\"row\">\n",
            "    •\n",
            "    <a href=\"/wiki/Upper_house\" title=\"Upper house\">\n",
            "     Upper house\n",
            "    </a>\n",
            "   </th>\n",
            "   <td>\n",
            "    <a href=\"/wiki/Pennsylvania_State_Senate\" title=\"Pennsylvania State Senate\">\n",
            "     State Senate\n",
            "    </a>\n",
            "   </td>\n",
            "  </tr>\n",
            "  <tr class=\"mergedrow\">\n",
            "   <th scope=\"row\">\n",
            "    •\n",
            "    <a href=\"/wiki/Lower_house\" title=\"Lower house\">\n",
            "     Lower house\n",
            "    </a>\n",
            "   </th>\n",
            "   <td>\n",
            "    <a href=\"/wiki/Pennsylvania_House_of_Representatives\" title=\"Pennsylvania House of Representatives\">\n",
            "     House of Representatives\n",
            "    </a>\n",
            "   </td>\n",
            "  </tr>\n",
            "  <tr class=\"mergedrow\">\n",
            "   <th scope=\"row\">\n",
            "    <a href=\"/wiki/List_of_United_States_senators_from_Pennsylvania\" title=\"List of United States senators from Pennsylvania\">\n",
            "     U.S. senators\n",
            "    </a>\n",
            "   </th>\n",
            "   <td>\n",
            "    <span class=\"nowrap\">\n",
            "     <a href=\"/wiki/Bob_Casey_Jr.\" title=\"Bob Casey Jr.\">\n",
            "      Bob Casey Jr.\n",
            "     </a>\n",
            "     (D)\n",
            "    </span>\n",
            "    <br/>\n",
            "    <span class=\"nowrap\">\n",
            "     <a href=\"/wiki/Pat_Toomey\" title=\"Pat Toomey\">\n",
            "      Pat Toomey\n",
            "     </a>\n",
            "     (\n",
            "     <a href=\"/wiki/Republican_Party_(United_States)\" title=\"Republican Party (United States)\">\n",
            "      R\n",
            "     </a>\n",
            "     )\n",
            "    </span>\n",
            "   </td>\n",
            "  </tr>\n",
            "  <tr class=\"mergedrow\">\n",
            "   <th scope=\"row\">\n",
            "    <a href=\"/wiki/United_States_House_of_Representatives\" title=\"United States House of Representatives\">\n",
            "     U.S. House delegation\n",
            "    </a>\n",
            "   </th>\n",
            "   <td>\n",
            "    9 Democrats\n",
            "    <br/>\n",
            "    9 Republicans (\n",
            "    <a href=\"/wiki/United_States_congressional_delegations_from_Pennsylvania\" title=\"United States congressional delegations from Pennsylvania\">\n",
            "     list\n",
            "    </a>\n",
            "    )\n",
            "   </td>\n",
            "  </tr>\n",
            "  <tr class=\"mergedtoprow\">\n",
            "   <th colspan=\"2\" style=\"text-align:center;text-align:left\">\n",
            "    Area\n",
            "    <div style=\"font-weight:normal;display:inline;\">\n",
            "    </div>\n",
            "   </th>\n",
            "  </tr>\n",
            "  <tr class=\"mergedrow\">\n",
            "   <th scope=\"row\">\n",
            "    • Total\n",
            "   </th>\n",
            "   <td>\n",
            "    46,055 sq mi (119,283 km\n",
            "    <sup>\n",
            "     2\n",
            "    </sup>\n",
            "    )\n",
            "   </td>\n",
            "  </tr>\n",
            "  <tr class=\"mergedrow\">\n",
            "   <th scope=\"row\">\n",
            "    • Land\n",
            "   </th>\n",
            "   <td>\n",
            "    44,816.61 sq mi (116,074 km\n",
            "    <sup>\n",
            "     2\n",
            "    </sup>\n",
            "    )\n",
            "   </td>\n",
            "  </tr>\n",
            "  <tr class=\"mergedrow\">\n",
            "   <th scope=\"row\">\n",
            "    • Water\n",
            "   </th>\n",
            "   <td>\n",
            "    1,239 sq mi (3,208 km\n",
            "    <sup>\n",
            "     2\n",
            "    </sup>\n",
            "    )  2.7%\n",
            "   </td>\n",
            "  </tr>\n",
            "  <tr class=\"mergedrow\">\n",
            "   <th scope=\"row\">\n",
            "    Area rank\n",
            "   </th>\n",
            "   <td>\n",
            "    <a href=\"/wiki/List_of_U.S._states_and_territories_by_area\" title=\"List of U.S. states and territories by area\">\n",
            "     33rd\n",
            "    </a>\n",
            "   </td>\n",
            "  </tr>\n",
            "  <tr class=\"mergedtoprow\">\n",
            "   <th colspan=\"2\" style=\"text-align:center;text-align:left\">\n",
            "    Dimensions\n",
            "    <div style=\"font-weight:normal;display:inline;\">\n",
            "    </div>\n",
            "   </th>\n",
            "  </tr>\n",
            "  <tr class=\"mergedrow\">\n",
            "   <th scope=\"row\">\n",
            "    • Length\n",
            "   </th>\n",
            "   <td>\n",
            "    170 mi (273 km)\n",
            "   </td>\n",
            "  </tr>\n",
            "  <tr class=\"mergedrow\">\n",
            "   <th scope=\"row\">\n",
            "    • Width\n",
            "   </th>\n",
            "   <td>\n",
            "    283 mi (455 km)\n",
            "   </td>\n",
            "  </tr>\n",
            "  <tr class=\"mergedtoprow\">\n",
            "   <th scope=\"row\">\n",
            "    Elevation\n",
            "    <div style=\"font-weight:normal;display:inline;\">\n",
            "    </div>\n",
            "   </th>\n",
            "   <td>\n",
            "    1,100 ft (340 m)\n",
            "   </td>\n",
            "  </tr>\n",
            "  <tr class=\"mergedrow\">\n",
            "   <th scope=\"row\">\n",
            "    Highest elevation\n",
            "    <div style=\"font-weight:normal;display:inline;\">\n",
            "     (\n",
            "     <a href=\"/wiki/Mount_Davis_(Pennsylvania)\" title=\"Mount Davis (Pennsylvania)\">\n",
            "      Mount Davis\n",
            "     </a>\n",
            "     <sup class=\"reference\" id=\"cite_ref-USGS_2-0\">\n",
            "      <a href=\"#cite_note-USGS-2\">\n",
            "       [2]\n",
            "      </a>\n",
            "     </sup>\n",
            "     <sup class=\"reference\" id=\"cite_ref-AVD88_3-0\">\n",
            "      <a href=\"#cite_note-AVD88-3\">\n",
            "       [3]\n",
            "      </a>\n",
            "     </sup>\n",
            "     )\n",
            "    </div>\n",
            "   </th>\n",
            "   <td>\n",
            "    3,213 ft (979 m)\n",
            "   </td>\n",
            "  </tr>\n",
            "  <tr class=\"mergedbottomrow\">\n",
            "   <th scope=\"row\">\n",
            "    Lowest elevation\n",
            "    <div style=\"font-weight:normal;display:inline;\">\n",
            "     (\n",
            "     <a href=\"/wiki/Delaware_River\" title=\"Delaware River\">\n",
            "      Delaware River\n",
            "     </a>\n",
            "     at\n",
            "     <span class=\"nowrap\">\n",
            "      <a href=\"/wiki/Delaware\" title=\"Delaware\">\n",
            "       Delaware\n",
            "      </a>\n",
            "      border\n",
            "     </span>\n",
            "     <sup class=\"reference\" id=\"cite_ref-USGS_2-1\">\n",
            "      <a href=\"#cite_note-USGS-2\">\n",
            "       [2]\n",
            "      </a>\n",
            "     </sup>\n",
            "     )\n",
            "    </div>\n",
            "   </th>\n",
            "   <td>\n",
            "    0 ft (0 m)\n",
            "   </td>\n",
            "  </tr>\n",
            "  <tr class=\"mergedtoprow\">\n",
            "   <th colspan=\"2\" style=\"text-align:center;text-align:left\">\n",
            "    Population\n",
            "    <div style=\"font-weight:normal;display:inline;\">\n",
            "     <span class=\"nowrap\">\n",
            "     </span>\n",
            "     (2019)\n",
            "    </div>\n",
            "   </th>\n",
            "  </tr>\n",
            "  <tr class=\"mergedrow\">\n",
            "   <th scope=\"row\">\n",
            "    • Total\n",
            "   </th>\n",
            "   <td>\n",
            "    12,801,989\n",
            "   </td>\n",
            "  </tr>\n",
            "  <tr class=\"mergedrow\">\n",
            "   <th scope=\"row\">\n",
            "    • Rank\n",
            "   </th>\n",
            "   <td>\n",
            "    <a href=\"/wiki/List_of_states_and_territories_of_the_United_States_by_population\" title=\"List of states and territories of the United States by population\">\n",
            "     5th\n",
            "    </a>\n",
            "   </td>\n",
            "  </tr>\n",
            "  <tr class=\"mergedrow\">\n",
            "   <th scope=\"row\">\n",
            "    • Density\n",
            "   </th>\n",
            "   <td>\n",
            "    284/sq mi (110/km\n",
            "    <sup>\n",
            "     2\n",
            "    </sup>\n",
            "    )\n",
            "   </td>\n",
            "  </tr>\n",
            "  <tr class=\"mergedrow\">\n",
            "   <th scope=\"row\">\n",
            "    • Density rank\n",
            "   </th>\n",
            "   <td>\n",
            "    <a href=\"/wiki/List_of_states_and_territories_of_the_United_States_by_population_density\" title=\"List of states and territories of the United States by population density\">\n",
            "     9th\n",
            "    </a>\n",
            "   </td>\n",
            "  </tr>\n",
            "  <tr class=\"mergedrow\">\n",
            "   <th scope=\"row\">\n",
            "    •\n",
            "    <a href=\"/wiki/Household_income_in_the_United_States#Income_by_state\" title=\"Household income in the United States\">\n",
            "     Median household income\n",
            "    </a>\n",
            "    <div style=\"font-weight:normal;display:inline;\">\n",
            "    </div>\n",
            "   </th>\n",
            "   <td>\n",
            "    $59,195\n",
            "    <sup class=\"reference\" id=\"cite_ref-4\">\n",
            "     <a href=\"#cite_note-4\">\n",
            "      [4]\n",
            "     </a>\n",
            "    </sup>\n",
            "   </td>\n",
            "  </tr>\n",
            "  <tr class=\"mergedrow\">\n",
            "   <th scope=\"row\">\n",
            "    • Income rank\n",
            "    <div style=\"font-weight:normal;display:inline;\">\n",
            "    </div>\n",
            "   </th>\n",
            "   <td>\n",
            "    25th\n",
            "   </td>\n",
            "  </tr>\n",
            "  <tr class=\"mergedtoprow\">\n",
            "   <th scope=\"row\">\n",
            "    <a href=\"/wiki/Demonym\" title=\"Demonym\">\n",
            "     Demonym(s)\n",
            "    </a>\n",
            "   </th>\n",
            "   <td>\n",
            "    Pennsylvanian\n",
            "   </td>\n",
            "  </tr>\n",
            "  <tr class=\"mergedtoprow\">\n",
            "   <th colspan=\"2\" style=\"text-align:center;text-align:left\">\n",
            "    Language\n",
            "    <div style=\"font-weight:normal;display:inline;\">\n",
            "    </div>\n",
            "   </th>\n",
            "  </tr>\n",
            "  <tr class=\"mergedrow\">\n",
            "   <th scope=\"row\">\n",
            "    •\n",
            "    <a href=\"/wiki/Languages_of_the_United_States\" title=\"Languages of the United States\">\n",
            "     Official language\n",
            "    </a>\n",
            "   </th>\n",
            "   <td>\n",
            "    None\n",
            "   </td>\n",
            "  </tr>\n",
            "  <tr class=\"mergedrow\">\n",
            "   <th scope=\"row\">\n",
            "    •\n",
            "    <a href=\"/wiki/Languages_of_the_United_States\" title=\"Languages of the United States\">\n",
            "     Spoken language\n",
            "    </a>\n",
            "   </th>\n",
            "   <td>\n",
            "    <a href=\"/wiki/English_language\" title=\"English language\">\n",
            "     English\n",
            "    </a>\n",
            "    90.15%\n",
            "    <br/>\n",
            "    <a href=\"/wiki/Spanish_language\" title=\"Spanish language\">\n",
            "     Spanish\n",
            "    </a>\n",
            "    4.09%\n",
            "    <br/>\n",
            "    <a href=\"/wiki/German_language\" title=\"German language\">\n",
            "     German\n",
            "    </a>\n",
            "    (Including\n",
            "    <a href=\"/wiki/Pennsylvania_German_language\" title=\"Pennsylvania German language\">\n",
            "     Pennsylvania German\n",
            "    </a>\n",
            "    ) 0.87%\n",
            "    <br/>\n",
            "    <a href=\"/wiki/Chinese_language\" title=\"Chinese language\">\n",
            "     Chinese\n",
            "    </a>\n",
            "    0.47%\n",
            "    <br/>\n",
            "    <a href=\"/wiki/Italian_language\" title=\"Italian language\">\n",
            "     Italian\n",
            "    </a>\n",
            "    0.43%\n",
            "    <sup class=\"reference\" id=\"cite_ref-5\">\n",
            "     <a href=\"#cite_note-5\">\n",
            "      [5]\n",
            "     </a>\n",
            "    </sup>\n",
            "   </td>\n",
            "  </tr>\n",
            "  <tr class=\"mergedtoprow\">\n",
            "   <th scope=\"row\">\n",
            "    <a href=\"/wiki/Time_zone\" title=\"Time zone\">\n",
            "     Time zone\n",
            "    </a>\n",
            "   </th>\n",
            "   <td>\n",
            "    <a href=\"/wiki/UTC%E2%88%9205:00\" title=\"UTC−05:00\">\n",
            "     UTC−05:00\n",
            "    </a>\n",
            "    (\n",
            "    <a href=\"/wiki/Eastern_Time_Zone\" title=\"Eastern Time Zone\">\n",
            "     Eastern\n",
            "    </a>\n",
            "    )\n",
            "   </td>\n",
            "  </tr>\n",
            "  <tr class=\"mergedrow\">\n",
            "   <th scope=\"row\">\n",
            "    <span style=\"white-space:nowrap\">\n",
            "     • Summer (\n",
            "     <a href=\"/wiki/Daylight_saving_time\" title=\"Daylight saving time\">\n",
            "      DST\n",
            "     </a>\n",
            "     )\n",
            "    </span>\n",
            "   </th>\n",
            "   <td>\n",
            "    <a href=\"/wiki/UTC%E2%88%9204:00\" title=\"UTC−04:00\">\n",
            "     UTC−04:00\n",
            "    </a>\n",
            "    (\n",
            "    <a class=\"mw-redirect\" href=\"/wiki/Eastern_Daylight_Time\" title=\"Eastern Daylight Time\">\n",
            "     EDT\n",
            "    </a>\n",
            "    )\n",
            "   </td>\n",
            "  </tr>\n",
            "  <tr class=\"mergedtoprow\">\n",
            "   <th scope=\"row\">\n",
            "    <a href=\"/wiki/List_of_U.S._state_abbreviations#Postal_codes\" title=\"List of U.S. state abbreviations\">\n",
            "     USPS abbreviation\n",
            "    </a>\n",
            "   </th>\n",
            "   <td class=\"adr\">\n",
            "    <div class=\"postal-code\">\n",
            "     PA\n",
            "    </div>\n",
            "   </td>\n",
            "  </tr>\n",
            "  <tr class=\"mergedrow\">\n",
            "   <th scope=\"row\">\n",
            "    <a href=\"/wiki/ISO_3166\" title=\"ISO 3166\">\n",
            "     ISO 3166 code\n",
            "    </a>\n",
            "   </th>\n",
            "   <td class=\"nickname\">\n",
            "    <a href=\"/wiki/ISO_3166-2:US\" title=\"ISO 3166-2:US\">\n",
            "     US-PA\n",
            "    </a>\n",
            "   </td>\n",
            "  </tr>\n",
            "  <tr>\n",
            "   <th scope=\"row\">\n",
            "    <a href=\"/wiki/List_of_U.S._state_abbreviations#Current_use_of_traditional_abbreviations\" title=\"List of U.S. state abbreviations\">\n",
            "     Trad. abbreviation\n",
            "    </a>\n",
            "   </th>\n",
            "   <td class=\"nickname\">\n",
            "    Pa., Penn., Penna.\n",
            "   </td>\n",
            "  </tr>\n",
            "  <tr class=\"mergedtoprow\">\n",
            "   <th scope=\"row\">\n",
            "    Latitude\n",
            "   </th>\n",
            "   <td>\n",
            "    39°43′ to 42°16′ N\n",
            "   </td>\n",
            "  </tr>\n",
            "  <tr class=\"mergedrow\">\n",
            "   <th scope=\"row\">\n",
            "    Longitude\n",
            "   </th>\n",
            "   <td>\n",
            "    74°41′ to 80°31′ W\n",
            "   </td>\n",
            "  </tr>\n",
            "  <tr class=\"mergedtoprow\">\n",
            "   <th scope=\"row\">\n",
            "    Website\n",
            "   </th>\n",
            "   <td>\n",
            "    <span class=\"url\">\n",
            "     <a class=\"external text\" href=\"https://www.pa.gov/\" rel=\"nofollow\">\n",
            "      www\n",
            "      <wbr/>\n",
            "      .pa\n",
            "      <wbr/>\n",
            "      .gov\n",
            "     </a>\n",
            "    </span>\n",
            "   </td>\n",
            "  </tr>\n",
            " </tbody>\n",
            "</table>\n",
            "\n"
          ],
          "name": "stdout"
        }
      ]
    },
    {
      "cell_type": "code",
      "metadata": {
        "id": "XXz_zkwDPBze",
        "colab_type": "code",
        "colab": {}
      },
      "source": [
        "first_table = soup.find('table')"
      ],
      "execution_count": 0,
      "outputs": []
    },
    {
      "cell_type": "code",
      "metadata": {
        "id": "NH8Q6MxzPEdD",
        "colab_type": "code",
        "outputId": "c7b670ae-2557-4ea1-fd32-3df2e1f62ee3",
        "colab": {
          "base_uri": "https://localhost:8080/",
          "height": 35
        }
      },
      "source": [
        "type(first_table)"
      ],
      "execution_count": 0,
      "outputs": [
        {
          "output_type": "execute_result",
          "data": {
            "text/plain": [
              "bs4.element.Tag"
            ]
          },
          "metadata": {
            "tags": []
          },
          "execution_count": 163
        }
      ]
    },
    {
      "cell_type": "markdown",
      "metadata": {
        "id": "IMLAM5oXPNWC",
        "colab_type": "text"
      },
      "source": [
        "Now find the header text of this table and the text of the first data row."
      ]
    },
    {
      "cell_type": "code",
      "metadata": {
        "id": "XFxzeQVoPGpA",
        "colab_type": "code",
        "outputId": "d6c77301-45f0-4e65-8a57-648b991f6e6e",
        "colab": {
          "base_uri": "https://localhost:8080/",
          "height": 35
        }
      },
      "source": [
        "first_table.find('th').text"
      ],
      "execution_count": 0,
      "outputs": [
        {
          "output_type": "execute_result",
          "data": {
            "text/plain": [
              "'Pennsylvania'"
            ]
          },
          "metadata": {
            "tags": []
          },
          "execution_count": 164
        }
      ]
    },
    {
      "cell_type": "code",
      "metadata": {
        "id": "YjaSVBb3PooR",
        "colab_type": "code",
        "outputId": "2c5f5d18-717e-4bf6-bb0b-f1592394a64a",
        "colab": {
          "base_uri": "https://localhost:8080/",
          "height": 35
        }
      },
      "source": [
        "first_table.find('td').text"
      ],
      "execution_count": 0,
      "outputs": [
        {
          "output_type": "execute_result",
          "data": {
            "text/plain": [
              "'State'"
            ]
          },
          "metadata": {
            "tags": []
          },
          "execution_count": 166
        }
      ]
    },
    {
      "cell_type": "markdown",
      "metadata": {
        "id": "J4bY3_ZdP7fN",
        "colab_type": "text"
      },
      "source": [
        "Also note that instead of saving the table as its own Python variable, you could just chain these searches together."
      ]
    },
    {
      "cell_type": "code",
      "metadata": {
        "id": "jNvIXdLrQDx3",
        "colab_type": "code",
        "outputId": "4bf3f71a-1f1a-486b-b577-c81ac0675686",
        "colab": {
          "base_uri": "https://localhost:8080/",
          "height": 35
        }
      },
      "source": [
        "state = soup.find('table').find('th').text\n",
        "\n",
        "state"
      ],
      "execution_count": 0,
      "outputs": [
        {
          "output_type": "execute_result",
          "data": {
            "text/plain": [
              "'Pennsylvania'"
            ]
          },
          "metadata": {
            "tags": []
          },
          "execution_count": 167
        }
      ]
    },
    {
      "cell_type": "code",
      "metadata": {
        "id": "-usqIVOkQH2g",
        "colab_type": "code",
        "outputId": "747c6add-e6f9-4a7a-9066-fb18feed1b95",
        "colab": {
          "base_uri": "https://localhost:8080/",
          "height": 215
        }
      },
      "source": [
        "for row in soup.find('table').find_all('tr')[:10]:\n",
        "  print(row.text)"
      ],
      "execution_count": 0,
      "outputs": [
        {
          "output_type": "stream",
          "text": [
            "Pennsylvania\n",
            "State\n",
            "Commonwealth of Pennsylvania\n",
            "\n",
            "FlagSeal\n",
            "Nickname(s): Keystone State;[1] Quaker State\n",
            "Motto(s): Virtue, Liberty and Independence\n",
            "Anthem: \"Pennsylvania\"\n",
            "Map of the United States with Pennsylvania highlighted\n",
            "CountryUnited States\n",
            "Before statehoodProvince of Pennsylvania\n"
          ],
          "name": "stdout"
        }
      ]
    },
    {
      "cell_type": "markdown",
      "metadata": {
        "id": "mE2v84bMQkCX",
        "colab_type": "text"
      },
      "source": [
        "You can continue chaining down through as much of the HTML DOM as you'd like!"
      ]
    },
    {
      "cell_type": "code",
      "metadata": {
        "id": "THrfXwcVQn1C",
        "colab_type": "code",
        "outputId": "d2d62701-128f-451d-d317-f455be81298b",
        "colab": {
          "base_uri": "https://localhost:8080/",
          "height": 35
        }
      },
      "source": [
        "(soup\n",
        " .find('div', id='content')\n",
        " .find('div', id='bodyContent')\n",
        " .find('div', id='mw-content-text')\n",
        " .find('div', role='note')\n",
        ").text"
      ],
      "execution_count": 0,
      "outputs": [
        {
          "output_type": "execute_result",
          "data": {
            "text/plain": [
              "'This article is about the U.S. state. For other uses, see Pennsylvania (disambiguation).'"
            ]
          },
          "metadata": {
            "tags": []
          },
          "execution_count": 168
        }
      ]
    },
    {
      "cell_type": "markdown",
      "metadata": {
        "id": "zodKBCMEgVuA",
        "colab_type": "text"
      },
      "source": [
        "### Locating information by position"
      ]
    },
    {
      "cell_type": "markdown",
      "metadata": {
        "id": "hfOiDJnoR38I",
        "colab_type": "text"
      },
      "source": [
        "We just saw that basic facts about Pennsylvania can be found within the first table of this page.  Now let's get more specific.\n",
        "\n",
        "How can we extract the date Pennsylvania was admitted to the union?"
      ]
    },
    {
      "cell_type": "code",
      "metadata": {
        "id": "lAxIUSlQf91o",
        "colab_type": "code",
        "outputId": "e1197aa7-1fc5-4b15-b539-7a264d09f1ec",
        "colab": {
          "base_uri": "https://localhost:8080/",
          "height": 35
        }
      },
      "source": [
        "soup.find('table').find_all('td')[9]"
      ],
      "execution_count": 0,
      "outputs": [
        {
          "output_type": "execute_result",
          "data": {
            "text/plain": [
              "<td>December 12, 1787 (2nd)</td>"
            ]
          },
          "metadata": {
            "tags": []
          },
          "execution_count": 169
        }
      ]
    },
    {
      "cell_type": "markdown",
      "metadata": {
        "id": "tWbjVOiHW7e0",
        "colab_type": "text"
      },
      "source": [
        "It's the tenth element in this list, but what happens to this code if someone edits the Wikipedia table to include additional information?\n",
        "\n",
        "\n",
        "Sometimes it is better or necessary to find information by text matching, but be careful -- this needs to be an exact match!"
      ]
    },
    {
      "cell_type": "code",
      "metadata": {
        "id": "8-2VQAnRWoaF",
        "colab_type": "code",
        "colab": {}
      },
      "source": [
        "soup.find(text='Admitted')   #not an exact match"
      ],
      "execution_count": 0,
      "outputs": []
    },
    {
      "cell_type": "code",
      "metadata": {
        "id": "OTegKoctWofN",
        "colab_type": "code",
        "outputId": "f31ec339-fbd5-4d90-ff5c-f5d4e2492782",
        "colab": {
          "base_uri": "https://localhost:8080/",
          "height": 35
        }
      },
      "source": [
        "soup.find(text='Admitted to the Union')"
      ],
      "execution_count": 0,
      "outputs": [
        {
          "output_type": "execute_result",
          "data": {
            "text/plain": [
              "'Admitted to the Union'"
            ]
          },
          "metadata": {
            "tags": []
          },
          "execution_count": 171
        }
      ]
    },
    {
      "cell_type": "markdown",
      "metadata": {
        "id": "SS0qEJE3YLfr",
        "colab_type": "text"
      },
      "source": [
        "Alternatively, we could use [regular expressions](https://docs.python.org/3/library/re.html)."
      ]
    },
    {
      "cell_type": "code",
      "metadata": {
        "id": "oQ13X3m3YSX-",
        "colab_type": "code",
        "outputId": "6e63ccc0-b30a-44a9-b038-de22dc109170",
        "colab": {
          "base_uri": "https://localhost:8080/",
          "height": 35
        }
      },
      "source": [
        "import re\n",
        "\n",
        "admitted_regex = re.compile('Admitted')\n",
        "soup.find(text=admitted_regex)"
      ],
      "execution_count": 0,
      "outputs": [
        {
          "output_type": "execute_result",
          "data": {
            "text/plain": [
              "'Admitted to the Union'"
            ]
          },
          "metadata": {
            "tags": []
          },
          "execution_count": 172
        }
      ]
    },
    {
      "cell_type": "markdown",
      "metadata": {
        "id": "NKfTw-_gX59C",
        "colab_type": "text"
      },
      "source": [
        "This looks like a string, but it's actually a `BeautifulSoup` element."
      ]
    },
    {
      "cell_type": "code",
      "metadata": {
        "id": "4alYF2KjX08B",
        "colab_type": "code",
        "outputId": "3b88901e-c533-4d07-d3b6-c48da6ea5788",
        "colab": {
          "base_uri": "https://localhost:8080/",
          "height": 35
        }
      },
      "source": [
        "admitted = soup.find(text='Admitted to the Union')\n",
        "\n",
        "type(admitted)"
      ],
      "execution_count": 0,
      "outputs": [
        {
          "output_type": "execute_result",
          "data": {
            "text/plain": [
              "bs4.element.NavigableString"
            ]
          },
          "metadata": {
            "tags": []
          },
          "execution_count": 173
        }
      ]
    },
    {
      "cell_type": "markdown",
      "metadata": {
        "id": "ZmrhV9LlYlpG",
        "colab_type": "text"
      },
      "source": [
        "So we can use it to traverse the DOM.  Here, we will find the next element in the tree."
      ]
    },
    {
      "cell_type": "code",
      "metadata": {
        "id": "uwSpaWfHYAe3",
        "colab_type": "code",
        "outputId": "4e2c2dad-ba14-4020-cb41-d65f39f09b99",
        "colab": {
          "base_uri": "https://localhost:8080/",
          "height": 35
        }
      },
      "source": [
        "admitted.next"
      ],
      "execution_count": 0,
      "outputs": [
        {
          "output_type": "execute_result",
          "data": {
            "text/plain": [
              "<td>December 12, 1787 (2nd)</td>"
            ]
          },
          "metadata": {
            "tags": []
          },
          "execution_count": 174
        }
      ]
    },
    {
      "cell_type": "code",
      "metadata": {
        "id": "80qNTf8ZYvmW",
        "colab_type": "code",
        "outputId": "2c3fd56a-e307-44e6-a53c-daa3debae2f4",
        "colab": {
          "base_uri": "https://localhost:8080/",
          "height": 35
        }
      },
      "source": [
        "admitted.next.text"
      ],
      "execution_count": 0,
      "outputs": [
        {
          "output_type": "execute_result",
          "data": {
            "text/plain": [
              "'December 12, 1787 (2nd)'"
            ]
          },
          "metadata": {
            "tags": []
          },
          "execution_count": 175
        }
      ]
    },
    {
      "cell_type": "markdown",
      "metadata": {
        "id": "EQkvt_m0Y0nN",
        "colab_type": "text"
      },
      "source": [
        "For some cases it's much easier to find one element and then move up, down, or sideways within the DOM.  `BeautifulSoup` also allows you to look for `.parent`, `.children`, `.next_sibling`, `.previous_sibling`, [etc.](https://www.crummy.com/software/BeautifulSoup/bs4/doc/#navigating-the-tree)"
      ]
    },
    {
      "cell_type": "code",
      "metadata": {
        "id": "s66gL4QpckiW",
        "colab_type": "code",
        "outputId": "d9bcffd0-eec6-4532-9127-5734792d5f83",
        "colab": {
          "base_uri": "https://localhost:8080/",
          "height": 55
        }
      },
      "source": [
        "admitted.parent"
      ],
      "execution_count": 0,
      "outputs": [
        {
          "output_type": "execute_result",
          "data": {
            "text/plain": [
              "<a href=\"/wiki/List_of_U.S._states_by_date_of_admission_to_the_Union#List_of_U.S._states\" title=\"List of U.S. states by date of admission to the Union\">Admitted to the Union</a>"
            ]
          },
          "metadata": {
            "tags": []
          },
          "execution_count": 176
        }
      ]
    },
    {
      "cell_type": "markdown",
      "metadata": {
        "id": "sj3q_tlTc6bi",
        "colab_type": "text"
      },
      "source": [
        "\n",
        "<img src=\"https://drive.google.com/uc?export=view&id=1b88t_6cp1ozWJydV1CyN2k0ZAyPTZh1V\"  alt=\"tip\" height=\"22\"/> Any \"plural\" attribute such as `children` or `siblings` will return a generator.  Just loop over the result or convert it to a list."
      ]
    },
    {
      "cell_type": "markdown",
      "metadata": {
        "id": "BF542FNlgcfB",
        "colab_type": "text"
      },
      "source": [
        "### Exercises"
      ]
    },
    {
      "cell_type": "markdown",
      "metadata": {
        "id": "HlHPqxXCdFYn",
        "colab_type": "text"
      },
      "source": [
        "<img src=\"https://drive.google.com/uc?export=view&id=18s6CjUtjr0M24K57uMdtmXvK5TrV34Tv\"  alt=\"exercise\" height=\"20\"/> **Exercise 2 - Capital City**  <br>\n",
        ">Write code to extract the capital of Pennsylvania from the main table without using list positions."
      ]
    },
    {
      "cell_type": "code",
      "metadata": {
        "id": "tEeBmiEIf-C3",
        "colab_type": "code",
        "outputId": "4351000e-86a5-478e-ae6b-b46d8c40643e",
        "colab": {
          "base_uri": "https://localhost:8080/",
          "height": 35
        }
      },
      "source": [
        "soup.find(text='Capital').next.text"
      ],
      "execution_count": 0,
      "outputs": [
        {
          "output_type": "execute_result",
          "data": {
            "text/plain": [
              "'Harrisburg'"
            ]
          },
          "metadata": {
            "tags": []
          },
          "execution_count": 177
        }
      ]
    },
    {
      "cell_type": "markdown",
      "metadata": {
        "id": "hRRffF8Ed9DU",
        "colab_type": "text"
      },
      "source": [
        "<img src=\"https://drive.google.com/uc?export=view&id=18s6CjUtjr0M24K57uMdtmXvK5TrV34Tv\"  alt=\"exercise\" height=\"20\"/> **Exercise 3 - Reference Links**  <br>\n",
        "> Print out the text of the first three references (at the bottom of the page).  For an added bonus: can you also print all the external links from these three references?"
      ]
    },
    {
      "cell_type": "code",
      "metadata": {
        "id": "Sxv-Z-nff2ke",
        "colab_type": "code",
        "outputId": "b96733d8-69c8-465b-9a1f-00881e3d86f5",
        "colab": {
          "base_uri": "https://localhost:8080/",
          "height": 91
        }
      },
      "source": [
        "for ref in soup.find(class_='references').find_all('cite')[:3]:\n",
        "  print(ref.text)"
      ],
      "execution_count": 0,
      "outputs": [
        {
          "output_type": "stream",
          "text": [
            "\"Symbols of Pennsylvania\". Portal.state.pa.us. Archived from the original on October 14, 2007. Retrieved May 4, 2014.\n",
            "\"Elevations and Distances in the United States\". United States Geological Survey. 2001. Archived from the original on October 15, 2011. Retrieved October 24, 2011.\n",
            "\"Median Annual Household Income\". The Henry J. Kaiser Family Foundation. Archived from the original on December 20, 2016. Retrieved December 9, 2016.\n"
          ],
          "name": "stdout"
        }
      ]
    },
    {
      "cell_type": "code",
      "metadata": {
        "id": "sSFnIqnIf2oN",
        "colab_type": "code",
        "outputId": "2ae2e9da-0a58-4aff-baa0-fe0cf4792099",
        "colab": {
          "base_uri": "https://localhost:8080/",
          "height": 125
        }
      },
      "source": [
        "ref3 = soup.find(class_='references').find_all('cite')[:3]\n",
        "for ref in ref3:\n",
        "  for link in ref.find_all('a', class_='external'):\n",
        "    print(link['href'])"
      ],
      "execution_count": 0,
      "outputs": [
        {
          "output_type": "stream",
          "text": [
            "http://www.portal.state.pa.us/portal/server.pt/community/things/4280/symbols_of_pennsylvania/478690\n",
            "https://web.archive.org/web/20071014215922/http://www.phmc.state.pa.us/bah/pahist/symbols.asp?secid=31\n",
            "https://web.archive.org/web/20111015012701/http://egsc.usgs.gov/isb/pubs/booklets/elvadist/elvadist.html\n",
            "http://egsc.usgs.gov/isb/pubs/booklets/elvadist/elvadist.html\n",
            "http://kff.org/other/state-indicator/median-annual-income/?currentTimeframe=0\n",
            "https://web.archive.org/web/20161220091007/http://kff.org/other/state-indicator/median-annual-income/?currentTimeframe=0\n"
          ],
          "name": "stdout"
        }
      ]
    },
    {
      "cell_type": "markdown",
      "metadata": {
        "id": "1YvSGjDegu3j",
        "colab_type": "text"
      },
      "source": [
        "# Data Preparation"
      ]
    },
    {
      "cell_type": "markdown",
      "metadata": {
        "id": "28UdiLXBJm8Z",
        "colab_type": "text"
      },
      "source": [
        "Now that we know how to gather information from the web, what do we do with it?\n",
        "\n",
        "This data can be\n",
        "- aggregated to look for trends\n",
        "- visualized to understand patterns\n",
        "- leveraged with machine learning algorithms\n",
        "\n",
        "<center>\n",
        "<img src=\"https://drive.google.com/uc?export=view&id=1EsF4ecO4-oOmtN8hz1xQba20JcyxsitN\"  alt=\"info\" height=\"300\"/>\n",
        "</center>\n",
        "\n"
      ]
    },
    {
      "cell_type": "markdown",
      "metadata": {
        "id": "DkZVzA4zNJrK",
        "colab_type": "text"
      },
      "source": [
        "\n",
        "But first we need to \n",
        "- convert several strings into numerical or datetime values\n",
        "- collect and store data from multiple pages (next section)\n",
        "\n",
        "<img src=\"https://drive.google.com/uc?export=view&id=1b88t_6cp1ozWJydV1CyN2k0ZAyPTZh1V\"  alt=\"tip\" height=\"22\"/> Most web scraping project rely on multiple pages of information, each of which serving as a data observation.  For this case, we might collect data about Pennsylvania and then collect the same kinds of information for all 50 United States before analyzing or visualizing the data."
      ]
    },
    {
      "cell_type": "markdown",
      "metadata": {
        "id": "eP-3auSQg-xN",
        "colab_type": "text"
      },
      "source": [
        "### Data processing"
      ]
    },
    {
      "cell_type": "markdown",
      "metadata": {
        "id": "D9ud6P0Q-ZD-",
        "colab_type": "text"
      },
      "source": [
        "#### Date Admitted"
      ]
    },
    {
      "cell_type": "markdown",
      "metadata": {
        "id": "K7qelh9YWsbk",
        "colab_type": "text"
      },
      "source": [
        "In the last section, we collected the date that Pennsylvania was admitted to the union."
      ]
    },
    {
      "cell_type": "code",
      "metadata": {
        "id": "btM7W50vgfAu",
        "colab_type": "code",
        "outputId": "50ba525f-34da-4109-c67c-53735054fbdf",
        "colab": {
          "base_uri": "https://localhost:8080/",
          "height": 35
        }
      },
      "source": [
        "date_admitted_text = admitted.next.text\n",
        "\n",
        "date_admitted_text"
      ],
      "execution_count": 0,
      "outputs": [
        {
          "output_type": "execute_result",
          "data": {
            "text/plain": [
              "'December 12, 1787 (2nd)'"
            ]
          },
          "metadata": {
            "tags": []
          },
          "execution_count": 180
        }
      ]
    },
    {
      "cell_type": "markdown",
      "metadata": {
        "id": "7mBTAYL2W_eZ",
        "colab_type": "text"
      },
      "source": [
        "We need Python to recognize this as a date for futher analyses.  First let's narrow down to just the date part of the string."
      ]
    },
    {
      "cell_type": "code",
      "metadata": {
        "id": "LEaAturdgfDq",
        "colab_type": "code",
        "outputId": "04201f64-4d48-4a34-e5b3-cf9a9cf170e7",
        "colab": {
          "base_uri": "https://localhost:8080/",
          "height": 35
        }
      },
      "source": [
        "date_admitted_list = date_admitted_text.split(' ')[:-1]\n",
        "\n",
        "date_admitted_list"
      ],
      "execution_count": 0,
      "outputs": [
        {
          "output_type": "execute_result",
          "data": {
            "text/plain": [
              "['December', '12,', '1787']"
            ]
          },
          "metadata": {
            "tags": []
          },
          "execution_count": 181
        }
      ]
    },
    {
      "cell_type": "code",
      "metadata": {
        "id": "H7476gCpXLaI",
        "colab_type": "code",
        "outputId": "b2a7046e-df60-4563-f5f9-91be3273ee86",
        "colab": {
          "base_uri": "https://localhost:8080/",
          "height": 35
        }
      },
      "source": [
        "date_admitted_str = ' '.join(date_admitted_list)\n",
        "\n",
        "date_admitted_str"
      ],
      "execution_count": 0,
      "outputs": [
        {
          "output_type": "execute_result",
          "data": {
            "text/plain": [
              "'December 12, 1787'"
            ]
          },
          "metadata": {
            "tags": []
          },
          "execution_count": 182
        }
      ]
    },
    {
      "cell_type": "markdown",
      "metadata": {
        "id": "iuJW2pd_9d4g",
        "colab_type": "text"
      },
      "source": [
        "Now we will convert this string into a datetime data type."
      ]
    },
    {
      "cell_type": "code",
      "metadata": {
        "id": "86QHOMcfXLeU",
        "colab_type": "code",
        "colab": {}
      },
      "source": [
        "import dateutil.parser"
      ],
      "execution_count": 0,
      "outputs": []
    },
    {
      "cell_type": "code",
      "metadata": {
        "id": "Cca3A6CPyMBF",
        "colab_type": "code",
        "outputId": "c6b51492-2eef-4ede-c50c-e0c12b76c82d",
        "colab": {
          "base_uri": "https://localhost:8080/",
          "height": 35
        }
      },
      "source": [
        "date_admitted = dateutil.parser.parse(date_admitted_str)\n",
        "\n",
        "date_admitted"
      ],
      "execution_count": 0,
      "outputs": [
        {
          "output_type": "execute_result",
          "data": {
            "text/plain": [
              "datetime.datetime(1787, 12, 12, 0, 0)"
            ]
          },
          "metadata": {
            "tags": []
          },
          "execution_count": 184
        }
      ]
    },
    {
      "cell_type": "code",
      "metadata": {
        "id": "VxKYD4pE-pqv",
        "colab_type": "code",
        "outputId": "4ab928c2-b3c0-4004-b7a6-2181be599548",
        "colab": {
          "base_uri": "https://localhost:8080/",
          "height": 35
        }
      },
      "source": [
        "type(date_admitted)"
      ],
      "execution_count": 0,
      "outputs": [
        {
          "output_type": "execute_result",
          "data": {
            "text/plain": [
              "datetime.datetime"
            ]
          },
          "metadata": {
            "tags": []
          },
          "execution_count": 185
        }
      ]
    },
    {
      "cell_type": "code",
      "metadata": {
        "id": "euH7jBO3yMEg",
        "colab_type": "code",
        "outputId": "9854840f-8b8b-4182-c879-987e0ccfebfd",
        "colab": {
          "base_uri": "https://localhost:8080/",
          "height": 35
        }
      },
      "source": [
        "date_admitted.year"
      ],
      "execution_count": 0,
      "outputs": [
        {
          "output_type": "execute_result",
          "data": {
            "text/plain": [
              "1787"
            ]
          },
          "metadata": {
            "tags": []
          },
          "execution_count": 186
        }
      ]
    },
    {
      "cell_type": "markdown",
      "metadata": {
        "id": "lY3WMJuD-tL8",
        "colab_type": "text"
      },
      "source": [
        "#### Population and Area"
      ]
    },
    {
      "cell_type": "markdown",
      "metadata": {
        "id": "_uuoGoQs_Cb0",
        "colab_type": "text"
      },
      "source": [
        "Another quantity that might be useful if we want to compare Pennsylvania to other US states is population.  Let's look for the word \"Total\" and use the same trick we tried before.\n",
        "\n",
        "\n",
        "\n"
      ]
    },
    {
      "cell_type": "code",
      "metadata": {
        "id": "aFNJugfe-_rK",
        "colab_type": "code",
        "outputId": "d0da4064-4831-4cdb-b57e-f8dfdbe31bc8",
        "colab": {
          "base_uri": "https://localhost:8080/",
          "height": 35
        }
      },
      "source": [
        "soup.find(text=re.compile('Total'))"
      ],
      "execution_count": 0,
      "outputs": [
        {
          "output_type": "execute_result",
          "data": {
            "text/plain": [
              "'\\xa0•\\xa0Total'"
            ]
          },
          "metadata": {
            "tags": []
          },
          "execution_count": 187
        }
      ]
    },
    {
      "cell_type": "code",
      "metadata": {
        "id": "N3TkqAto_1YQ",
        "colab_type": "code",
        "outputId": "098ce1e3-2d76-4b7c-8c2c-b3a43d53b5a7",
        "colab": {
          "base_uri": "https://localhost:8080/",
          "height": 35
        }
      },
      "source": [
        "soup.find(text=re.compile('Total')).next"
      ],
      "execution_count": 0,
      "outputs": [
        {
          "output_type": "execute_result",
          "data": {
            "text/plain": [
              "<td>46,055 sq mi (119,283 km<sup>2</sup>)</td>"
            ]
          },
          "metadata": {
            "tags": []
          },
          "execution_count": 188
        }
      ]
    },
    {
      "cell_type": "markdown",
      "metadata": {
        "id": "Dk07aajPAmYQ",
        "colab_type": "text"
      },
      "source": [
        "That's not the population!  Looks like total area is also next to a \"Total\" label.  Let's save that and come back to it later."
      ]
    },
    {
      "cell_type": "code",
      "metadata": {
        "id": "uNF67hL1_1bK",
        "colab_type": "code",
        "colab": {}
      },
      "source": [
        "area_text = soup.find(text=re.compile('Total')).next.text"
      ],
      "execution_count": 0,
      "outputs": []
    },
    {
      "cell_type": "markdown",
      "metadata": {
        "id": "oKZPzfF-A4l3",
        "colab_type": "text"
      },
      "source": [
        "How might we explicitly look for the population total?"
      ]
    },
    {
      "cell_type": "code",
      "metadata": {
        "id": "VbEecQH8_1VZ",
        "colab_type": "code",
        "outputId": "6a589637-a21f-40ec-dd38-05cc51001be5",
        "colab": {
          "base_uri": "https://localhost:8080/",
          "height": 55
        }
      },
      "source": [
        "soup.find(text='Population').parent"
      ],
      "execution_count": 0,
      "outputs": [
        {
          "output_type": "execute_result",
          "data": {
            "text/plain": [
              "<th colspan=\"2\" style=\"text-align:center;text-align:left\">Population<div style=\"font-weight:normal;display:inline;\"><span class=\"nowrap\"> </span>(2019)</div></th>"
            ]
          },
          "metadata": {
            "tags": []
          },
          "execution_count": 192
        }
      ]
    },
    {
      "cell_type": "code",
      "metadata": {
        "id": "KObG3r-qB888",
        "colab_type": "code",
        "outputId": "ae84ca05-7919-441a-87b1-21e5bd9d1fe4",
        "colab": {
          "base_uri": "https://localhost:8080/",
          "height": 55
        }
      },
      "source": [
        "soup.find(text='Population').parent.parent"
      ],
      "execution_count": 0,
      "outputs": [
        {
          "output_type": "execute_result",
          "data": {
            "text/plain": [
              "<tr class=\"mergedtoprow\"><th colspan=\"2\" style=\"text-align:center;text-align:left\">Population<div style=\"font-weight:normal;display:inline;\"><span class=\"nowrap\"> </span>(2019)</div></th></tr>"
            ]
          },
          "metadata": {
            "tags": []
          },
          "execution_count": 193
        }
      ]
    },
    {
      "cell_type": "code",
      "metadata": {
        "id": "QwStF7qwCB1l",
        "colab_type": "code",
        "outputId": "2fe75eaf-5031-44cd-8e05-9f567b642694",
        "colab": {
          "base_uri": "https://localhost:8080/",
          "height": 35
        }
      },
      "source": [
        "soup.find(text='Population').parent.parent.next_sibling"
      ],
      "execution_count": 0,
      "outputs": [
        {
          "output_type": "execute_result",
          "data": {
            "text/plain": [
              "<tr class=\"mergedrow\"><th scope=\"row\"> • Total</th><td>12,801,989</td></tr>"
            ]
          },
          "metadata": {
            "tags": []
          },
          "execution_count": 194
        }
      ]
    },
    {
      "cell_type": "code",
      "metadata": {
        "id": "wDbsBNhVCO90",
        "colab_type": "code",
        "outputId": "41cdc73e-cc3e-4111-da43-921e706b07f5",
        "colab": {
          "base_uri": "https://localhost:8080/",
          "height": 35
        }
      },
      "source": [
        "soup.find(text='Population').parent.parent.next_sibling.find('td')"
      ],
      "execution_count": 0,
      "outputs": [
        {
          "output_type": "execute_result",
          "data": {
            "text/plain": [
              "<td>12,801,989</td>"
            ]
          },
          "metadata": {
            "tags": []
          },
          "execution_count": 195
        }
      ]
    },
    {
      "cell_type": "code",
      "metadata": {
        "id": "lkG11Dz7CRhK",
        "colab_type": "code",
        "outputId": "bb7716a6-d2f1-4364-f53f-35dfc5d2e427",
        "colab": {
          "base_uri": "https://localhost:8080/",
          "height": 35
        }
      },
      "source": [
        "population_text = soup.find(text='Population').parent.parent.next_sibling.find('td').text\n",
        "\n",
        "population_text"
      ],
      "execution_count": 0,
      "outputs": [
        {
          "output_type": "execute_result",
          "data": {
            "text/plain": [
              "'12,801,989'"
            ]
          },
          "metadata": {
            "tags": []
          },
          "execution_count": 196
        }
      ]
    },
    {
      "cell_type": "markdown",
      "metadata": {
        "id": "yOCvBOy8CbSx",
        "colab_type": "text"
      },
      "source": [
        "Sometimes you need to continuing traversing the DOM until you find the information you need!\n",
        "\n",
        "Now let's convert that string into an integer."
      ]
    },
    {
      "cell_type": "code",
      "metadata": {
        "id": "g4jYh8ZHCai4",
        "colab_type": "code",
        "outputId": "86bdae05-602d-428d-f29e-4cf4e466b9ac",
        "colab": {
          "base_uri": "https://localhost:8080/",
          "height": 35
        }
      },
      "source": [
        "population = int(population_text.replace(',', ''))\n",
        "\n",
        "population"
      ],
      "execution_count": 0,
      "outputs": [
        {
          "output_type": "execute_result",
          "data": {
            "text/plain": [
              "12801989"
            ]
          },
          "metadata": {
            "tags": []
          },
          "execution_count": 197
        }
      ]
    },
    {
      "cell_type": "markdown",
      "metadata": {
        "id": "z0HqtiCHDBHK",
        "colab_type": "text"
      },
      "source": [
        "Often it's useful to write functions to help you clean up your data.  Let's do that now so we can reuse these steps."
      ]
    },
    {
      "cell_type": "code",
      "metadata": {
        "id": "n7jwlEHYCouv",
        "colab_type": "code",
        "colab": {}
      },
      "source": [
        "def to_date(date_str):\n",
        "  date_str = re.match('[\\w\\s,]+', date_str)[0]\n",
        "  return dateutil.parser.parse(date_str)\n",
        "\n",
        "def to_int(number_str):\n",
        "  number_str = re.match('[\\d,$]+', number_str)[0]\n",
        "  number_str = number_str.replace('$', '').replace(',', '')\n",
        "  return int(number_str)"
      ],
      "execution_count": 0,
      "outputs": []
    },
    {
      "cell_type": "markdown",
      "metadata": {
        "id": "iUVZ_XOWDfAh",
        "colab_type": "text"
      },
      "source": [
        "Now we can use our `to_int` function to clean up the area text we found previously.  This text actually contains special spaces so we will use regular expressions (regex) to capture just the first digits in the `to_int` function."
      ]
    },
    {
      "cell_type": "code",
      "metadata": {
        "id": "xSIEej9sCoxh",
        "colab_type": "code",
        "outputId": "1fcd48f0-2438-48a2-a77f-e9162122b341",
        "colab": {
          "base_uri": "https://localhost:8080/",
          "height": 35
        }
      },
      "source": [
        "area_text"
      ],
      "execution_count": 0,
      "outputs": [
        {
          "output_type": "execute_result",
          "data": {
            "text/plain": [
              "'46,055\\xa0sq\\xa0mi (119,283\\xa0km2)'"
            ]
          },
          "metadata": {
            "tags": []
          },
          "execution_count": 199
        }
      ]
    },
    {
      "cell_type": "code",
      "metadata": {
        "id": "fHgw0IbbDemn",
        "colab_type": "code",
        "outputId": "7b560ec6-7269-488d-c791-359099c6768a",
        "colab": {
          "base_uri": "https://localhost:8080/",
          "height": 35
        }
      },
      "source": [
        "area = to_int(area_text)\n",
        "\n",
        "area"
      ],
      "execution_count": 0,
      "outputs": [
        {
          "output_type": "execute_result",
          "data": {
            "text/plain": [
              "46055"
            ]
          },
          "metadata": {
            "tags": []
          },
          "execution_count": 200
        }
      ]
    },
    {
      "cell_type": "markdown",
      "metadata": {
        "id": "0ZmaFPGBhFaT",
        "colab_type": "text"
      },
      "source": [
        "### Data storage"
      ]
    },
    {
      "cell_type": "markdown",
      "metadata": {
        "id": "8yLd9Qc6EdF6",
        "colab_type": "text"
      },
      "source": [
        "Now let's put all the information we have about Pennsylvania together."
      ]
    },
    {
      "cell_type": "code",
      "metadata": {
        "id": "t2BxYfFDgfGi",
        "colab_type": "code",
        "colab": {}
      },
      "source": [
        "penn_dict = {\n",
        "    'state': state,\n",
        "    'date_admitted': date_admitted,\n",
        "    'population': population,\n",
        "    'area_sq_mi': area\n",
        "}"
      ],
      "execution_count": 0,
      "outputs": []
    },
    {
      "cell_type": "code",
      "metadata": {
        "id": "91QNYIWnEcjH",
        "colab_type": "code",
        "outputId": "388a8a02-cd35-43a6-df0f-40aec12397f3",
        "colab": {
          "base_uri": "https://localhost:8080/",
          "height": 89
        }
      },
      "source": [
        "penn_dict"
      ],
      "execution_count": 0,
      "outputs": [
        {
          "output_type": "execute_result",
          "data": {
            "text/plain": [
              "{'area_sq_mi': 46055,\n",
              " 'date_admitted': datetime.datetime(1787, 12, 12, 0, 0),\n",
              " 'population': 12801989,\n",
              " 'state': 'Pennsylvania'}"
            ]
          },
          "metadata": {
            "tags": []
          },
          "execution_count": 202
        }
      ]
    },
    {
      "cell_type": "markdown",
      "metadata": {
        "id": "BXCpF_Q6KtS9",
        "colab_type": "text"
      },
      "source": [
        "Once we have this information in dictionary form, we can build a `pandas` dataframe with it and eventually perform further analyses or save it to our computer."
      ]
    },
    {
      "cell_type": "code",
      "metadata": {
        "id": "ZQS-jkQiEcmn",
        "colab_type": "code",
        "colab": {}
      },
      "source": [
        "import pandas as pd"
      ],
      "execution_count": 0,
      "outputs": []
    },
    {
      "cell_type": "code",
      "metadata": {
        "id": "h9f47eTJK6H0",
        "colab_type": "code",
        "colab": {}
      },
      "source": [
        "penn_info = [penn_dict]"
      ],
      "execution_count": 0,
      "outputs": []
    },
    {
      "cell_type": "code",
      "metadata": {
        "id": "AtT07O1XKnCb",
        "colab_type": "code",
        "outputId": "f1d230cd-c88b-46ad-9da6-fffcda73ce9e",
        "colab": {
          "base_uri": "https://localhost:8080/",
          "height": 80
        }
      },
      "source": [
        "penn_df = pd.DataFrame(penn_info)\n",
        "\n",
        "penn_df"
      ],
      "execution_count": 0,
      "outputs": [
        {
          "output_type": "execute_result",
          "data": {
            "text/html": [
              "<div>\n",
              "<style scoped>\n",
              "    .dataframe tbody tr th:only-of-type {\n",
              "        vertical-align: middle;\n",
              "    }\n",
              "\n",
              "    .dataframe tbody tr th {\n",
              "        vertical-align: top;\n",
              "    }\n",
              "\n",
              "    .dataframe thead th {\n",
              "        text-align: right;\n",
              "    }\n",
              "</style>\n",
              "<table border=\"1\" class=\"dataframe\">\n",
              "  <thead>\n",
              "    <tr style=\"text-align: right;\">\n",
              "      <th></th>\n",
              "      <th>state</th>\n",
              "      <th>date_admitted</th>\n",
              "      <th>population</th>\n",
              "      <th>area_sq_mi</th>\n",
              "    </tr>\n",
              "  </thead>\n",
              "  <tbody>\n",
              "    <tr>\n",
              "      <th>0</th>\n",
              "      <td>Pennsylvania</td>\n",
              "      <td>1787-12-12</td>\n",
              "      <td>12801989</td>\n",
              "      <td>46055</td>\n",
              "    </tr>\n",
              "  </tbody>\n",
              "</table>\n",
              "</div>"
            ],
            "text/plain": [
              "          state date_admitted  population  area_sq_mi\n",
              "0  Pennsylvania    1787-12-12    12801989       46055"
            ]
          },
          "metadata": {
            "tags": []
          },
          "execution_count": 205
        }
      ]
    },
    {
      "cell_type": "code",
      "metadata": {
        "id": "4YpVRYuNLprf",
        "colab_type": "code",
        "colab": {}
      },
      "source": [
        "penn_df.to_csv('Penn_State_Information.csv')"
      ],
      "execution_count": 0,
      "outputs": []
    },
    {
      "cell_type": "code",
      "metadata": {
        "id": "JUJbteyLMcel",
        "colab_type": "code",
        "outputId": "35779d21-c50c-4c81-fb88-2a7228d8e3ec",
        "colab": {
          "base_uri": "https://localhost:8080/",
          "height": 35
        }
      },
      "source": [
        "\n",
        "!ls"
      ],
      "execution_count": 0,
      "outputs": [
        {
          "output_type": "stream",
          "text": [
            "Penn_State_Information.csv  sample_data\n"
          ],
          "name": "stdout"
        }
      ]
    },
    {
      "cell_type": "code",
      "metadata": {
        "id": "xpYDtDlZLfrH",
        "colab_type": "code",
        "colab": {}
      },
      "source": [
        "from google.colab import files\n",
        "files.download('Penn_State_Information.csv')"
      ],
      "execution_count": 0,
      "outputs": []
    },
    {
      "cell_type": "markdown",
      "metadata": {
        "id": "Rcz_8faehJEc",
        "colab_type": "text"
      },
      "source": [
        "### Exercises"
      ]
    },
    {
      "cell_type": "markdown",
      "metadata": {
        "id": "3TiThTGwMy6Y",
        "colab_type": "text"
      },
      "source": [
        "<img src=\"https://drive.google.com/uc?export=view&id=18s6CjUtjr0M24K57uMdtmXvK5TrV34Tv\"  alt=\"exercise\" height=\"20\"/> **Exercise 4 - Median Household Income**  <br>\n",
        ">Get the median household income for the state of Pennsylvania as a text string and then as an integer."
      ]
    },
    {
      "cell_type": "code",
      "metadata": {
        "id": "-DHCVTcTgfJv",
        "colab_type": "code",
        "outputId": "ccde6804-ebea-4af7-e7bb-26bf371fddf9",
        "colab": {
          "base_uri": "https://localhost:8080/",
          "height": 35
        }
      },
      "source": [
        "soup.find(id='cite_ref-4').parent.text"
      ],
      "execution_count": 0,
      "outputs": [
        {
          "output_type": "execute_result",
          "data": {
            "text/plain": [
              "'$59,195[4]'"
            ]
          },
          "metadata": {
            "tags": []
          },
          "execution_count": 206
        }
      ]
    },
    {
      "cell_type": "code",
      "metadata": {
        "id": "y-ZiXWPlhLRA",
        "colab_type": "code",
        "outputId": "3bf0d8aa-68ab-442f-82a5-e332d396ad5c",
        "colab": {
          "base_uri": "https://localhost:8080/",
          "height": 35
        }
      },
      "source": [
        "household_income = to_int(soup.find(id='cite_ref-4').parent.text)\n",
        "\n",
        "household_income"
      ],
      "execution_count": 0,
      "outputs": [
        {
          "output_type": "execute_result",
          "data": {
            "text/plain": [
              "59195"
            ]
          },
          "metadata": {
            "tags": []
          },
          "execution_count": 207
        }
      ]
    },
    {
      "cell_type": "markdown",
      "metadata": {
        "id": "_JYxx77qPiF5",
        "colab_type": "text"
      },
      "source": [
        "<img src=\"https://drive.google.com/uc?export=view&id=18s6CjUtjr0M24K57uMdtmXvK5TrV34Tv\"  alt=\"exercise\" height=\"20\"/> **Exercise 5 - Median Household Income - Part II**  <br>\n",
        "> Update `state_df` to include median household income. \n",
        "\n",
        "_(Hint: One way you can do this: add median household income to `penn_dict` and recreate `state_df`.)_"
      ]
    },
    {
      "cell_type": "code",
      "metadata": {
        "id": "bGL3lgXRPjKd",
        "colab_type": "code",
        "colab": {}
      },
      "source": [
        "penn_dict = {\n",
        "    'state': state,\n",
        "    'date_admitted': date_admitted,\n",
        "    'population': population,\n",
        "    'area_sq_mi': area,\n",
        "    'median_household_income': household_income\n",
        "}"
      ],
      "execution_count": 0,
      "outputs": []
    },
    {
      "cell_type": "code",
      "metadata": {
        "id": "YhjQ6efAPjOU",
        "colab_type": "code",
        "outputId": "0eabf518-4572-432c-c2df-78e014a64f3b",
        "colab": {
          "base_uri": "https://localhost:8080/",
          "height": 80
        }
      },
      "source": [
        "penn_df = pd.DataFrame([penn_dict])\n",
        "\n",
        "penn_df"
      ],
      "execution_count": 0,
      "outputs": [
        {
          "output_type": "execute_result",
          "data": {
            "text/html": [
              "<div>\n",
              "<style scoped>\n",
              "    .dataframe tbody tr th:only-of-type {\n",
              "        vertical-align: middle;\n",
              "    }\n",
              "\n",
              "    .dataframe tbody tr th {\n",
              "        vertical-align: top;\n",
              "    }\n",
              "\n",
              "    .dataframe thead th {\n",
              "        text-align: right;\n",
              "    }\n",
              "</style>\n",
              "<table border=\"1\" class=\"dataframe\">\n",
              "  <thead>\n",
              "    <tr style=\"text-align: right;\">\n",
              "      <th></th>\n",
              "      <th>state</th>\n",
              "      <th>date_admitted</th>\n",
              "      <th>population</th>\n",
              "      <th>area_sq_mi</th>\n",
              "      <th>median_household_income</th>\n",
              "    </tr>\n",
              "  </thead>\n",
              "  <tbody>\n",
              "    <tr>\n",
              "      <th>0</th>\n",
              "      <td>Pennsylvania</td>\n",
              "      <td>1787-12-12</td>\n",
              "      <td>12801989</td>\n",
              "      <td>46055</td>\n",
              "      <td>59195</td>\n",
              "    </tr>\n",
              "  </tbody>\n",
              "</table>\n",
              "</div>"
            ],
            "text/plain": [
              "          state date_admitted  population  area_sq_mi  median_household_income\n",
              "0  Pennsylvania    1787-12-12    12801989       46055                    59195"
            ]
          },
          "metadata": {
            "tags": []
          },
          "execution_count": 209
        }
      ]
    },
    {
      "cell_type": "markdown",
      "metadata": {
        "id": "wFY_mgFbhP1V",
        "colab_type": "text"
      },
      "source": [
        "# Pipeline Considerations"
      ]
    },
    {
      "cell_type": "markdown",
      "metadata": {
        "id": "re7Tp_7QQ6oQ",
        "colab_type": "text"
      },
      "source": [
        "Now that we can extract numerical data from this page about Pennsylvania, how would we build out a full analytic or data science project? \n",
        "\n",
        "The next step is to systematically retrieve this information from the Wikipedia page of each US state.  First, let's build reusable functions to find the state's\n",
        "- name\n",
        "- date admitted\n",
        "- population\n",
        "- area\n",
        "- median household income\n",
        "\n",
        "Note: all of this info can be found in the table on the right side of the page."
      ]
    },
    {
      "cell_type": "code",
      "metadata": {
        "id": "-Hn3k9rWhLTi",
        "colab_type": "code",
        "colab": {}
      },
      "source": [
        "def get_name(table):\n",
        "  raw_name = table.find('th').text\n",
        "  return re.match('[A-z\\s]+', raw_name)[0]  \n",
        "\n",
        "def get_date_admitted(table):\n",
        "  raw_date = table.find(text='Admitted to the Union').next.text\n",
        "  return to_date(raw_date)\n",
        "\n",
        "def get_population(table):\n",
        "  raw_population = table.find(text='Population')\\\n",
        "                        .parent.parent.next_sibling\\\n",
        "                        .find('td').text\n",
        "  return to_int(raw_population)\n",
        "\n",
        "def get_area(table):\n",
        "  raw_area = table.find(text=re.compile('Total')).next.text\n",
        "  return to_int(raw_area)\n",
        "\n",
        "def get_income(table):\n",
        "  raw_income = table.find(text='Median household income').next.next.text\n",
        "  return to_int(raw_income)"
      ],
      "execution_count": 0,
      "outputs": []
    },
    {
      "cell_type": "markdown",
      "metadata": {
        "id": "7Vuta_eubJpm",
        "colab_type": "text"
      },
      "source": [
        "These functions will extract information from any Wikipedia state table we pass into them.  For example, let's try parsing the page for New York."
      ]
    },
    {
      "cell_type": "code",
      "metadata": {
        "id": "RnnL6gzcZNCu",
        "colab_type": "code",
        "colab": {}
      },
      "source": [
        "ny_url = 'https://en.wikipedia.org/wiki/New_York_(state)'\n",
        "\n",
        "ny_page = requests.get(ny_url).text\n",
        "\n",
        "ny_soup = bs(ny_page)"
      ],
      "execution_count": 0,
      "outputs": []
    },
    {
      "cell_type": "code",
      "metadata": {
        "id": "9N4UVi7gZNGW",
        "colab_type": "code",
        "colab": {}
      },
      "source": [
        "ny_table = ny_soup.find('table')"
      ],
      "execution_count": 0,
      "outputs": []
    },
    {
      "cell_type": "code",
      "metadata": {
        "id": "B5eDcWr3bzNh",
        "colab_type": "code",
        "outputId": "b7b3fdf7-7503-48e7-d265-a5a49c98d64a",
        "colab": {
          "base_uri": "https://localhost:8080/",
          "height": 35
        }
      },
      "source": [
        "get_name(ny_table)"
      ],
      "execution_count": 0,
      "outputs": [
        {
          "output_type": "execute_result",
          "data": {
            "text/plain": [
              "'New York'"
            ]
          },
          "metadata": {
            "tags": []
          },
          "execution_count": 213
        }
      ]
    },
    {
      "cell_type": "code",
      "metadata": {
        "id": "gMaiCwZmbzRF",
        "colab_type": "code",
        "outputId": "bac62afd-f863-4495-a27f-76ab7258fd32",
        "colab": {
          "base_uri": "https://localhost:8080/",
          "height": 35
        }
      },
      "source": [
        "get_population(ny_table)"
      ],
      "execution_count": 0,
      "outputs": [
        {
          "output_type": "execute_result",
          "data": {
            "text/plain": [
              "19453561"
            ]
          },
          "metadata": {
            "tags": []
          },
          "execution_count": 214
        }
      ]
    },
    {
      "cell_type": "markdown",
      "metadata": {
        "id": "zOunS4nweoMJ",
        "colab_type": "text"
      },
      "source": [
        "Let's also make a function to gather all five values from a given state Wiki page and return the information as a dictionary."
      ]
    },
    {
      "cell_type": "code",
      "metadata": {
        "id": "KEiUBsUveyZJ",
        "colab_type": "code",
        "colab": {}
      },
      "source": [
        "def parse_url(url):\n",
        "  page = requests.get(url).text\n",
        "  return bs(page)\n",
        "\n",
        "\n",
        "def get_state_info(state_url):\n",
        "  \n",
        "  #Use parse page and grab main table\n",
        "  state_soup = parse_url(state_url)\n",
        "  state_table = state_soup.find('table')\n",
        "\n",
        "  state_info = {}\n",
        "\n",
        "  #Grab info with pre-defined functions\n",
        "  state_info['state'] = get_name(state_table)\n",
        "  state_info['date_admitted'] = get_date_admitted(state_table)\n",
        "  state_info['population'] = get_population(state_table)\n",
        "  state_info['area'] = get_area(state_table)\n",
        "  state_info['median_household_income'] = get_income(state_table)\n",
        "\n",
        "  return state_info"
      ],
      "execution_count": 0,
      "outputs": []
    },
    {
      "cell_type": "code",
      "metadata": {
        "id": "AqaFYVKEguZr",
        "colab_type": "code",
        "outputId": "9bfac18e-40d9-4741-9b19-d6175873bc9e",
        "colab": {
          "base_uri": "https://localhost:8080/",
          "height": 107
        }
      },
      "source": [
        "ny_info = get_state_info(ny_url)\n",
        "\n",
        "ny_info"
      ],
      "execution_count": 0,
      "outputs": [
        {
          "output_type": "execute_result",
          "data": {
            "text/plain": [
              "{'area': 54555,\n",
              " 'date_admitted': datetime.datetime(1788, 7, 26, 0, 0),\n",
              " 'median_household_income': 64894,\n",
              " 'population': 19453561,\n",
              " 'state': 'New York'}"
            ]
          },
          "metadata": {
            "tags": []
          },
          "execution_count": 216
        }
      ]
    },
    {
      "cell_type": "markdown",
      "metadata": {
        "id": "Lym3M7I7hV8W",
        "colab_type": "text"
      },
      "source": [
        "### Lists of links"
      ]
    },
    {
      "cell_type": "markdown",
      "metadata": {
        "id": "GWRIMd9toIv3",
        "colab_type": "text"
      },
      "source": [
        "The next step in our process will require us to use our `get_state_info()` function on the URLs of each of the 50 US states.  But how do we know which URLs to visit?  We might be able to guess that the page for Rhode Island is https://en.wikipedia.org/wiki/Rhode_Island but not all pages follow this convention."
      ]
    },
    {
      "cell_type": "code",
      "metadata": {
        "id": "K_Iiv4tphS35",
        "colab_type": "code",
        "outputId": "28e01203-f1a4-498c-9024-1275e9af74a9",
        "colab": {
          "base_uri": "https://localhost:8080/",
          "height": 35
        }
      },
      "source": [
        "ny_url"
      ],
      "execution_count": 0,
      "outputs": [
        {
          "output_type": "execute_result",
          "data": {
            "text/plain": [
              "'https://en.wikipedia.org/wiki/New_York_(state)'"
            ]
          },
          "metadata": {
            "tags": []
          },
          "execution_count": 217
        }
      ]
    },
    {
      "cell_type": "markdown",
      "metadata": {
        "id": "-1Z8jrjcohhI",
        "colab_type": "text"
      },
      "source": [
        "Instead of guessing, let's first gather these links from this \"[List of States and Territories of the United States](https://en.wikipedia.org/wiki/List_of_states_and_territories_of_the_United_States)\" article. \n",
        "\n",
        "Click on this link and inspect the page to develop a plan for doing this."
      ]
    },
    {
      "cell_type": "markdown",
      "metadata": {
        "id": "RsEFM_uCpvXw",
        "colab_type": "text"
      },
      "source": [
        "It looks like each of the states are listed in the second table of the page.  Each state name and link is contained within table header tags (`th`) and have the additional property of `scope`=\"row\"."
      ]
    },
    {
      "cell_type": "code",
      "metadata": {
        "id": "QtyoJ2IIp8qz",
        "colab_type": "code",
        "colab": {}
      },
      "source": [
        "list_url = 'https://en.wikipedia.org/wiki/List_of_states_and_territories_of_the_United_States'\n",
        "list_page = requests.get(list_url).text\n",
        "list_soup = bs(list_page)"
      ],
      "execution_count": 0,
      "outputs": []
    },
    {
      "cell_type": "code",
      "metadata": {
        "id": "CV44GQo5p8uE",
        "colab_type": "code",
        "outputId": "5a6f0274-02e6-4912-a21e-8eb8004e2c61",
        "colab": {
          "base_uri": "https://localhost:8080/",
          "height": 217
        }
      },
      "source": [
        "state_rows = list_soup.find_all('table')[0].find_all('th', scope='row')\n",
        "\n",
        "state_rows[:5]"
      ],
      "execution_count": 0,
      "outputs": [
        {
          "output_type": "execute_result",
          "data": {
            "text/plain": [
              "[<th scope=\"row\"><span class=\"flagicon\"><img alt=\"\" class=\"thumbborder\" data-file-height=\"400\" data-file-width=\"600\" decoding=\"async\" height=\"15\" src=\"//upload.wikimedia.org/wikipedia/commons/thumb/5/5c/Flag_of_Alabama.svg/23px-Flag_of_Alabama.svg.png\" srcset=\"//upload.wikimedia.org/wikipedia/commons/thumb/5/5c/Flag_of_Alabama.svg/35px-Flag_of_Alabama.svg.png 1.5x, //upload.wikimedia.org/wikipedia/commons/thumb/5/5c/Flag_of_Alabama.svg/45px-Flag_of_Alabama.svg.png 2x\" width=\"23\"/> </span><a href=\"/wiki/Alabama\" title=\"Alabama\">Alabama</a>\n",
              " </th>,\n",
              " <th scope=\"row\"><span class=\"flagicon\"><img alt=\"\" class=\"thumbborder\" data-file-height=\"1000\" data-file-width=\"1416\" decoding=\"async\" height=\"15\" src=\"//upload.wikimedia.org/wikipedia/commons/thumb/e/e6/Flag_of_Alaska.svg/21px-Flag_of_Alaska.svg.png\" srcset=\"//upload.wikimedia.org/wikipedia/commons/thumb/e/e6/Flag_of_Alaska.svg/33px-Flag_of_Alaska.svg.png 1.5x, //upload.wikimedia.org/wikipedia/commons/thumb/e/e6/Flag_of_Alaska.svg/43px-Flag_of_Alaska.svg.png 2x\" width=\"21\"/> </span><a href=\"/wiki/Alaska\" title=\"Alaska\">Alaska</a>\n",
              " </th>,\n",
              " <th scope=\"row\"><span class=\"flagicon\"><img alt=\"\" class=\"thumbborder\" data-file-height=\"600\" data-file-width=\"900\" decoding=\"async\" height=\"15\" src=\"//upload.wikimedia.org/wikipedia/commons/thumb/9/9d/Flag_of_Arizona.svg/23px-Flag_of_Arizona.svg.png\" srcset=\"//upload.wikimedia.org/wikipedia/commons/thumb/9/9d/Flag_of_Arizona.svg/35px-Flag_of_Arizona.svg.png 1.5x, //upload.wikimedia.org/wikipedia/commons/thumb/9/9d/Flag_of_Arizona.svg/45px-Flag_of_Arizona.svg.png 2x\" width=\"23\"/> </span><a href=\"/wiki/Arizona\" title=\"Arizona\">Arizona</a>\n",
              " </th>,\n",
              " <th scope=\"row\"><span class=\"flagicon\"><img alt=\"\" class=\"thumbborder\" data-file-height=\"300\" data-file-width=\"450\" decoding=\"async\" height=\"15\" src=\"//upload.wikimedia.org/wikipedia/commons/thumb/9/9d/Flag_of_Arkansas.svg/23px-Flag_of_Arkansas.svg.png\" srcset=\"//upload.wikimedia.org/wikipedia/commons/thumb/9/9d/Flag_of_Arkansas.svg/35px-Flag_of_Arkansas.svg.png 1.5x, //upload.wikimedia.org/wikipedia/commons/thumb/9/9d/Flag_of_Arkansas.svg/45px-Flag_of_Arkansas.svg.png 2x\" width=\"23\"/> </span><a href=\"/wiki/Arkansas\" title=\"Arkansas\">Arkansas</a>\n",
              " </th>,\n",
              " <th scope=\"row\"><span class=\"flagicon\"><img alt=\"\" class=\"thumbborder\" data-file-height=\"600\" data-file-width=\"900\" decoding=\"async\" height=\"15\" src=\"//upload.wikimedia.org/wikipedia/commons/thumb/0/01/Flag_of_California.svg/23px-Flag_of_California.svg.png\" srcset=\"//upload.wikimedia.org/wikipedia/commons/thumb/0/01/Flag_of_California.svg/35px-Flag_of_California.svg.png 1.5x, //upload.wikimedia.org/wikipedia/commons/thumb/0/01/Flag_of_California.svg/45px-Flag_of_California.svg.png 2x\" width=\"23\"/> </span><a href=\"/wiki/California\" title=\"California\">California</a>\n",
              " </th>]"
            ]
          },
          "metadata": {
            "tags": []
          },
          "execution_count": 250
        }
      ]
    },
    {
      "cell_type": "markdown",
      "metadata": {
        "id": "7z6OZyxMsfZ_",
        "colab_type": "text"
      },
      "source": [
        "Now we just need to extract the links from the `a` tags."
      ]
    },
    {
      "cell_type": "code",
      "metadata": {
        "id": "IOMB4AtEsoNz",
        "colab_type": "code",
        "outputId": "f13ee295-c234-442d-df27-a845a80bff60",
        "colab": {
          "base_uri": "https://localhost:8080/",
          "height": 35
        }
      },
      "source": [
        "state_rows[0].find('a')"
      ],
      "execution_count": 0,
      "outputs": [
        {
          "output_type": "execute_result",
          "data": {
            "text/plain": [
              "<a href=\"/wiki/Alabama\" title=\"Alabama\">Alabama</a>"
            ]
          },
          "metadata": {
            "tags": []
          },
          "execution_count": 251
        }
      ]
    },
    {
      "cell_type": "code",
      "metadata": {
        "id": "DEiKQ2nPsoX3",
        "colab_type": "code",
        "outputId": "8a15a587-4bea-4ea8-b0ea-8637dcc23278",
        "colab": {
          "base_uri": "https://localhost:8080/",
          "height": 35
        }
      },
      "source": [
        "state_rows[0].find('a')['href']"
      ],
      "execution_count": 0,
      "outputs": [
        {
          "output_type": "execute_result",
          "data": {
            "text/plain": [
              "'/wiki/Alabama'"
            ]
          },
          "metadata": {
            "tags": []
          },
          "execution_count": 252
        }
      ]
    },
    {
      "cell_type": "code",
      "metadata": {
        "id": "-h9Tvy81suE0",
        "colab_type": "code",
        "outputId": "8344f6cb-11fa-4364-945f-65a8368c8fc3",
        "colab": {
          "base_uri": "https://localhost:8080/",
          "height": 107
        }
      },
      "source": [
        "state_links = [row.find('a')['href'] for row in state_rows]\n",
        "\n",
        "state_links[:5]"
      ],
      "execution_count": 0,
      "outputs": [
        {
          "output_type": "execute_result",
          "data": {
            "text/plain": [
              "['/wiki/Alabama',\n",
              " '/wiki/Alaska',\n",
              " '/wiki/Arizona',\n",
              " '/wiki/Arkansas',\n",
              " '/wiki/California']"
            ]
          },
          "metadata": {
            "tags": []
          },
          "execution_count": 253
        }
      ]
    },
    {
      "cell_type": "markdown",
      "metadata": {
        "id": "-bktJb_ds3EY",
        "colab_type": "text"
      },
      "source": [
        "Each of these links point to a place within Wikipedia, but if we want to link to the full URLs, we have to append 'https://en.wikipedia.org' to each of them."
      ]
    },
    {
      "cell_type": "code",
      "metadata": {
        "id": "1Neu6J6ps2jn",
        "colab_type": "code",
        "outputId": "99e68064-4462-470b-9e6a-7341f559ea1b",
        "colab": {
          "base_uri": "https://localhost:8080/",
          "height": 107
        }
      },
      "source": [
        "base_url = 'https://en.wikipedia.org'\n",
        "\n",
        "state_urls = [base_url + link for link in state_links]\n",
        "\n",
        "state_urls[:5]"
      ],
      "execution_count": 0,
      "outputs": [
        {
          "output_type": "execute_result",
          "data": {
            "text/plain": [
              "['https://en.wikipedia.org/wiki/Alabama',\n",
              " 'https://en.wikipedia.org/wiki/Alaska',\n",
              " 'https://en.wikipedia.org/wiki/Arizona',\n",
              " 'https://en.wikipedia.org/wiki/Arkansas',\n",
              " 'https://en.wikipedia.org/wiki/California']"
            ]
          },
          "metadata": {
            "tags": []
          },
          "execution_count": 254
        }
      ]
    },
    {
      "cell_type": "code",
      "metadata": {
        "id": "4N1FOc_2tUP1",
        "colab_type": "code",
        "outputId": "5b8f8d9d-d421-425d-d0af-f092a9f333ce",
        "colab": {
          "base_uri": "https://localhost:8080/",
          "height": 107
        }
      },
      "source": [
        "state_urls[-5:]"
      ],
      "execution_count": 0,
      "outputs": [
        {
          "output_type": "execute_result",
          "data": {
            "text/plain": [
              "['https://en.wikipedia.org/wiki/Virginia',\n",
              " 'https://en.wikipedia.org/wiki/Washington_(state)',\n",
              " 'https://en.wikipedia.org/wiki/West_Virginia',\n",
              " 'https://en.wikipedia.org/wiki/Wisconsin',\n",
              " 'https://en.wikipedia.org/wiki/Wyoming']"
            ]
          },
          "metadata": {
            "tags": []
          },
          "execution_count": 255
        }
      ]
    },
    {
      "cell_type": "code",
      "metadata": {
        "id": "wkEc1QDfuYti",
        "colab_type": "code",
        "outputId": "c97ba855-069d-498e-ce19-9c0d0897a1e8",
        "colab": {
          "base_uri": "https://localhost:8080/",
          "height": 35
        }
      },
      "source": [
        "len(state_urls)"
      ],
      "execution_count": 0,
      "outputs": [
        {
          "output_type": "execute_result",
          "data": {
            "text/plain": [
              "50"
            ]
          },
          "metadata": {
            "tags": []
          },
          "execution_count": 256
        }
      ]
    },
    {
      "cell_type": "markdown",
      "metadata": {
        "id": "1sBu14sUhm7_",
        "colab_type": "text"
      },
      "source": [
        "### Handling missing values"
      ]
    },
    {
      "cell_type": "markdown",
      "metadata": {
        "id": "zqMohMqzuLPl",
        "colab_type": "text"
      },
      "source": [
        "We will eventually be cycling through these state links to collect and store information about every state.  But what happens when certain information is unavailable?  That is, what if the Georgia page is missing area information or the median household income isn't listed for Nevada?\n",
        "\n",
        "We can make our code more robust by including instructions for handling missing information.  One way to do this is to include `try`/`except` statements.\n",
        "\n",
        "If you haven't seen them before, `try`/`except` pairs are used to let Python know how to handle errors."
      ]
    },
    {
      "cell_type": "code",
      "metadata": {
        "id": "1lizdJPIhS7D",
        "colab_type": "code",
        "colab": {}
      },
      "source": [
        "def square(x):\n",
        "  return x*x"
      ],
      "execution_count": 0,
      "outputs": []
    },
    {
      "cell_type": "code",
      "metadata": {
        "id": "OGXhFCA8u8xd",
        "colab_type": "code",
        "outputId": "3aca8660-fda4-413a-b25a-2022eeebb1d4",
        "colab": {
          "base_uri": "https://localhost:8080/",
          "height": 244
        }
      },
      "source": [
        "square('hi')  #This returns an error"
      ],
      "execution_count": 0,
      "outputs": [
        {
          "output_type": "error",
          "ename": "TypeError",
          "evalue": "ignored",
          "traceback": [
            "\u001b[0;31m---------------------------------------------------------------------------\u001b[0m",
            "\u001b[0;31mTypeError\u001b[0m                                 Traceback (most recent call last)",
            "\u001b[0;32m<ipython-input-258-7afc4bafc47c>\u001b[0m in \u001b[0;36m<module>\u001b[0;34m()\u001b[0m\n\u001b[0;32m----> 1\u001b[0;31m \u001b[0msquare\u001b[0m\u001b[0;34m(\u001b[0m\u001b[0;34m'hi'\u001b[0m\u001b[0;34m)\u001b[0m  \u001b[0;31m#This returns an error\u001b[0m\u001b[0;34m\u001b[0m\u001b[0;34m\u001b[0m\u001b[0m\n\u001b[0m",
            "\u001b[0;32m<ipython-input-257-36070de53518>\u001b[0m in \u001b[0;36msquare\u001b[0;34m(x)\u001b[0m\n\u001b[1;32m      1\u001b[0m \u001b[0;32mdef\u001b[0m \u001b[0msquare\u001b[0m\u001b[0;34m(\u001b[0m\u001b[0mx\u001b[0m\u001b[0;34m)\u001b[0m\u001b[0;34m:\u001b[0m\u001b[0;34m\u001b[0m\u001b[0;34m\u001b[0m\u001b[0m\n\u001b[0;32m----> 2\u001b[0;31m   \u001b[0;32mreturn\u001b[0m \u001b[0mx\u001b[0m\u001b[0;34m*\u001b[0m\u001b[0mx\u001b[0m\u001b[0;34m\u001b[0m\u001b[0;34m\u001b[0m\u001b[0m\n\u001b[0m",
            "\u001b[0;31mTypeError\u001b[0m: can't multiply sequence by non-int of type 'str'"
          ]
        }
      ]
    },
    {
      "cell_type": "code",
      "metadata": {
        "id": "GvBh3sg7u80g",
        "colab_type": "code",
        "colab": {}
      },
      "source": [
        "def square_robust(x):\n",
        "  try:\n",
        "    return x*x\n",
        "  except TypeError:\n",
        "    return \"No can do!\""
      ],
      "execution_count": 0,
      "outputs": []
    },
    {
      "cell_type": "code",
      "metadata": {
        "id": "R0i2C7Itu8ui",
        "colab_type": "code",
        "outputId": "77fc5c86-f0d4-493a-f242-3ce504339007",
        "colab": {
          "base_uri": "https://localhost:8080/",
          "height": 35
        }
      },
      "source": [
        "square_robust('hi')"
      ],
      "execution_count": 0,
      "outputs": [
        {
          "output_type": "execute_result",
          "data": {
            "text/plain": [
              "'No can do!'"
            ]
          },
          "metadata": {
            "tags": []
          },
          "execution_count": 259
        }
      ]
    },
    {
      "cell_type": "markdown",
      "metadata": {
        "id": "IEWPFgoovdi8",
        "colab_type": "text"
      },
      "source": [
        "In the case of web scraping, we may be scraping information from many, many pages.  If any of the information we want can't be found, we usually don't want Python to exit the program with an error.  We typically prefer that Python continue the scraping but just fill in that particular piece of information with a missing value like `None`.\n",
        "\n",
        "```\n",
        "def my_scraper(page):\n",
        "  try:\n",
        "    perform some parsing\n",
        "    return my_scraped_value\n",
        "  except:\n",
        "    return None\n",
        "```"
      ]
    },
    {
      "cell_type": "markdown",
      "metadata": {
        "id": "KuCDZwOvwOl-",
        "colab_type": "text"
      },
      "source": [
        "Let's update the collection of our state info to be robust to handling missing values."
      ]
    },
    {
      "cell_type": "code",
      "metadata": {
        "id": "PZR8ZeqivQdq",
        "colab_type": "code",
        "colab": {}
      },
      "source": [
        "def get_state_info_robust(state_url):\n",
        "  \n",
        "  #If we can't find a main table, \n",
        "  #  print out the url and exit function\n",
        "  try:\n",
        "    state_soup = parse_url(state_url)\n",
        "    state_table = state_soup.find('table')\n",
        "  except:\n",
        "    print(f\"Cannot parse table: {state_url}\")\n",
        "    return None\n",
        "\n",
        "  state_info = {}\n",
        "\n",
        "  #Grab info with pre-defined functions\n",
        "  #  If any value can't be found, just fill value with None\n",
        "  values = ['state', 'date_admitted', 'population', \n",
        "            'area_sq_mi', 'median_household_income']\n",
        "  functions = [get_name, get_date_admitted, get_population,\n",
        "               get_area, get_income]\n",
        "\n",
        "  for val, func in zip(values, functions):\n",
        "    try:\n",
        "      state_info[val] = func(state_table)\n",
        "    except:\n",
        "      state_info[val] = None\n",
        "\n",
        "  return state_info"
      ],
      "execution_count": 0,
      "outputs": []
    },
    {
      "cell_type": "code",
      "metadata": {
        "id": "niZb2eLqv6mB",
        "colab_type": "code",
        "outputId": "597c95e6-4282-440b-d296-e32d1cf167cf",
        "colab": {
          "base_uri": "https://localhost:8080/",
          "height": 107
        }
      },
      "source": [
        "ny_dict = get_state_info_robust(ny_url)\n",
        "\n",
        "ny_dict"
      ],
      "execution_count": 0,
      "outputs": [
        {
          "output_type": "execute_result",
          "data": {
            "text/plain": [
              "{'area_sq_mi': 54555,\n",
              " 'date_admitted': datetime.datetime(1788, 7, 26, 0, 0),\n",
              " 'median_household_income': 64894,\n",
              " 'population': 19453561,\n",
              " 'state': 'New York'}"
            ]
          },
          "metadata": {
            "tags": []
          },
          "execution_count": 261
        }
      ]
    },
    {
      "cell_type": "code",
      "metadata": {
        "id": "U1K2dcRkx303",
        "colab_type": "code",
        "outputId": "001141b0-7333-4f5a-8943-019fd0564f46",
        "colab": {
          "base_uri": "https://localhost:8080/",
          "height": 107
        }
      },
      "source": [
        "get_state_info_robust('https://en.wikipedia.org/wiki/Python_Conference')"
      ],
      "execution_count": 0,
      "outputs": [
        {
          "output_type": "execute_result",
          "data": {
            "text/plain": [
              "{'area_sq_mi': None,\n",
              " 'date_admitted': None,\n",
              " 'median_household_income': None,\n",
              " 'population': None,\n",
              " 'state': None}"
            ]
          },
          "metadata": {
            "tags": []
          },
          "execution_count": 262
        }
      ]
    },
    {
      "cell_type": "code",
      "metadata": {
        "id": "vHAU0vqgvQhQ",
        "colab_type": "code",
        "outputId": "b7edc228-7250-40c0-d1c0-8ce8631f129b",
        "colab": {
          "base_uri": "https://localhost:8080/",
          "height": 35
        }
      },
      "source": [
        "get_state_info_robust('https://notawebsiteatleastihopenot.net')"
      ],
      "execution_count": 0,
      "outputs": [
        {
          "output_type": "stream",
          "text": [
            "Cannot parse table: https://notawebsiteatleastihopenot.net\n"
          ],
          "name": "stdout"
        }
      ]
    },
    {
      "cell_type": "markdown",
      "metadata": {
        "id": "Zwz2cjB--lxb",
        "colab_type": "text"
      },
      "source": [
        "### Adding pauses\n",
        "\n",
        "We have just one final consideration before we cycle through the state links to scrape information.  Web scraping at a fast rate--that is, many pages per second--is frowned upon by many websites, Wikipedia included.  We will add in artificial pauses so we don't overwhelm the Wikipedia server."
      ]
    },
    {
      "cell_type": "code",
      "metadata": {
        "id": "EsT5a0ZC-qw_",
        "colab_type": "code",
        "colab": {}
      },
      "source": [
        "import time"
      ],
      "execution_count": 0,
      "outputs": []
    },
    {
      "cell_type": "code",
      "metadata": {
        "id": "OreVacFe2I7d",
        "colab_type": "code",
        "colab": {}
      },
      "source": [
        "time.sleep(2)"
      ],
      "execution_count": 0,
      "outputs": []
    },
    {
      "cell_type": "code",
      "metadata": {
        "id": "tQ_VROSG1mvq",
        "colab_type": "code",
        "outputId": "506be668-f221-443c-d451-98b8fbd75987",
        "colab": {
          "base_uri": "https://localhost:8080/",
          "height": 53
        }
      },
      "source": [
        "a = 5\n",
        "\n",
        "print(f\"Pausing for {a} seconds\")\n",
        "time.sleep(a)\n",
        "\n",
        "b = a + 1\n",
        "print(f\"b equals {b}\")"
      ],
      "execution_count": 0,
      "outputs": [
        {
          "output_type": "stream",
          "text": [
            "Pausing for 5 seconds\n",
            "b equals 6\n"
          ],
          "name": "stdout"
        }
      ]
    },
    {
      "cell_type": "markdown",
      "metadata": {
        "id": "SIp5FtNd2PXW",
        "colab_type": "text"
      },
      "source": [
        "To responsibly scrape websites, you should know what the site's rate limit is and respect it!  Most sites list their rate limit for web scraping in their `robots.txt` file.  More on this later. \n",
        "\n",
        "Wikipedia requests [at least a one second pause per page request](https://en.wikipedia.org/wiki/Wikipedia:Database_download#Please_do_not_use_a_web_crawler).  We will pause 1 second between each page scrape, so we will only **collect information for 10 US states** for now.\n",
        "\n",
        "<img src=\"https://drive.google.com/uc?export=view&id=1DzGWG2ZiMDuh4f4ZSQJiA85q-rs6FRYl\"  alt=\"warning\" height=\"20\"/> **WARNING!!** Not respecting site's limits can get your IP address blocked from the site.  Don't get yourself blocked from Wikipedia!"
      ]
    },
    {
      "cell_type": "markdown",
      "metadata": {
        "id": "_ju1vGnuhppe",
        "colab_type": "text"
      },
      "source": [
        "### Data storage revisited"
      ]
    },
    {
      "cell_type": "markdown",
      "metadata": {
        "id": "I_TsxgES21_5",
        "colab_type": "text"
      },
      "source": [
        "We now have a function to extract information for each state as a dictionary.  We can convert this information into a `pandas` dataframe and store it to an Excel or .csv file if we pass in a list of dictionaries, all with the same keys."
      ]
    },
    {
      "cell_type": "code",
      "metadata": {
        "id": "ePxaqh_MhLWh",
        "colab_type": "code",
        "outputId": "66e411ea-868f-4e53-9b0c-d537a5f135b9",
        "colab": {
          "base_uri": "https://localhost:8080/",
          "height": 197
        }
      },
      "source": [
        "[penn_dict, ny_dict]"
      ],
      "execution_count": 0,
      "outputs": [
        {
          "output_type": "execute_result",
          "data": {
            "text/plain": [
              "[{'area_sq_mi': 46055,\n",
              "  'date_admitted': datetime.datetime(1787, 12, 12, 0, 0),\n",
              "  'median_household_income': 59195,\n",
              "  'population': 12801989,\n",
              "  'state': 'Pennsylvania'},\n",
              " {'area_sq_mi': 54555,\n",
              "  'date_admitted': datetime.datetime(1788, 7, 26, 0, 0),\n",
              "  'median_household_income': 64894,\n",
              "  'population': 19453561,\n",
              "  'state': 'New York'}]"
            ]
          },
          "metadata": {
            "tags": []
          },
          "execution_count": 267
        }
      ]
    },
    {
      "cell_type": "code",
      "metadata": {
        "id": "MeZUE36g20AJ",
        "colab_type": "code",
        "outputId": "91ca26f0-e7f1-484b-84a7-ba8a7a178aae",
        "colab": {
          "base_uri": "https://localhost:8080/",
          "height": 111
        }
      },
      "source": [
        "pd.DataFrame([penn_dict, ny_dict])"
      ],
      "execution_count": 0,
      "outputs": [
        {
          "output_type": "execute_result",
          "data": {
            "text/html": [
              "<div>\n",
              "<style scoped>\n",
              "    .dataframe tbody tr th:only-of-type {\n",
              "        vertical-align: middle;\n",
              "    }\n",
              "\n",
              "    .dataframe tbody tr th {\n",
              "        vertical-align: top;\n",
              "    }\n",
              "\n",
              "    .dataframe thead th {\n",
              "        text-align: right;\n",
              "    }\n",
              "</style>\n",
              "<table border=\"1\" class=\"dataframe\">\n",
              "  <thead>\n",
              "    <tr style=\"text-align: right;\">\n",
              "      <th></th>\n",
              "      <th>state</th>\n",
              "      <th>date_admitted</th>\n",
              "      <th>population</th>\n",
              "      <th>area_sq_mi</th>\n",
              "      <th>median_household_income</th>\n",
              "    </tr>\n",
              "  </thead>\n",
              "  <tbody>\n",
              "    <tr>\n",
              "      <th>0</th>\n",
              "      <td>Pennsylvania</td>\n",
              "      <td>1787-12-12</td>\n",
              "      <td>12801989</td>\n",
              "      <td>46055</td>\n",
              "      <td>59195</td>\n",
              "    </tr>\n",
              "    <tr>\n",
              "      <th>1</th>\n",
              "      <td>New York</td>\n",
              "      <td>1788-07-26</td>\n",
              "      <td>19453561</td>\n",
              "      <td>54555</td>\n",
              "      <td>64894</td>\n",
              "    </tr>\n",
              "  </tbody>\n",
              "</table>\n",
              "</div>"
            ],
            "text/plain": [
              "          state date_admitted  population  area_sq_mi  median_household_income\n",
              "0  Pennsylvania    1787-12-12    12801989       46055                    59195\n",
              "1      New York    1788-07-26    19453561       54555                    64894"
            ]
          },
          "metadata": {
            "tags": []
          },
          "execution_count": 268
        }
      ]
    },
    {
      "cell_type": "markdown",
      "metadata": {
        "id": "pGIvrVZm4YYE",
        "colab_type": "text"
      },
      "source": [
        "Now let's build out our full pipeline:\n",
        "\n",
        "1. Gather a list of links to each state. (DONE)\n",
        "2. For each state link, gather state information as a dictionary.\n",
        "3. Append each state dictionary to a list.\n",
        "4. Convert list of dictionaries to dataframe.\n",
        "5. Save dataframe as a .csv or an Excel file."
      ]
    },
    {
      "cell_type": "code",
      "metadata": {
        "id": "tQbbcPH82z9i",
        "colab_type": "code",
        "colab": {}
      },
      "source": [
        "state_info_list = []\n",
        "\n",
        "for link in state_urls[:10]:\n",
        "\n",
        "  #Step 2.\n",
        "  state_info = get_state_info_robust(link)\n",
        "\n",
        "  #Step 3.\n",
        "  if state_info:\n",
        "    state_info_list.append(state_info)\n",
        "\n",
        "  #Be sure to pause\n",
        "  time.sleep(1)"
      ],
      "execution_count": 0,
      "outputs": []
    },
    {
      "cell_type": "code",
      "metadata": {
        "id": "Y4jne9Wp4wj5",
        "colab_type": "code",
        "outputId": "a93dcb3f-4b75-4075-f96f-bd462d23b08b",
        "colab": {
          "base_uri": "https://localhost:8080/",
          "height": 917
        }
      },
      "source": [
        "state_info_list"
      ],
      "execution_count": 0,
      "outputs": [
        {
          "output_type": "execute_result",
          "data": {
            "text/plain": [
              "[{'area_sq_mi': 52419,\n",
              "  'date_admitted': datetime.datetime(1819, 12, 14, 0, 0),\n",
              "  'median_household_income': 48123,\n",
              "  'population': 4903185,\n",
              "  'state': 'Alabama'},\n",
              " {'area_sq_mi': 663268,\n",
              "  'date_admitted': datetime.datetime(1959, 1, 3, 0, 0),\n",
              "  'median_household_income': 73181,\n",
              "  'population': 710249,\n",
              "  'state': 'Alaska'},\n",
              " {'area_sq_mi': 113990,\n",
              "  'date_admitted': datetime.datetime(1912, 2, 14, 0, 0),\n",
              "  'median_household_income': 56581,\n",
              "  'population': 7278717,\n",
              "  'state': 'Arizona'},\n",
              " {'area_sq_mi': 53179,\n",
              "  'date_admitted': datetime.datetime(1836, 6, 15, 0, 0),\n",
              "  'median_household_income': 45869,\n",
              "  'population': 3017804,\n",
              "  'state': 'Arkansas'},\n",
              " {'area_sq_mi': 163696,\n",
              "  'date_admitted': datetime.datetime(1850, 9, 9, 0, 0),\n",
              "  'median_household_income': 71228,\n",
              "  'population': 39512223,\n",
              "  'state': 'California'},\n",
              " {'area_sq_mi': 104094,\n",
              "  'date_admitted': datetime.datetime(1876, 8, 1, 0, 0),\n",
              "  'median_household_income': 69117,\n",
              "  'population': 5758736,\n",
              "  'state': 'Colorado'},\n",
              " {'area_sq_mi': 5567,\n",
              "  'date_admitted': datetime.datetime(1788, 1, 9, 0, 0),\n",
              "  'median_household_income': 76106,\n",
              "  'population': 3565287,\n",
              "  'state': 'Connecticut'},\n",
              " {'area_sq_mi': 1982,\n",
              "  'date_admitted': datetime.datetime(1787, 12, 7, 0, 0),\n",
              "  'median_household_income': 62852,\n",
              "  'population': 973764,\n",
              "  'state': 'Delaware'},\n",
              " {'area_sq_mi': 65757,\n",
              "  'date_admitted': datetime.datetime(1845, 3, 3, 0, 0),\n",
              "  'median_household_income': 53267,\n",
              "  'population': 21477737,\n",
              "  'state': 'Florida'},\n",
              " {'area_sq_mi': 59425,\n",
              "  'date_admitted': datetime.datetime(1788, 1, 2, 0, 0),\n",
              "  'median_household_income': 56183,\n",
              "  'population': 10617423,\n",
              "  'state': 'Georgia'}]"
            ]
          },
          "metadata": {
            "tags": []
          },
          "execution_count": 270
        }
      ]
    },
    {
      "cell_type": "code",
      "metadata": {
        "id": "KJvOX15v4wot",
        "colab_type": "code",
        "outputId": "93c9e9dd-7bfc-4757-84db-13c07dd236eb",
        "colab": {
          "base_uri": "https://localhost:8080/",
          "height": 359
        }
      },
      "source": [
        "#Step 4.\n",
        "state_data = pd.DataFrame(state_info_list)\n",
        "\n",
        "state_data"
      ],
      "execution_count": 0,
      "outputs": [
        {
          "output_type": "execute_result",
          "data": {
            "text/html": [
              "<div>\n",
              "<style scoped>\n",
              "    .dataframe tbody tr th:only-of-type {\n",
              "        vertical-align: middle;\n",
              "    }\n",
              "\n",
              "    .dataframe tbody tr th {\n",
              "        vertical-align: top;\n",
              "    }\n",
              "\n",
              "    .dataframe thead th {\n",
              "        text-align: right;\n",
              "    }\n",
              "</style>\n",
              "<table border=\"1\" class=\"dataframe\">\n",
              "  <thead>\n",
              "    <tr style=\"text-align: right;\">\n",
              "      <th></th>\n",
              "      <th>state</th>\n",
              "      <th>date_admitted</th>\n",
              "      <th>population</th>\n",
              "      <th>area_sq_mi</th>\n",
              "      <th>median_household_income</th>\n",
              "    </tr>\n",
              "  </thead>\n",
              "  <tbody>\n",
              "    <tr>\n",
              "      <th>0</th>\n",
              "      <td>Alabama</td>\n",
              "      <td>1819-12-14</td>\n",
              "      <td>4903185</td>\n",
              "      <td>52419</td>\n",
              "      <td>48123</td>\n",
              "    </tr>\n",
              "    <tr>\n",
              "      <th>1</th>\n",
              "      <td>Alaska</td>\n",
              "      <td>1959-01-03</td>\n",
              "      <td>710249</td>\n",
              "      <td>663268</td>\n",
              "      <td>73181</td>\n",
              "    </tr>\n",
              "    <tr>\n",
              "      <th>2</th>\n",
              "      <td>Arizona</td>\n",
              "      <td>1912-02-14</td>\n",
              "      <td>7278717</td>\n",
              "      <td>113990</td>\n",
              "      <td>56581</td>\n",
              "    </tr>\n",
              "    <tr>\n",
              "      <th>3</th>\n",
              "      <td>Arkansas</td>\n",
              "      <td>1836-06-15</td>\n",
              "      <td>3017804</td>\n",
              "      <td>53179</td>\n",
              "      <td>45869</td>\n",
              "    </tr>\n",
              "    <tr>\n",
              "      <th>4</th>\n",
              "      <td>California</td>\n",
              "      <td>1850-09-09</td>\n",
              "      <td>39512223</td>\n",
              "      <td>163696</td>\n",
              "      <td>71228</td>\n",
              "    </tr>\n",
              "    <tr>\n",
              "      <th>5</th>\n",
              "      <td>Colorado</td>\n",
              "      <td>1876-08-01</td>\n",
              "      <td>5758736</td>\n",
              "      <td>104094</td>\n",
              "      <td>69117</td>\n",
              "    </tr>\n",
              "    <tr>\n",
              "      <th>6</th>\n",
              "      <td>Connecticut</td>\n",
              "      <td>1788-01-09</td>\n",
              "      <td>3565287</td>\n",
              "      <td>5567</td>\n",
              "      <td>76106</td>\n",
              "    </tr>\n",
              "    <tr>\n",
              "      <th>7</th>\n",
              "      <td>Delaware</td>\n",
              "      <td>1787-12-07</td>\n",
              "      <td>973764</td>\n",
              "      <td>1982</td>\n",
              "      <td>62852</td>\n",
              "    </tr>\n",
              "    <tr>\n",
              "      <th>8</th>\n",
              "      <td>Florida</td>\n",
              "      <td>1845-03-03</td>\n",
              "      <td>21477737</td>\n",
              "      <td>65757</td>\n",
              "      <td>53267</td>\n",
              "    </tr>\n",
              "    <tr>\n",
              "      <th>9</th>\n",
              "      <td>Georgia</td>\n",
              "      <td>1788-01-02</td>\n",
              "      <td>10617423</td>\n",
              "      <td>59425</td>\n",
              "      <td>56183</td>\n",
              "    </tr>\n",
              "  </tbody>\n",
              "</table>\n",
              "</div>"
            ],
            "text/plain": [
              "         state date_admitted  population  area_sq_mi  median_household_income\n",
              "0      Alabama    1819-12-14     4903185       52419                    48123\n",
              "1       Alaska    1959-01-03      710249      663268                    73181\n",
              "2      Arizona    1912-02-14     7278717      113990                    56581\n",
              "3     Arkansas    1836-06-15     3017804       53179                    45869\n",
              "4   California    1850-09-09    39512223      163696                    71228\n",
              "5     Colorado    1876-08-01     5758736      104094                    69117\n",
              "6  Connecticut    1788-01-09     3565287        5567                    76106\n",
              "7     Delaware    1787-12-07      973764        1982                    62852\n",
              "8      Florida    1845-03-03    21477737       65757                    53267\n",
              "9      Georgia    1788-01-02    10617423       59425                    56183"
            ]
          },
          "metadata": {
            "tags": []
          },
          "execution_count": 271
        }
      ]
    },
    {
      "cell_type": "code",
      "metadata": {
        "id": "Nd5vSzpX7A4e",
        "colab_type": "code",
        "colab": {}
      },
      "source": [
        "#Step 5.\n",
        "state_data.to_csv('state_data.csv', index=False)"
      ],
      "execution_count": 0,
      "outputs": []
    },
    {
      "cell_type": "code",
      "metadata": {
        "id": "1vlhDewR7G3u",
        "colab_type": "code",
        "colab": {}
      },
      "source": [
        "files.download('state_data.csv')"
      ],
      "execution_count": 0,
      "outputs": []
    },
    {
      "cell_type": "markdown",
      "metadata": {
        "id": "V3O7-pvMcnQ8",
        "colab_type": "text"
      },
      "source": [
        "Now that you have the state information in .csv format, you can analyze it with any tool you know how to use:\n",
        "- Excel\n",
        "- visualization tools like Tableau\n",
        "- additional Python code"
      ]
    },
    {
      "cell_type": "markdown",
      "metadata": {
        "id": "lRb0Qr3oZqFu",
        "colab_type": "text"
      },
      "source": [
        "<img src=\"https://drive.google.com/uc?export=view&id=1DzGWG2ZiMDuh4f4ZSQJiA85q-rs6FRYl\"  alt=\"warning\" height=\"20\"/> Note: If you DID gather information for all 50 states, you would find one missing value: Kansas's date admitted.  After visiting/inspecting the Wiki page for [Kansas](https://en.wikipedia.org/wiki/Kansas), do you see why? How could you fix the data extraction function to account for this issue?"
      ]
    },
    {
      "cell_type": "markdown",
      "metadata": {
        "id": "b7nCMJYchdjJ",
        "colab_type": "text"
      },
      "source": [
        "### Systematically named pages"
      ]
    },
    {
      "cell_type": "markdown",
      "metadata": {
        "id": "e9s1-1k7ooqH",
        "colab_type": "text"
      },
      "source": [
        "For many web scraping projects, you will begin by collecting links from a links page.  Other times you might be able to devise a pattern in the URLs that you can exploit."
      ]
    },
    {
      "cell_type": "markdown",
      "metadata": {
        "id": "YTCHKBFQ2ymV",
        "colab_type": "text"
      },
      "source": [
        "**Example: Billboard Year-End Hot 100**\n",
        "\n",
        "The _Billboard_ Hot 100 chart is well known for tracking the success of music singles within the US.  At the end of each year, Billboard compiles a list of the top 100 performing songs throughout the year based on the information from Hot 100 charts.  Wikipedia displays this information as an article here: https://en.wikipedia.org/wiki/Billboard_Year-End_Hot_100_singles_of_2019\n",
        "\n",
        "How might we compile a list of the most popular song for each year since 2010?"
      ]
    },
    {
      "cell_type": "code",
      "metadata": {
        "id": "ZXpXULZfhji9",
        "colab_type": "code",
        "colab": {}
      },
      "source": [
        "top_hits = []\n",
        "\n",
        "for year in range(2010, 2020):\n",
        "\n",
        "  #Build URL for each year\n",
        "  base_url = 'https://en.wikipedia.org/wiki/Billboard_Year-End_Hot_100_singles_of_'\n",
        "  url = base_url + str(year)\n",
        "  print(url)\n",
        "\n",
        "  page = requests.get(url).text\n",
        "  soup = bs(page)\n",
        "\n",
        "  #Grab top hit text and link\n",
        "  top_hit = soup.find('table', class_='wikitable').find('td')\n",
        "  top_hit_text = top_hit.text\n",
        "  try:\n",
        "    top_hit_link = top_hit.find('a')['href']\n",
        "  except:\n",
        "    top_hit_link = None\n",
        "  \n",
        "  #Store results as list of tuples\n",
        "  top_hits.append((year, top_hit_text, top_hit_link))\n",
        "\n",
        "  #Be sure to pause\n",
        "  time.sleep(1)"
      ],
      "execution_count": 0,
      "outputs": []
    },
    {
      "cell_type": "code",
      "metadata": {
        "id": "aEG-pLW4t-J1",
        "colab_type": "code",
        "colab": {}
      },
      "source": [
        "top_hits"
      ],
      "execution_count": 0,
      "outputs": []
    },
    {
      "cell_type": "markdown",
      "metadata": {
        "id": "isRTu8yiiH0s",
        "colab_type": "text"
      },
      "source": [
        "# Mini Projects"
      ]
    },
    {
      "cell_type": "markdown",
      "metadata": {
        "id": "yM1CBfm7iKQB",
        "colab_type": "text"
      },
      "source": [
        "To practice putting together all of the skills you have learned today, you will be working on your very own mini project.  \n",
        "\n",
        "<img src=\"https://drive.google.com/uc?export=view&id=1b88t_6cp1ozWJydV1CyN2k0ZAyPTZh1V\"  alt=\"tip\" height=\"22\"/> Some project advise before getting started:\n",
        "- **Start small and scale up.**  Make sure your code is working on one page before you try to request information from a ton of links.\n",
        "- **Think through data storage before scaling up.** How will you store the information so you can perform analyses on the data you collect?\n",
        "- **Safeguard against missing values.** It is so annoying when a scraping loop breaks on the last link and all other information is lost...\n",
        "- **Pause for 1+ seconds between requests.** Let's try to not get banned from Wikipedia!\n",
        "\n",
        "With those tips in mind, let's get started on a mini project.  Further directions and project ideas can be found here: https://github.com/kimfetti/Conferences/blob/master/PyCon_2020/mini_project_ideas.md"
      ]
    },
    {
      "cell_type": "markdown",
      "metadata": {
        "id": "PQ5qdEBVf-Mt",
        "colab_type": "text"
      },
      "source": [
        "---\n",
        "\n",
        "# Solutions"
      ]
    },
    {
      "cell_type": "markdown",
      "metadata": {
        "id": "yz-bc4uwU_q3",
        "colab_type": "text"
      },
      "source": [
        "<img src=\"https://drive.google.com/uc?export=view&id=18s6CjUtjr0M24K57uMdtmXvK5TrV34Tv\"  alt=\"exercise\" height=\"20\"/> **Class Exercise - Disambiguation link**  <br>\n",
        ">Let's try to extract this disambiguation link by inspecting the source code and then using `BeautifulSoup`.  "
      ]
    },
    {
      "cell_type": "code",
      "metadata": {
        "id": "7yJfk0jwf_OL",
        "colab_type": "code",
        "colab": {}
      },
      "source": [
        "soup.find(class_='mw-disambig')"
      ],
      "execution_count": 0,
      "outputs": []
    },
    {
      "cell_type": "code",
      "metadata": {
        "id": "aloiqhErVIWl",
        "colab_type": "code",
        "colab": {}
      },
      "source": [
        "soup.find(class_='mw-disambig')['href']"
      ],
      "execution_count": 0,
      "outputs": []
    },
    {
      "cell_type": "markdown",
      "metadata": {
        "id": "MvFWLwEA-FWN",
        "colab_type": "text"
      },
      "source": [
        "<img src=\"https://drive.google.com/uc?export=view&id=18s6CjUtjr0M24K57uMdtmXvK5TrV34Tv\"  alt=\"exercise\" height=\"20\"/> **Exercise 1 - Longitute, Latitude**  <br>\n",
        ">How would you retrieve Pennsylvania's longitude and latitude coordinates from this page?\n",
        "\n",
        "<center>\n",
        "<img src=\"https://drive.google.com/uc?export=view&id=1N43WC3jwFpV80L7-iLnEZi8aCQZtWcd3\"  alt=\"coordinates\" width=\"600\"/>\n",
        "</center>\n",
        "\n",
        "_Hint: Right click the coordinates directly and then select inspect._"
      ]
    },
    {
      "cell_type": "code",
      "metadata": {
        "id": "PdAflwzDVLaf",
        "colab_type": "code",
        "colab": {}
      },
      "source": [
        "soup.find(class_='geo-dec').text"
      ],
      "execution_count": 0,
      "outputs": []
    },
    {
      "cell_type": "markdown",
      "metadata": {
        "id": "w_igE3BGf5gn",
        "colab_type": "text"
      },
      "source": [
        "<img src=\"https://drive.google.com/uc?export=view&id=18s6CjUtjr0M24K57uMdtmXvK5TrV34Tv\"  alt=\"exercise\" height=\"20\"/> **Exercise 2 - Capital City**  <br>\n",
        ">Write code to extract the capital of Pennsylvania from the main table without using list positions."
      ]
    },
    {
      "cell_type": "code",
      "metadata": {
        "id": "ptQkf-Mi-JwH",
        "colab_type": "code",
        "colab": {}
      },
      "source": [
        "soup.find(text='Capital')"
      ],
      "execution_count": 0,
      "outputs": []
    },
    {
      "cell_type": "code",
      "metadata": {
        "id": "YaH8WcFpgSDV",
        "colab_type": "code",
        "colab": {}
      },
      "source": [
        "soup.find(text='Capital').next"
      ],
      "execution_count": 0,
      "outputs": []
    },
    {
      "cell_type": "code",
      "metadata": {
        "id": "RmI1_jY1gVdr",
        "colab_type": "code",
        "colab": {}
      },
      "source": [
        "soup.find(text='Capital').next.text"
      ],
      "execution_count": 0,
      "outputs": []
    },
    {
      "cell_type": "markdown",
      "metadata": {
        "id": "JtQcBcP4gezo",
        "colab_type": "text"
      },
      "source": [
        "<img src=\"https://drive.google.com/uc?export=view&id=18s6CjUtjr0M24K57uMdtmXvK5TrV34Tv\"  alt=\"exercise\" height=\"20\"/> **Exercise 3 - Reference Links**  <br>\n",
        "> Print out the text of the first three references (at the bottom of the page).  For an added bonus: can you also print all the external links from these three references?"
      ]
    },
    {
      "cell_type": "code",
      "metadata": {
        "id": "ksaAfA-ogcJ4",
        "colab_type": "code",
        "colab": {}
      },
      "source": [
        "references = soup.find(class_='reflist').find_all('li')[:3]\n",
        "\n",
        "for ref in references:\n",
        "  print(ref.text)"
      ],
      "execution_count": 0,
      "outputs": []
    },
    {
      "cell_type": "code",
      "metadata": {
        "id": "5TiE_XM_gpAU",
        "colab_type": "code",
        "colab": {}
      },
      "source": [
        "for ref in references:\n",
        "  for link in ref.find_all('a', class_='external'):\n",
        "    print(link['href'])"
      ],
      "execution_count": 0,
      "outputs": []
    },
    {
      "cell_type": "markdown",
      "metadata": {
        "id": "1P95ywRjN1UR",
        "colab_type": "text"
      },
      "source": [
        "<img src=\"https://drive.google.com/uc?export=view&id=18s6CjUtjr0M24K57uMdtmXvK5TrV34Tv\"  alt=\"exercise\" height=\"20\"/> **Exercise 4 - Median Household Income - Part I**  <br>\n",
        ">Get the median household income for the state of Pennsylvania as a text string and then as an integer."
      ]
    },
    {
      "cell_type": "code",
      "metadata": {
        "id": "aizT6cEtgyaA",
        "colab_type": "code",
        "colab": {}
      },
      "source": [
        "mhi_text = soup.find(text='Median household income').next.next.text\n",
        "\n",
        "mhi_text"
      ],
      "execution_count": 0,
      "outputs": []
    },
    {
      "cell_type": "code",
      "metadata": {
        "id": "D7eeLcmZN5Xv",
        "colab_type": "code",
        "colab": {}
      },
      "source": [
        "mhi = to_int(mhi_text)\n",
        "\n",
        "mhi"
      ],
      "execution_count": 0,
      "outputs": []
    },
    {
      "cell_type": "markdown",
      "metadata": {
        "id": "iECwH9MAO-Ab",
        "colab_type": "text"
      },
      "source": [
        "<img src=\"https://drive.google.com/uc?export=view&id=18s6CjUtjr0M24K57uMdtmXvK5TrV34Tv\"  alt=\"exercise\" height=\"20\"/> **Exercise 5 - Median Household Income - Part II**  <br>\n",
        "> Update `state_df` to include median household income. \n",
        "\n",
        "_(Hint: One you can do this: add median household income to `penn_dict` and recreate `state_df`.)_"
      ]
    },
    {
      "cell_type": "code",
      "metadata": {
        "id": "b-wSVs1GPln9",
        "colab_type": "code",
        "colab": {}
      },
      "source": [
        "penn_dict['median_household_income'] = mhi_int"
      ],
      "execution_count": 0,
      "outputs": []
    },
    {
      "cell_type": "code",
      "metadata": {
        "id": "-BHdEYN_PpJF",
        "colab_type": "code",
        "colab": {}
      },
      "source": [
        "penn_df = pd.DataFrame([penn_dict])\n",
        "\n",
        "penn_df"
      ],
      "execution_count": 0,
      "outputs": []
    },
    {
      "cell_type": "code",
      "metadata": {
        "id": "Qrk6SxP-P57R",
        "colab_type": "code",
        "colab": {}
      },
      "source": [
        "# #Alternatively...\n",
        "\n",
        "# state_df['median_household_income'] = [mhi_int]"
      ],
      "execution_count": 0,
      "outputs": []
    },
    {
      "cell_type": "code",
      "metadata": {
        "id": "CDOVrJxpP6lZ",
        "colab_type": "code",
        "colab": {}
      },
      "source": [
        ""
      ],
      "execution_count": 0,
      "outputs": []
    }
  ]
}